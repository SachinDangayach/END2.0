{
  "nbformat": 4,
  "nbformat_minor": 0,
  "metadata": {
    "colab": {
      "name": "Session5.ipynb",
      "provenance": [],
      "toc_visible": true
    },
    "kernelspec": {
      "name": "python3",
      "display_name": "Python 3"
    },
    "language_info": {
      "name": "python"
    },
    "accelerator": "GPU"
  },
  "cells": [
    {
      "cell_type": "code",
      "metadata": {
        "colab": {
          "base_uri": "https://localhost:8080/"
        },
        "id": "LmoCHmEib0Jl",
        "outputId": "ddca5e57-f817-48ed-f86a-60466affeab2"
      },
      "source": [
        "!! pip install pytreebank==0.2.7\n"
      ],
      "execution_count": 1,
      "outputs": [
        {
          "output_type": "execute_result",
          "data": {
            "text/plain": [
              "['Collecting pytreebank==0.2.7',\n",
              " '  Downloading https://files.pythonhosted.org/packages/e0/12/626ead6f6c0a0a9617396796b965961e9dfa5e78b36c17a81ea4c43554b1/pytreebank-0.2.7.tar.gz',\n",
              " 'Building wheels for collected packages: pytreebank',\n",
              " '  Building wheel for pytreebank (setup.py) ... \\x1b[?25l\\x1b[?25hdone',\n",
              " '  Created wheel for pytreebank: filename=pytreebank-0.2.7-cp37-none-any.whl size=37070 sha256=1b2efaa1309e579b74acf1547447131e787fdca1e64f8ca255681bed853ef9f5',\n",
              " '  Stored in directory: /root/.cache/pip/wheels/e0/b6/91/e9edcdbf464f623628d5c3aa9de28888c726e270b9a29f2368',\n",
              " 'Successfully built pytreebank',\n",
              " 'Installing collected packages: pytreebank',\n",
              " 'Successfully installed pytreebank-0.2.7']"
            ]
          },
          "metadata": {
            "tags": []
          },
          "execution_count": 1
        }
      ]
    },
    {
      "cell_type": "code",
      "metadata": {
        "colab": {
          "base_uri": "https://localhost:8080/"
        },
        "id": "ZT7ds2A9z7d1",
        "outputId": "664202e5-6ba9-4c33-c3dc-74c9911ff587"
      },
      "source": [
        "!pip install google_trans_new"
      ],
      "execution_count": 2,
      "outputs": [
        {
          "output_type": "stream",
          "text": [
            "Collecting google_trans_new\n",
            "  Downloading https://files.pythonhosted.org/packages/f9/7b/9f136106dc5824dc98185c97991d3cd9b53e70a197154dd49f7b899128f6/google_trans_new-1.1.9-py3-none-any.whl\n",
            "Installing collected packages: google-trans-new\n",
            "Successfully installed google-trans-new-1.1.9\n"
          ],
          "name": "stdout"
        }
      ]
    },
    {
      "cell_type": "code",
      "metadata": {
        "colab": {
          "base_uri": "https://localhost:8080/"
        },
        "id": "2zchsfLscDnD",
        "outputId": "b62e1b61-803f-45a1-e2fe-27b23fb23200"
      },
      "source": [
        "import torch\n",
        "import torch.nn as nn\n",
        "import torch.optim as optim\n",
        "\n",
        "import torchtext.legacy\n",
        "from torchtext import datasets\n",
        "\n",
        "import re\n",
        "import pandas as pd\n",
        "import seaborn as sns\n",
        "from matplotlib import pyplot as plt\n",
        "\n",
        "import spacy\n",
        "import nltk\n",
        "from nltk.corpus import stopwords, wordnet\n",
        "nltk.download('wordnet')\n",
        "nltk.download('stopwords')\n",
        "\n",
        "import pytreebank\n",
        "\n",
        "import google_trans_new \n",
        "from google_trans_new import google_translator  \n",
        "import random\n",
        "\n",
        "#from sklearn.model_selection import train_test_split\n",
        "\n",
        "import os, pickle"
      ],
      "execution_count": 3,
      "outputs": [
        {
          "output_type": "stream",
          "text": [
            "[nltk_data] Downloading package wordnet to /root/nltk_data...\n",
            "[nltk_data]   Unzipping corpora/wordnet.zip.\n",
            "[nltk_data] Downloading package stopwords to /root/nltk_data...\n",
            "[nltk_data]   Unzipping corpora/stopwords.zip.\n"
          ],
          "name": "stdout"
        }
      ]
    },
    {
      "cell_type": "markdown",
      "metadata": {
        "id": "hHnbhJDCb09b"
      },
      "source": [
        "## Get Dataset"
      ]
    },
    {
      "cell_type": "code",
      "metadata": {
        "id": "c_7Qh3W4b7Rc"
      },
      "source": [
        "# load the sentiment treebank corpus in the parenthesis format,\n",
        "# [\"very negative\", \"negative\", \"neutral\", \"positive\", \"very positive\"][label]\n",
        "dataset = pytreebank.load_sst()"
      ],
      "execution_count": 4,
      "outputs": []
    },
    {
      "cell_type": "code",
      "metadata": {
        "id": "TMOU5zzscCwD"
      },
      "source": [
        "data_train = [example.to_labeled_lines()[0] for example in dataset[\"train\"]]\n",
        "data_test = [example.to_labeled_lines()[0] for example in dataset[\"test\"]]"
      ],
      "execution_count": 5,
      "outputs": []
    },
    {
      "cell_type": "code",
      "metadata": {
        "colab": {
          "base_uri": "https://localhost:8080/"
        },
        "id": "ROQv1OrxcVWB",
        "outputId": "7f9d2600-fe05-45b8-fc54-89c61331b1f2"
      },
      "source": [
        "len(data_train), len(data_test)"
      ],
      "execution_count": 6,
      "outputs": [
        {
          "output_type": "execute_result",
          "data": {
            "text/plain": [
              "(8544, 2210)"
            ]
          },
          "metadata": {
            "tags": []
          },
          "execution_count": 6
        }
      ]
    },
    {
      "cell_type": "code",
      "metadata": {
        "id": "l_owf9lccWUR"
      },
      "source": [
        "train = pd.DataFrame(data_train, columns = ['label', 'sentence'])\n",
        "test = pd.DataFrame(data_test, columns = ['label', 'sentence'])"
      ],
      "execution_count": 7,
      "outputs": []
    },
    {
      "cell_type": "code",
      "metadata": {
        "colab": {
          "base_uri": "https://localhost:8080/",
          "height": 204
        },
        "id": "BTq4etqYccCU",
        "outputId": "97b4b50a-3021-4d2f-cd86-83e5b77194fd"
      },
      "source": [
        "train.head()"
      ],
      "execution_count": 8,
      "outputs": [
        {
          "output_type": "execute_result",
          "data": {
            "text/html": [
              "<div>\n",
              "<style scoped>\n",
              "    .dataframe tbody tr th:only-of-type {\n",
              "        vertical-align: middle;\n",
              "    }\n",
              "\n",
              "    .dataframe tbody tr th {\n",
              "        vertical-align: top;\n",
              "    }\n",
              "\n",
              "    .dataframe thead th {\n",
              "        text-align: right;\n",
              "    }\n",
              "</style>\n",
              "<table border=\"1\" class=\"dataframe\">\n",
              "  <thead>\n",
              "    <tr style=\"text-align: right;\">\n",
              "      <th></th>\n",
              "      <th>label</th>\n",
              "      <th>sentence</th>\n",
              "    </tr>\n",
              "  </thead>\n",
              "  <tbody>\n",
              "    <tr>\n",
              "      <th>0</th>\n",
              "      <td>3</td>\n",
              "      <td>The Rock is destined to be the 21st Century 's...</td>\n",
              "    </tr>\n",
              "    <tr>\n",
              "      <th>1</th>\n",
              "      <td>4</td>\n",
              "      <td>The gorgeously elaborate continuation of `` Th...</td>\n",
              "    </tr>\n",
              "    <tr>\n",
              "      <th>2</th>\n",
              "      <td>3</td>\n",
              "      <td>Singer/composer Bryan Adams contributes a slew...</td>\n",
              "    </tr>\n",
              "    <tr>\n",
              "      <th>3</th>\n",
              "      <td>2</td>\n",
              "      <td>You 'd think by now America would have had eno...</td>\n",
              "    </tr>\n",
              "    <tr>\n",
              "      <th>4</th>\n",
              "      <td>3</td>\n",
              "      <td>Yet the act is still charming here .</td>\n",
              "    </tr>\n",
              "  </tbody>\n",
              "</table>\n",
              "</div>"
            ],
            "text/plain": [
              "   label                                           sentence\n",
              "0      3  The Rock is destined to be the 21st Century 's...\n",
              "1      4  The gorgeously elaborate continuation of `` Th...\n",
              "2      3  Singer/composer Bryan Adams contributes a slew...\n",
              "3      2  You 'd think by now America would have had eno...\n",
              "4      3               Yet the act is still charming here ."
            ]
          },
          "metadata": {
            "tags": []
          },
          "execution_count": 8
        }
      ]
    },
    {
      "cell_type": "markdown",
      "metadata": {
        "id": "eGrp5qPjdYqE"
      },
      "source": [
        "## Augment Data"
      ]
    },
    {
      "cell_type": "markdown",
      "metadata": {
        "id": "3nJzZHJkdi4H"
      },
      "source": [
        "### Back Translation"
      ]
    },
    {
      "cell_type": "code",
      "metadata": {
        "id": "spRCfjjFbV8W"
      },
      "source": [
        "def back_translate(sentence):\n",
        "  \"\"\" Google translate the input sentence and translate back\"\"\"\n",
        "  available_langs = list(google_trans_new.LANGUAGES.keys()) \n",
        "  trans_lang = random.choice(available_langs) \n",
        "  translator = google_translator()  \n",
        "  translate_text = translator.translate(sentence,lang_tgt=trans_lang) \n",
        "  translate_back = translator.translate(translate_text,lang_tgt='en')\n",
        "\n",
        "  return (translate_back)"
      ],
      "execution_count": 9,
      "outputs": []
    },
    {
      "cell_type": "code",
      "metadata": {
        "id": "t0QNEp37cKcy"
      },
      "source": [
        "# test function \n",
        "sentence = ' Pulling out the classic Amazon Mechanical Turk workers, the authors presented these phrases in a random order and asked annotators to indicate the sentiment and degree of sentiment for each phrase using a slider.'\n",
        "text = back_translate(sentence)"
      ],
      "execution_count": 10,
      "outputs": []
    },
    {
      "cell_type": "code",
      "metadata": {
        "colab": {
          "base_uri": "https://localhost:8080/"
        },
        "id": "Mc26RHtBcYUn",
        "outputId": "b44ade1a-3261-4ec9-dfde-5c78ef37ee93"
      },
      "source": [
        "print(text)"
      ],
      "execution_count": 11,
      "outputs": [
        {
          "output_type": "stream",
          "text": [
            "The drawing of classical amazon mechanical workers, the authors presented these phrases in random order and requested annotators to indicate the feeling and degree of sentiment for each phrase using the slider. \n"
          ],
          "name": "stdout"
        }
      ]
    },
    {
      "cell_type": "markdown",
      "metadata": {
        "id": "gdV2JNde1Cks"
      },
      "source": [
        "### Random Deletion\n",
        "As the name suggests, random deletion deletes words from a sentence. Given a probability parameter p, it will go through the sentence and decide whether to delete a word or not based on that random probability. Consider of it as pixel dropouts while treating images."
      ]
    },
    {
      "cell_type": "code",
      "metadata": {
        "id": "s4YyOI9lca5L"
      },
      "source": [
        "def random_deletion(sentence, p=0.5): \n",
        "    words = sentence.split()\n",
        "    if len(words) == 1: # return if single word\n",
        "        return words\n",
        "    remaining = list(filter(lambda x: random.uniform(0,1) > p,words)) \n",
        "    if len(remaining) == 0: # if not left, sample a random word\n",
        "        return [random.choice(words)] \n",
        "    else:\n",
        "        return (' '.join(remaining))"
      ],
      "execution_count": 12,
      "outputs": []
    },
    {
      "cell_type": "code",
      "metadata": {
        "id": "US0cR6ie1oWx"
      },
      "source": [
        "test_rd = random_deletion(sentence, p=0.5)"
      ],
      "execution_count": 13,
      "outputs": []
    },
    {
      "cell_type": "code",
      "metadata": {
        "colab": {
          "base_uri": "https://localhost:8080/",
          "height": 35
        },
        "id": "ZcMXQwKN1yTC",
        "outputId": "5ecea953-3891-446e-db1b-d74b8271fb2a"
      },
      "source": [
        "test_rd"
      ],
      "execution_count": 14,
      "outputs": [
        {
          "output_type": "execute_result",
          "data": {
            "application/vnd.google.colaboratory.intrinsic+json": {
              "type": "string"
            },
            "text/plain": [
              "'Pulling out classic Amazon the authors these phrases in a order annotators sentiment and degree sentiment slider.'"
            ]
          },
          "metadata": {
            "tags": []
          },
          "execution_count": 14
        }
      ]
    },
    {
      "cell_type": "markdown",
      "metadata": {
        "id": "4XuPV3G_3Ra-"
      },
      "source": [
        "### Random Swap\n",
        "The random swap augmentation takes a sentence and then swaps words within it n times, with each iteration working on the previously swapped sentence. Here we sample two random numbers based on the length of the sentence, and then just keep swapping until we hit n.\n",
        "\n"
      ]
    },
    {
      "cell_type": "code",
      "metadata": {
        "id": "XEBsTs_R3MzK"
      },
      "source": [
        "def random_swap(sentence, n=5): \n",
        "    words = sentence.split()\n",
        "    if len(words) == 1: # return if single word\n",
        "        return words\n",
        "    length = range(len(words)) \n",
        "    for _ in range(n):\n",
        "        idx1, idx2 = random.sample(length, 2)\n",
        "        words[idx1], words[idx2] = words[idx2], words[idx1] \n",
        "    return (' '.join(words))"
      ],
      "execution_count": 15,
      "outputs": []
    },
    {
      "cell_type": "code",
      "metadata": {
        "colab": {
          "base_uri": "https://localhost:8080/",
          "height": 52
        },
        "id": "1deJIPvk3nl2",
        "outputId": "917010e7-7aff-4bd6-8258-d0b75483cc2c"
      },
      "source": [
        "test_rs = random_swap(sentence, n=5)\n",
        "test_rs"
      ],
      "execution_count": 16,
      "outputs": [
        {
          "output_type": "execute_result",
          "data": {
            "application/vnd.google.colaboratory.intrinsic+json": {
              "type": "string"
            },
            "text/plain": [
              "'Pulling out the classic presented Mechanical Turk Amazon the authors a these phrases in workers, random order and asked annotators slider. indicate the each and degree of sentiment for sentiment phrase using a to'"
            ]
          },
          "metadata": {
            "tags": []
          },
          "execution_count": 16
        }
      ]
    },
    {
      "cell_type": "markdown",
      "metadata": {
        "id": "4vWVnAAF_uQy"
      },
      "source": [
        "## Random Insertion\n",
        "A random insertion technique looks at a sentence and then randomly inserts synonyms of existing non-stopwords into the sentence n times. Assuming you have a way of getting a synonym of a word and a way of eliminating stopwords (common words such as and, it, the, etc.)\n"
      ]
    },
    {
      "cell_type": "code",
      "metadata": {
        "id": "uIlCo8gd9rlJ"
      },
      "source": [
        "stop_words = set(stopwords.words('english'))\n",
        "\n",
        "def random_insertion(sentence, n=3): \n",
        "    words = sentence.split()\n",
        "    if len(words) == 1: # return if single word\n",
        "        return words\n",
        "    words = [w for w in words if not w.lower() in stop_words]\n",
        "    for _ in range(n):\n",
        "        word = random.choice(words)\n",
        "        synonym = wordnet.synsets(word)\n",
        "        if len(synonym) > 0:\n",
        "          sentence.replace(word, synonym[0].lemmas()[0].name())\n",
        "    return sentence"
      ],
      "execution_count": 17,
      "outputs": []
    },
    {
      "cell_type": "code",
      "metadata": {
        "colab": {
          "base_uri": "https://localhost:8080/",
          "height": 52
        },
        "id": "X2l_iIsQBSTU",
        "outputId": "5757b32c-2227-4f16-c64d-08deb8f9d3a3"
      },
      "source": [
        "test_ri = random_insertion(sentence, n=3)\n",
        "test_ri"
      ],
      "execution_count": 18,
      "outputs": [
        {
          "output_type": "execute_result",
          "data": {
            "application/vnd.google.colaboratory.intrinsic+json": {
              "type": "string"
            },
            "text/plain": [
              "' Pulling out the classic Amazon Mechanical Turk workers, the authors presented these phrases in a random order and asked annotators to indicate the sentiment and degree of sentiment for each phrase using a slider.'"
            ]
          },
          "metadata": {
            "tags": []
          },
          "execution_count": 18
        }
      ]
    },
    {
      "cell_type": "markdown",
      "metadata": {
        "id": "_wSiWWA3JA4q"
      },
      "source": [
        "## Generate Augmented Data"
      ]
    },
    {
      "cell_type": "code",
      "metadata": {
        "id": "cn5GYnmDB7ka"
      },
      "source": [
        "# Back Translate\n",
        "df_part1 = train.sample( frac=.05)\n",
        "df_part1['sentence'] = df_part1['sentence'].apply(lambda x: back_translate(x))\n",
        "df_part1.head()"
      ],
      "execution_count": 19,
      "outputs": []
    },
    {
      "cell_type": "code",
      "metadata": {
        "colab": {
          "base_uri": "https://localhost:8080/",
          "height": 204
        },
        "id": "BDTsH4ZYTKP0",
        "outputId": "398aad05-ce27-4d68-f287-083803fb2de0"
      },
      "source": [
        "# Random Deletion\n",
        "df_part2 = train.sample(frac=.5)\n",
        "df_part2 ['sentence'] = df_part2['sentence'].apply(lambda x: random_deletion(x))\n",
        "df_part2.head()"
      ],
      "execution_count": 20,
      "outputs": [
        {
          "output_type": "execute_result",
          "data": {
            "text/html": [
              "<div>\n",
              "<style scoped>\n",
              "    .dataframe tbody tr th:only-of-type {\n",
              "        vertical-align: middle;\n",
              "    }\n",
              "\n",
              "    .dataframe tbody tr th {\n",
              "        vertical-align: top;\n",
              "    }\n",
              "\n",
              "    .dataframe thead th {\n",
              "        text-align: right;\n",
              "    }\n",
              "</style>\n",
              "<table border=\"1\" class=\"dataframe\">\n",
              "  <thead>\n",
              "    <tr style=\"text-align: right;\">\n",
              "      <th></th>\n",
              "      <th>label</th>\n",
              "      <th>sentence</th>\n",
              "    </tr>\n",
              "  </thead>\n",
              "  <tbody>\n",
              "    <tr>\n",
              "      <th>5374</th>\n",
              "      <td>1</td>\n",
              "      <td>It long bore</td>\n",
              "    </tr>\n",
              "    <tr>\n",
              "      <th>5297</th>\n",
              "      <td>0</td>\n",
              "      <td>Contrived , unintended the shows someone than ...</td>\n",
              "    </tr>\n",
              "    <tr>\n",
              "      <th>2116</th>\n",
              "      <td>3</td>\n",
              "      <td>'re out marathons and with A , might the movie...</td>\n",
              "    </tr>\n",
              "    <tr>\n",
              "      <th>3279</th>\n",
              "      <td>4</td>\n",
              "      <td>'s the kind of effectively that has corner of ...</td>\n",
              "    </tr>\n",
              "    <tr>\n",
              "      <th>2335</th>\n",
              "      <td>3</td>\n",
              "      <td>film with a more down-home flavor .</td>\n",
              "    </tr>\n",
              "  </tbody>\n",
              "</table>\n",
              "</div>"
            ],
            "text/plain": [
              "      label                                           sentence\n",
              "5374      1                                       It long bore\n",
              "5297      0  Contrived , unintended the shows someone than ...\n",
              "2116      3  're out marathons and with A , might the movie...\n",
              "3279      4  's the kind of effectively that has corner of ...\n",
              "2335      3                film with a more down-home flavor ."
            ]
          },
          "metadata": {
            "tags": []
          },
          "execution_count": 20
        }
      ]
    },
    {
      "cell_type": "code",
      "metadata": {
        "colab": {
          "base_uri": "https://localhost:8080/",
          "height": 204
        },
        "id": "k9G2xAD1TKZ9",
        "outputId": "70b08b48-3b1e-4f03-9931-5ad8bcc0d664"
      },
      "source": [
        "# Random Swap\n",
        "df_part3 = train.sample(frac=.5)\n",
        "df_part3 ['sentence'] = df_part3['sentence'].apply(lambda x: random_swap(x))\n",
        "df_part3.head()"
      ],
      "execution_count": 21,
      "outputs": [
        {
          "output_type": "execute_result",
          "data": {
            "text/html": [
              "<div>\n",
              "<style scoped>\n",
              "    .dataframe tbody tr th:only-of-type {\n",
              "        vertical-align: middle;\n",
              "    }\n",
              "\n",
              "    .dataframe tbody tr th {\n",
              "        vertical-align: top;\n",
              "    }\n",
              "\n",
              "    .dataframe thead th {\n",
              "        text-align: right;\n",
              "    }\n",
              "</style>\n",
              "<table border=\"1\" class=\"dataframe\">\n",
              "  <thead>\n",
              "    <tr style=\"text-align: right;\">\n",
              "      <th></th>\n",
              "      <th>label</th>\n",
              "      <th>sentence</th>\n",
              "    </tr>\n",
              "  </thead>\n",
              "  <tbody>\n",
              "    <tr>\n",
              "      <th>5431</th>\n",
              "      <td>3</td>\n",
              "      <td>It than better The 's Menace Phantom .</td>\n",
              "    </tr>\n",
              "    <tr>\n",
              "      <th>4405</th>\n",
              "      <td>1</td>\n",
              "      <td>It 's mildly interesting to ponder the peculia...</td>\n",
              "    </tr>\n",
              "    <tr>\n",
              "      <th>4439</th>\n",
              "      <td>0</td>\n",
              "      <td>As mile over-the-top John , has trash beat mov...</td>\n",
              "    </tr>\n",
              "    <tr>\n",
              "      <th>1773</th>\n",
              "      <td>3</td>\n",
              "      <td>even is seems to have directly how this girl-m...</td>\n",
              "    </tr>\n",
              "    <tr>\n",
              "      <th>616</th>\n",
              "      <td>3</td>\n",
              "      <td>In all for , I must report that children the o...</td>\n",
              "    </tr>\n",
              "  </tbody>\n",
              "</table>\n",
              "</div>"
            ],
            "text/plain": [
              "      label                                           sentence\n",
              "5431      3             It than better The 's Menace Phantom .\n",
              "4405      1  It 's mildly interesting to ponder the peculia...\n",
              "4439      0  As mile over-the-top John , has trash beat mov...\n",
              "1773      3  even is seems to have directly how this girl-m...\n",
              "616       3  In all for , I must report that children the o..."
            ]
          },
          "metadata": {
            "tags": []
          },
          "execution_count": 21
        }
      ]
    },
    {
      "cell_type": "code",
      "metadata": {
        "colab": {
          "base_uri": "https://localhost:8080/",
          "height": 204
        },
        "id": "dZ8d1MLneIYE",
        "outputId": "0b90ce59-65b6-47ce-9c2e-41305e4afe2a"
      },
      "source": [
        "# Random Insertion\n",
        "df_part4 = train.sample(frac=.5)\n",
        "df_part4 ['sentence'] = df_part4['sentence'].apply(lambda x: random_insertion(x))\n",
        "df_part4.head()"
      ],
      "execution_count": 22,
      "outputs": [
        {
          "output_type": "execute_result",
          "data": {
            "text/html": [
              "<div>\n",
              "<style scoped>\n",
              "    .dataframe tbody tr th:only-of-type {\n",
              "        vertical-align: middle;\n",
              "    }\n",
              "\n",
              "    .dataframe tbody tr th {\n",
              "        vertical-align: top;\n",
              "    }\n",
              "\n",
              "    .dataframe thead th {\n",
              "        text-align: right;\n",
              "    }\n",
              "</style>\n",
              "<table border=\"1\" class=\"dataframe\">\n",
              "  <thead>\n",
              "    <tr style=\"text-align: right;\">\n",
              "      <th></th>\n",
              "      <th>label</th>\n",
              "      <th>sentence</th>\n",
              "    </tr>\n",
              "  </thead>\n",
              "  <tbody>\n",
              "    <tr>\n",
              "      <th>1100</th>\n",
              "      <td>3</td>\n",
              "      <td>Alternately hilarious and sad , aggravating an...</td>\n",
              "    </tr>\n",
              "    <tr>\n",
              "      <th>6260</th>\n",
              "      <td>2</td>\n",
              "      <td>If you adored The Full Monty so resoundingly t...</td>\n",
              "    </tr>\n",
              "    <tr>\n",
              "      <th>5758</th>\n",
              "      <td>1</td>\n",
              "      <td>Any rock pile will do for a set .</td>\n",
              "    </tr>\n",
              "    <tr>\n",
              "      <th>5668</th>\n",
              "      <td>2</td>\n",
              "      <td>but ` Why ? '</td>\n",
              "    </tr>\n",
              "    <tr>\n",
              "      <th>6665</th>\n",
              "      <td>1</td>\n",
              "      <td>Strictly a ` guy 's film ' in the worst sense ...</td>\n",
              "    </tr>\n",
              "  </tbody>\n",
              "</table>\n",
              "</div>"
            ],
            "text/plain": [
              "      label                                           sentence\n",
              "1100      3  Alternately hilarious and sad , aggravating an...\n",
              "6260      2  If you adored The Full Monty so resoundingly t...\n",
              "5758      1                  Any rock pile will do for a set .\n",
              "5668      2                                      but ` Why ? '\n",
              "6665      1  Strictly a ` guy 's film ' in the worst sense ..."
            ]
          },
          "metadata": {
            "tags": []
          },
          "execution_count": 22
        }
      ]
    },
    {
      "cell_type": "code",
      "metadata": {
        "id": "5p3xzrW_RUx7"
      },
      "source": [
        "# train_final = pd.concat([train,df_part1,df_part2,df_part3, df_part4], ignore_index=True)\n",
        "train_final = pd.concat([train,df_part2,df_part3, df_part4], ignore_index=True)"
      ],
      "execution_count": 23,
      "outputs": []
    },
    {
      "cell_type": "code",
      "metadata": {
        "colab": {
          "base_uri": "https://localhost:8080/"
        },
        "id": "GtuxXHUGSISI",
        "outputId": "c8c4226f-45f2-475c-e1dc-16e7bbb9a072"
      },
      "source": [
        "train_final.shape"
      ],
      "execution_count": 24,
      "outputs": [
        {
          "output_type": "execute_result",
          "data": {
            "text/plain": [
              "(21360, 2)"
            ]
          },
          "metadata": {
            "tags": []
          },
          "execution_count": 24
        }
      ]
    },
    {
      "cell_type": "code",
      "metadata": {
        "colab": {
          "base_uri": "https://localhost:8080/",
          "height": 204
        },
        "id": "jqzKWEvisFGI",
        "outputId": "9963ede0-7de0-4ae2-ac9d-691b28202221"
      },
      "source": [
        "train_final.head()"
      ],
      "execution_count": 25,
      "outputs": [
        {
          "output_type": "execute_result",
          "data": {
            "text/html": [
              "<div>\n",
              "<style scoped>\n",
              "    .dataframe tbody tr th:only-of-type {\n",
              "        vertical-align: middle;\n",
              "    }\n",
              "\n",
              "    .dataframe tbody tr th {\n",
              "        vertical-align: top;\n",
              "    }\n",
              "\n",
              "    .dataframe thead th {\n",
              "        text-align: right;\n",
              "    }\n",
              "</style>\n",
              "<table border=\"1\" class=\"dataframe\">\n",
              "  <thead>\n",
              "    <tr style=\"text-align: right;\">\n",
              "      <th></th>\n",
              "      <th>label</th>\n",
              "      <th>sentence</th>\n",
              "    </tr>\n",
              "  </thead>\n",
              "  <tbody>\n",
              "    <tr>\n",
              "      <th>0</th>\n",
              "      <td>3</td>\n",
              "      <td>The Rock is destined to be the 21st Century 's...</td>\n",
              "    </tr>\n",
              "    <tr>\n",
              "      <th>1</th>\n",
              "      <td>4</td>\n",
              "      <td>The gorgeously elaborate continuation of `` Th...</td>\n",
              "    </tr>\n",
              "    <tr>\n",
              "      <th>2</th>\n",
              "      <td>3</td>\n",
              "      <td>Singer/composer Bryan Adams contributes a slew...</td>\n",
              "    </tr>\n",
              "    <tr>\n",
              "      <th>3</th>\n",
              "      <td>2</td>\n",
              "      <td>You 'd think by now America would have had eno...</td>\n",
              "    </tr>\n",
              "    <tr>\n",
              "      <th>4</th>\n",
              "      <td>3</td>\n",
              "      <td>Yet the act is still charming here .</td>\n",
              "    </tr>\n",
              "  </tbody>\n",
              "</table>\n",
              "</div>"
            ],
            "text/plain": [
              "   label                                           sentence\n",
              "0      3  The Rock is destined to be the 21st Century 's...\n",
              "1      4  The gorgeously elaborate continuation of `` Th...\n",
              "2      3  Singer/composer Bryan Adams contributes a slew...\n",
              "3      2  You 'd think by now America would have had eno...\n",
              "4      3               Yet the act is still charming here ."
            ]
          },
          "metadata": {
            "tags": []
          },
          "execution_count": 25
        }
      ]
    },
    {
      "cell_type": "code",
      "metadata": {
        "colab": {
          "base_uri": "https://localhost:8080/"
        },
        "id": "pXgYAENj1nzG",
        "outputId": "90e48d28-91fb-4758-e6a9-d4e9de1ac7c8"
      },
      "source": [
        "train_final['label'].value_counts()"
      ],
      "execution_count": 26,
      "outputs": [
        {
          "output_type": "execute_result",
          "data": {
            "text/plain": [
              "3    5845\n",
              "1    5492\n",
              "2    4068\n",
              "4    3245\n",
              "0    2710\n",
              "Name: label, dtype: int64"
            ]
          },
          "metadata": {
            "tags": []
          },
          "execution_count": 26
        }
      ]
    },
    {
      "cell_type": "markdown",
      "metadata": {
        "id": "ny1M5ogRQ9u4"
      },
      "source": [
        "### Serialize the dataframe "
      ]
    },
    {
      "cell_type": "code",
      "metadata": {
        "id": "R954Q6-_N6Ae"
      },
      "source": [
        "with open('train_final.pkl', 'wb') as train_set: \n",
        "    pickle.dump(train_final, train_set)"
      ],
      "execution_count": 28,
      "outputs": []
    },
    {
      "cell_type": "code",
      "metadata": {
        "colab": {
          "base_uri": "https://localhost:8080/",
          "height": 405
        },
        "id": "uttUzcxRQHA6",
        "outputId": "7406d174-0fd7-45a2-a8b9-3853cc076e6e"
      },
      "source": [
        "fig = plt.figure(figsize=(8,6))\n",
        "\n",
        "ax = sns.barplot(x=train_final['label'].unique(), y=train_final['label'].value_counts())\n",
        "\n",
        "ax.set(xlabel = 'Labels')"
      ],
      "execution_count": 27,
      "outputs": [
        {
          "output_type": "execute_result",
          "data": {
            "text/plain": [
              "[Text(0.5, 0, 'Labels')]"
            ]
          },
          "metadata": {
            "tags": []
          },
          "execution_count": 27
        },
        {
          "output_type": "display_data",
          "data": {
            "image/png": "[encoded data removed]",
            "text/plain": [
              "<Figure size 576x432 with 1 Axes>"
            ]
          },
          "metadata": {
            "tags": [],
            "needs_background": "light"
          }
        }
      ]
    },
    {
      "cell_type": "markdown",
      "metadata": {
        "id": "cPquZAU1Qr0D"
      },
      "source": [
        "### We have got imbalanced dataset, better to agument data in under populated classes"
      ]
    },
    {
      "cell_type": "markdown",
      "metadata": {
        "id": "e__2lMoaRTO3"
      },
      "source": [
        "### Tokenize the data"
      ]
    },
    {
      "cell_type": "code",
      "metadata": {
        "id": "Y2scpuA8VUzV"
      },
      "source": [
        "# train_final.to_csv('/content/session5', index=False) \n",
        "# test.to_csv('/content/session5',  index=False)\n",
        "\n",
        "# from google.colab import files\n",
        "\n",
        "train_final.to_csv('train_final.csv', index=False)\n",
        "test.to_csv('test.csv', index=False)\n",
        "# files.download('train_final.csv')\n",
        "# files.download('test.csv')"
      ],
      "execution_count": 28,
      "outputs": []
    },
    {
      "cell_type": "code",
      "metadata": {
        "id": "n0IDkXtNRwz-"
      },
      "source": [
        "def text_clean(text):\n",
        "  text = re.sub(r'[^A-Za-z0-9_-]+', ' ', text)\n",
        "  text = re.sub(r'https?:/\\/\\S+', ' ', text)\n",
        "\n",
        "  return(text.strip())"
      ],
      "execution_count": 29,
      "outputs": []
    },
    {
      "cell_type": "code",
      "metadata": {
        "id": "kZ3hvc78Qqd5"
      },
      "source": [
        "nlp = spacy.load('en', disable = ['parser', 'tagger', 'ner'])\n",
        "def tokenizer(s):\n",
        "  return [w.text.lower() for w in nlp(text_clean(s))]"
      ],
      "execution_count": 30,
      "outputs": []
    },
    {
      "cell_type": "code",
      "metadata": {
        "id": "uXG2fWidR7sc"
      },
      "source": [
        "TEXT = torchtext.legacy.data.Field(tokenize = tokenizer)\n",
        "\n",
        "LABEL = torchtext.legacy.data.LabelField(dtype = torch.float)"
      ],
      "execution_count": 31,
      "outputs": []
    },
    {
      "cell_type": "code",
      "metadata": {
        "id": "L0YT2fCIT984"
      },
      "source": [
        "datafields = [('label', LABEL), ('sentence', TEXT)]"
      ],
      "execution_count": 32,
      "outputs": []
    },
    {
      "cell_type": "code",
      "metadata": {
        "id": "Lzo4F_s7UCpO"
      },
      "source": [
        "trn, tst = torchtext.legacy.data.TabularDataset.splits(path='/content/session5',\n",
        "                                                       train = 'train_final.csv',\n",
        "                                                       test = 'test.csv',\n",
        "                                                       format = 'csv',\n",
        "                                                       skip_header = True,\n",
        "                                                       fields = datafields\n",
        "                                                       )"
      ],
      "execution_count": 33,
      "outputs": []
    },
    {
      "cell_type": "code",
      "metadata": {
        "colab": {
          "base_uri": "https://localhost:8080/"
        },
        "id": "6R1vyxlMWXrV",
        "outputId": "8c6fa14e-9333-4fa7-c476-f9cca1d85888"
      },
      "source": [
        "trn[:5]"
      ],
      "execution_count": 34,
      "outputs": [
        {
          "output_type": "execute_result",
          "data": {
            "text/plain": [
              "[<torchtext.legacy.data.example.Example at 0x7f6519495a90>,\n",
              " <torchtext.legacy.data.example.Example at 0x7f651a3d2890>,\n",
              " <torchtext.legacy.data.example.Example at 0x7f651a3d2ad0>,\n",
              " <torchtext.legacy.data.example.Example at 0x7f651a3d2a90>,\n",
              " <torchtext.legacy.data.example.Example at 0x7f65193a1450>]"
            ]
          },
          "metadata": {
            "tags": []
          },
          "execution_count": 34
        }
      ]
    },
    {
      "cell_type": "code",
      "metadata": {
        "colab": {
          "base_uri": "https://localhost:8080/"
        },
        "id": "GCPUYHcuaBba",
        "outputId": "13565fb2-8450-4aa9-e96e-d5b6f413d18b"
      },
      "source": [
        "print(f'Number of examples in training {len(trn)}')\n",
        "print(f'Number of examples in test {len(tst)}')"
      ],
      "execution_count": 35,
      "outputs": [
        {
          "output_type": "stream",
          "text": [
            "Number of examples in training 21360\n",
            "Number of examples in test 2210\n"
          ],
          "name": "stdout"
        }
      ]
    },
    {
      "cell_type": "code",
      "metadata": {
        "colab": {
          "base_uri": "https://localhost:8080/"
        },
        "id": "hIbChN6-aJHM",
        "outputId": "da82df28-7f2b-4fbf-c027-5f56110b50ba"
      },
      "source": [
        "trn[5].__dict__.keys()"
      ],
      "execution_count": 36,
      "outputs": [
        {
          "output_type": "execute_result",
          "data": {
            "text/plain": [
              "dict_keys(['label', 'sentence'])"
            ]
          },
          "metadata": {
            "tags": []
          },
          "execution_count": 36
        }
      ]
    },
    {
      "cell_type": "code",
      "metadata": {
        "colab": {
          "base_uri": "https://localhost:8080/"
        },
        "id": "MLRWs1_HaPcP",
        "outputId": "22988d6e-ff3b-45df-e79b-fd7867ef4830"
      },
      "source": [
        "trn[5].sentence, trn[5].label"
      ],
      "execution_count": 37,
      "outputs": [
        {
          "output_type": "execute_result",
          "data": {
            "text/plain": [
              "(['whether',\n",
              "  'or',\n",
              "  'not',\n",
              "  'you',\n",
              "  're',\n",
              "  'enlightened',\n",
              "  'by',\n",
              "  'any',\n",
              "  'of',\n",
              "  'derrida',\n",
              "  's',\n",
              "  'lectures',\n",
              "  'on',\n",
              "  'the',\n",
              "  'other',\n",
              "  'and',\n",
              "  'the',\n",
              "  'self',\n",
              "  'derrida',\n",
              "  'is',\n",
              "  'an',\n",
              "  'undeniably',\n",
              "  'fascinating',\n",
              "  'and',\n",
              "  'playful',\n",
              "  'fellow'],\n",
              " '4')"
            ]
          },
          "metadata": {
            "tags": []
          },
          "execution_count": 37
        }
      ]
    },
    {
      "cell_type": "code",
      "metadata": {
        "colab": {
          "base_uri": "https://localhost:8080/"
        },
        "id": "gQ0AWue8aYVe",
        "outputId": "03815b72-9788-4ede-98d0-fc622590a0ba"
      },
      "source": [
        "print(vars(trn[5]))"
      ],
      "execution_count": 38,
      "outputs": [
        {
          "output_type": "stream",
          "text": [
            "{'label': '4', 'sentence': ['whether', 'or', 'not', 'you', 're', 'enlightened', 'by', 'any', 'of', 'derrida', 's', 'lectures', 'on', 'the', 'other', 'and', 'the', 'self', 'derrida', 'is', 'an', 'undeniably', 'fascinating', 'and', 'playful', 'fellow']}\n"
          ],
          "name": "stdout"
        }
      ]
    },
    {
      "cell_type": "code",
      "metadata": {
        "id": "LO52LIENelsT"
      },
      "source": [
        "words = [0 + len(t.sentence) for t in trn]"
      ],
      "execution_count": 39,
      "outputs": []
    },
    {
      "cell_type": "code",
      "metadata": {
        "colab": {
          "base_uri": "https://localhost:8080/"
        },
        "id": "IsBKZ7g5fPa-",
        "outputId": "0452abf6-7358-4f0d-b3c2-29e2a552c59f"
      },
      "source": [
        "sum(words)"
      ],
      "execution_count": 40,
      "outputs": [
        {
          "output_type": "execute_result",
          "data": {
            "text/plain": [
              "341280"
            ]
          },
          "metadata": {
            "tags": []
          },
          "execution_count": 40
        }
      ]
    },
    {
      "cell_type": "code",
      "metadata": {
        "colab": {
          "base_uri": "https://localhost:8080/"
        },
        "id": "L-uK4B7VaauP",
        "outputId": "cbb986aa-b6d4-4320-950a-a781caa487b2"
      },
      "source": [
        "TEXT.build_vocab(trn, max_size = 18000,\n",
        "                 vectors = \"glove.6B.100d\",\n",
        "                 unk_init = torch.Tensor.normal_ )\n",
        "\n",
        "LABEL.build_vocab(trn) "
      ],
      "execution_count": 41,
      "outputs": [
        {
          "output_type": "stream",
          "text": [
            ".vector_cache/glove.6B.zip: 862MB [02:39, 5.40MB/s]                           \n",
            "100%|█████████▉| 399099/400000 [00:13<00:00, 28400.33it/s]"
          ],
          "name": "stderr"
        }
      ]
    },
    {
      "cell_type": "markdown",
      "metadata": {
        "id": "y38F31IVgLvd"
      },
      "source": [
        "### Serialize Vocab"
      ]
    },
    {
      "cell_type": "code",
      "metadata": {
        "id": "rq2O93nAgKfK"
      },
      "source": [
        "with open('TEXT.pkl', 'wb') as text: \n",
        "    pickle.dump(TEXT, text)"
      ],
      "execution_count": 42,
      "outputs": []
    },
    {
      "cell_type": "code",
      "metadata": {
        "id": "1w1CGaBlhtOi"
      },
      "source": [
        "with open('LABEL.pkl', 'wb') as label: \n",
        "    pickle.dump(LABEL, label)"
      ],
      "execution_count": 43,
      "outputs": []
    },
    {
      "cell_type": "code",
      "metadata": {
        "colab": {
          "base_uri": "https://localhost:8080/"
        },
        "id": "eT5w7MCVgQSw",
        "outputId": "247dc1a7-da05-4daa-b7a5-56e08f8f29f7"
      },
      "source": [
        "print(TEXT.vocab.freqs.most_common(50))"
      ],
      "execution_count": 44,
      "outputs": [
        {
          "output_type": "stream",
          "text": [
            "[('the', 16620), ('a', 11976), ('of', 10117), ('and', 10116), ('to', 6805), ('-', 6223), ('s', 5813), ('is', 5807), ('it', 5441), ('that', 4389), ('in', 4322), ('as', 2853), ('film', 2637), ('but', 2618), ('with', 2605), ('for', 2315), ('movie', 2264), ('this', 2216), ('an', 2201), ('its', 2138), ('you', 1920), ('t', 1597), ('n', 1575), ('on', 1494), ('be', 1474), ('not', 1384), ('one', 1314), ('by', 1274), ('has', 1210), ('about', 1201), ('more', 1192), ('like', 1175), ('at', 1157), ('are', 1150), ('from', 1141), ('--', 1139), ('than', 1113), ('all', 1097), ('have', 1065), ('his', 967), ('so', 952), ('i', 945), ('if', 907), ('or', 855), ('story', 809), ('out', 781), ('what', 770), ('who', 745), ('there', 737), ('too', 711)]\n"
          ],
          "name": "stdout"
        }
      ]
    },
    {
      "cell_type": "code",
      "metadata": {
        "colab": {
          "base_uri": "https://localhost:8080/"
        },
        "id": "5nP9s3gRgTio",
        "outputId": "c3d7396d-0aba-4f69-e2bb-b9de99318851"
      },
      "source": [
        "print(TEXT.vocab.itos[:10])"
      ],
      "execution_count": 45,
      "outputs": [
        {
          "output_type": "stream",
          "text": [
            "['<unk>', '<pad>', 'the', 'a', 'of', 'and', 'to', '-', 's', 'is']\n"
          ],
          "name": "stdout"
        }
      ]
    },
    {
      "cell_type": "code",
      "metadata": {
        "colab": {
          "base_uri": "https://localhost:8080/"
        },
        "id": "pzJ2ltvMgWuh",
        "outputId": "754ca1fc-5aae-4059-8d36-5b8efaa971ce"
      },
      "source": [
        "print(LABEL.vocab.stoi)"
      ],
      "execution_count": 46,
      "outputs": [
        {
          "output_type": "stream",
          "text": [
            "defaultdict(None, {'3': 0, '1': 1, '2': 2, '4': 3, '0': 4})\n"
          ],
          "name": "stdout"
        }
      ]
    },
    {
      "cell_type": "code",
      "metadata": {
        "id": "2C8RBIiMgXSa"
      },
      "source": [
        "BATCH_SIZE = 128\n",
        "\n",
        "device = torch.device('cuda' if torch.cuda.is_available() else 'cpu')\n",
        "\n",
        "train_iterator, test_iterator = torchtext.legacy.data.BucketIterator.splits(\n",
        "                                                                            (trn, tst),\n",
        "                                                                            batch_size = BATCH_SIZE,\n",
        "                                                                            sort_key = lambda x: len(x.sentence),\n",
        "                                                                            sort_within_batch= True, \n",
        "                                                                            device = device)"
      ],
      "execution_count": 82,
      "outputs": []
    },
    {
      "cell_type": "code",
      "metadata": {
        "id": "kbNnlnnaibD-"
      },
      "source": [
        "class RNN(nn.Module):\n",
        "  \n",
        "  def __init__(self, vocab_size, embedding_dim, hidden_dim, output_dim, n_layers, bidirectional, dropout):\n",
        "    \n",
        "    super().__init__()\n",
        "\n",
        "    self.embedding = nn.Embedding(vocab_size, embedding_dim)\n",
        "\n",
        "    self.rnn = nn.GRU(embedding_dim, hidden_dim, num_layers = n_layers,\n",
        "                      bidirectional = bidirectional, dropout = dropout )\n",
        "    \n",
        "    self.fc = nn.Linear(hidden_dim*2, output_dim)\n",
        "\n",
        "    self.dropout = nn.Dropout(dropout)\n",
        "\n",
        "  def forward(self, text):\n",
        "\n",
        "    embedded =  self.dropout(self.embedding(text))\n",
        "\n",
        "    output, hidden = self.rnn(embedded)\n",
        "\n",
        "    hidden = self.dropout(torch.cat((hidden[-2,:,:], hidden[-1,:,:]), dim=1))\n",
        "\n",
        "    return self.fc(hidden.squeeze(0))"
      ],
      "execution_count": 83,
      "outputs": []
    },
    {
      "cell_type": "code",
      "metadata": {
        "id": "uLMz6kqnjg0U"
      },
      "source": [
        "input_dim = len(TEXT.vocab)\n",
        "\n",
        "embedding_dim = 100\n",
        "\n",
        "hidden_dim  = 256\n",
        "\n",
        "output_dim = 5\n",
        "\n",
        "num_layers = 2\n",
        "\n",
        "bidirectional = True\n",
        "\n",
        "dropout = .4"
      ],
      "execution_count": 84,
      "outputs": []
    },
    {
      "cell_type": "code",
      "metadata": {
        "id": "KjuSfWzejmII"
      },
      "source": [
        "model = RNN(input_dim, \n",
        "            embedding_dim,\n",
        "            hidden_dim,\n",
        "            output_dim,\n",
        "            num_layers,\n",
        "            bidirectional,\n",
        "            dropout)"
      ],
      "execution_count": 85,
      "outputs": []
    },
    {
      "cell_type": "code",
      "metadata": {
        "colab": {
          "base_uri": "https://localhost:8080/"
        },
        "id": "4cvElpKHjqZ2",
        "outputId": "af26210d-2205-44c5-e397-790418c97472"
      },
      "source": [
        "model"
      ],
      "execution_count": 86,
      "outputs": [
        {
          "output_type": "execute_result",
          "data": {
            "text/plain": [
              "RNN(\n",
              "  (embedding): Embedding(15358, 100)\n",
              "  (rnn): GRU(100, 256, num_layers=2, dropout=0.4, bidirectional=True)\n",
              "  (fc): Linear(in_features=512, out_features=5, bias=True)\n",
              "  (dropout): Dropout(p=0.4, inplace=False)\n",
              ")"
            ]
          },
          "metadata": {
            "tags": []
          },
          "execution_count": 86
        }
      ]
    },
    {
      "cell_type": "code",
      "metadata": {
        "colab": {
          "base_uri": "https://localhost:8080/"
        },
        "id": "zi0ZEb1DjrDd",
        "outputId": "04e1e332-78cb-43e5-8ef0-996582de2183"
      },
      "source": [
        "pretrained_embeddings = TEXT.vocab.vectors\n",
        "print(pretrained_embeddings.shape)"
      ],
      "execution_count": 87,
      "outputs": [
        {
          "output_type": "stream",
          "text": [
            "torch.Size([15358, 100])\n"
          ],
          "name": "stdout"
        }
      ]
    },
    {
      "cell_type": "code",
      "metadata": {
        "colab": {
          "base_uri": "https://localhost:8080/"
        },
        "id": "dm5M7uyzkV66",
        "outputId": "19ae2bbf-e7ec-4e6b-dd38-6b59376a2ae5"
      },
      "source": [
        "model.embedding.weight.data.copy_(pretrained_embeddings)"
      ],
      "execution_count": 88,
      "outputs": [
        {
          "output_type": "execute_result",
          "data": {
            "text/plain": [
              "tensor([[ 1.1689, -1.1809,  0.1555,  ..., -0.2434, -0.3489,  1.3271],\n",
              "        [-1.8369, -1.1993,  0.8885,  ...,  0.2879,  0.3148, -0.3080],\n",
              "        [-0.0382, -0.2449,  0.7281,  ..., -0.1459,  0.8278,  0.2706],\n",
              "        ...,\n",
              "        [-0.0635,  0.1009,  0.2432,  ...,  0.3273, -0.3251,  0.1559],\n",
              "        [ 0.2153,  0.4650,  0.3468,  ...,  0.2906,  0.0631, -0.4491],\n",
              "        [ 0.0109, -0.8665,  0.2749,  ...,  0.1131,  0.1014,  0.3842]])"
            ]
          },
          "metadata": {
            "tags": []
          },
          "execution_count": 88
        }
      ]
    },
    {
      "cell_type": "code",
      "metadata": {
        "colab": {
          "base_uri": "https://localhost:8080/"
        },
        "id": "42RJCFxlkZaa",
        "outputId": "5bde98b3-aeea-4a16-87fa-feb9d4ed7a0b"
      },
      "source": [
        "unk_idx = TEXT.vocab.stoi[TEXT.unk_token]\n",
        "pad_idx = TEXT.vocab.stoi[TEXT.pad_token]\n",
        "\n",
        "model.embedding.weight.data[unk_idx] = torch.zeros(embedding_dim)\n",
        "model.embedding.weight.data[pad_idx] = torch.zeros(embedding_dim)\n",
        "\n",
        "print(model.embedding.weight.data)"
      ],
      "execution_count": 89,
      "outputs": [
        {
          "output_type": "stream",
          "text": [
            "tensor([[ 0.0000,  0.0000,  0.0000,  ...,  0.0000,  0.0000,  0.0000],\n",
            "        [ 0.0000,  0.0000,  0.0000,  ...,  0.0000,  0.0000,  0.0000],\n",
            "        [-0.0382, -0.2449,  0.7281,  ..., -0.1459,  0.8278,  0.2706],\n",
            "        ...,\n",
            "        [-0.0635,  0.1009,  0.2432,  ...,  0.3273, -0.3251,  0.1559],\n",
            "        [ 0.2153,  0.4650,  0.3468,  ...,  0.2906,  0.0631, -0.4491],\n",
            "        [ 0.0109, -0.8665,  0.2749,  ...,  0.1131,  0.1014,  0.3842]])\n"
          ],
          "name": "stdout"
        }
      ]
    },
    {
      "cell_type": "code",
      "metadata": {
        "id": "91pON0m5kch3"
      },
      "source": [
        "optimizer = optim.Adam(model.parameters(), lr = 1e-5)\n",
        "criterion = nn.CrossEntropyLoss()"
      ],
      "execution_count": 90,
      "outputs": []
    },
    {
      "cell_type": "code",
      "metadata": {
        "id": "sXvTvYxplc1g"
      },
      "source": [
        "# define metric\n",
        "def binary_accuracy(preds, y):\n",
        "    #round predictions to the closest integer\n",
        "    _, predictions = torch.max(preds, 1)\n",
        "    \n",
        "    correct = (predictions == y).float() \n",
        "    acc = correct.sum() / len(correct)\n",
        "    return acc\n",
        "    \n",
        "# push to cuda if available\n",
        "model = model.to(device)\n",
        "criterion = criterion.to(device)"
      ],
      "execution_count": 91,
      "outputs": []
    },
    {
      "cell_type": "code",
      "metadata": {
        "id": "Ksm5_ArJl30A"
      },
      "source": [
        "# def train(model, iterator, optimizer, cretrion):\n",
        "\n",
        "#   epoch_loss = 0\n",
        "#   epoch_acc = 0\n",
        "\n",
        "#   model.train()\n",
        "\n",
        "#   for batch in iterator:\n",
        "\n",
        "#     optimizer.zero_grad()\n",
        "\n",
        "#     predictions = model(batch.sentence).squeeze(1)\n",
        "\n",
        "#     # predictions = torch.argmax(predictions,1)\n",
        "\n",
        "#     print(predictions, batch.label)\n",
        "\n",
        "#     loss = criterion(predictions, batch.label.float())\n",
        "\n",
        "#     # rounded_preds = torch.round(torch.sigmoid(predictions))\n",
        "#     correct = (predictions == batch.label).float()\n",
        "\n",
        "#     acc = correct.sum() / len(correct)\n",
        "\n",
        "#     loss.backward()\n",
        "\n",
        "#     optimizer.step()\n",
        "\n",
        "#     epoch_loss += loss.item()\n",
        "#     epoch_acc += acc.item()\n",
        "\n",
        "#   return epoch_loss / len(iterator) , epoch_acc / len(iterator)"
      ],
      "execution_count": 92,
      "outputs": []
    },
    {
      "cell_type": "code",
      "metadata": {
        "id": "Hvw0z32an2El"
      },
      "source": [
        "# num_epochs = 1\n",
        "\n",
        "# for epoch in range(num_epochs):\n",
        "#   train_loss, train_acc = train(model, train_iterator, optimizer, criterion)\n",
        "#   print(f'| Epoch: {epoch+1:02}  | Train Loss: {train_loss: .3f}  | Train Accuracy: {train_acc*100: .2f}%')"
      ],
      "execution_count": 93,
      "outputs": []
    },
    {
      "cell_type": "code",
      "metadata": {
        "id": "Ag-ziayipMtM"
      },
      "source": [
        "def train(model, iterator, optimizer, criterion):\n",
        "    \n",
        "    # initialize every epoch \n",
        "    epoch_loss = 0\n",
        "    epoch_acc = 0\n",
        "    \n",
        "    # set the model in training phase\n",
        "    model.train()  \n",
        "    \n",
        "    for batch in iterator:\n",
        "        \n",
        "        # resets the gradients after every batch\n",
        "        optimizer.zero_grad()   \n",
        "               \n",
        "        # convert to 1D tensor\n",
        "        predictions = model(batch.sentence).squeeze(1)\n",
        "        \n",
        "        # compute the loss\n",
        "        loss = criterion(predictions, batch.label.long())        \n",
        "        \n",
        "        # compute the binary accuracy\n",
        "        acc = binary_accuracy(predictions, batch.label.long())   \n",
        "        \n",
        "        # backpropage the loss and compute the gradients\n",
        "        loss.backward()       \n",
        "        \n",
        "        # update the weights\n",
        "        optimizer.step()      \n",
        "        \n",
        "        # loss and accuracy\n",
        "        epoch_loss += loss.item()  \n",
        "        epoch_acc += acc.item()    \n",
        "        \n",
        "    return epoch_loss / len(iterator), epoch_acc / len(iterator)"
      ],
      "execution_count": 94,
      "outputs": []
    },
    {
      "cell_type": "code",
      "metadata": {
        "id": "pUOvLA0zxdym"
      },
      "source": [
        "def evaluate(model, iterator, criterion):\n",
        "    \n",
        "    # initialize every epoch\n",
        "    epoch_loss = 0\n",
        "    epoch_acc = 0\n",
        "\n",
        "    # deactivating dropout layers\n",
        "    model.eval()\n",
        "    \n",
        "    # deactivates autograd\n",
        "    with torch.no_grad():\n",
        "    \n",
        "        for batch in iterator:\n",
        "                   \n",
        "            # convert to 1d tensor\n",
        "            predictions = model(batch.sentence).squeeze(1)\n",
        "            \n",
        "            # compute loss and accuracy\n",
        "            loss = criterion(predictions, batch.label.long())\n",
        "            acc = binary_accuracy(predictions, batch.label.long())\n",
        "            \n",
        "            # keep track of loss and accuracy\n",
        "            epoch_loss += loss.item()\n",
        "            epoch_acc += acc.item()\n",
        "        \n",
        "    return epoch_loss / len(iterator), epoch_acc / len(iterator)"
      ],
      "execution_count": 95,
      "outputs": []
    },
    {
      "cell_type": "code",
      "metadata": {
        "colab": {
          "base_uri": "https://localhost:8080/"
        },
        "id": "N7uWRRo3xkcA",
        "outputId": "299911f5-155f-4a91-fa98-074caea8af1a"
      },
      "source": [
        "N_EPOCHS = 200\n",
        "\n",
        "best_test_loss = float('inf')\n",
        "\n",
        "trn_loss = [] \n",
        "trn_acc = []\n",
        "tst_loss = [] \n",
        "tst_acc = [] \n",
        "\n",
        "for epoch in range(N_EPOCHS):\n",
        "\n",
        "    if epoch > 50:\n",
        "      optimizer = optim.Adam(model.parameters(), lr = 1e-4)\n",
        "    if epoch > 100:\n",
        "      optimizer = optim.Adam(model.parameters(), lr = 1e-3)\n",
        "\n",
        "     \n",
        "    # train the model\n",
        "    train_loss, train_acc = train(model, train_iterator, optimizer, criterion)\n",
        "    trn_loss.append(train_loss)\n",
        "    trn_acc.append(train_acc*100)\n",
        "    \n",
        "    # evaluate the model\n",
        "    test_loss, test_acc = evaluate(model, test_iterator, criterion)\n",
        "    tst_loss.append(test_loss)\n",
        "    tst_acc.append(test_acc*100)\n",
        "    \n",
        "    # # save the best model\n",
        "    # if test_loss < best_test_loss:\n",
        "    #     best_test_loss = test_loss\n",
        "    #     torch.save(model.state_dict(), 'saved_weights.pt')\n",
        "    \n",
        "    print(f'Epoch: {epoch+1}')\n",
        "    print(f'\\tTrain Loss: {train_loss:.3f} | Train Acc: {train_acc*100:.2f}%')\n",
        "    print(f'\\t Val. Loss: {test_loss:.3f} |  Val. Acc: {test_acc*100:.2f}% \\n')"
      ],
      "execution_count": null,
      "outputs": [
        {
          "output_type": "stream",
          "text": [
            "Epoch: 1\n",
            "\tTrain Loss: 1.582 | Train Acc: 25.83%\n",
            "\t Val. Loss: 1.578 |  Val. Acc: 25.16% \n",
            "\n",
            "Epoch: 2\n",
            "\tTrain Loss: 1.564 | Train Acc: 28.22%\n",
            "\t Val. Loss: 1.573 |  Val. Acc: 25.31% \n",
            "\n",
            "Epoch: 3\n",
            "\tTrain Loss: 1.561 | Train Acc: 29.01%\n",
            "\t Val. Loss: 1.569 |  Val. Acc: 26.98% \n",
            "\n",
            "Epoch: 4\n",
            "\tTrain Loss: 1.557 | Train Acc: 29.93%\n",
            "\t Val. Loss: 1.562 |  Val. Acc: 29.83% \n",
            "\n",
            "Epoch: 5\n",
            "\tTrain Loss: 1.550 | Train Acc: 30.80%\n",
            "\t Val. Loss: 1.557 |  Val. Acc: 29.40% \n",
            "\n",
            "Epoch: 6\n",
            "\tTrain Loss: 1.544 | Train Acc: 31.56%\n",
            "\t Val. Loss: 1.548 |  Val. Acc: 31.67% \n",
            "\n",
            "Epoch: 7\n",
            "\tTrain Loss: 1.535 | Train Acc: 31.76%\n",
            "\t Val. Loss: 1.537 |  Val. Acc: 32.60% \n",
            "\n",
            "Epoch: 8\n",
            "\tTrain Loss: 1.523 | Train Acc: 32.70%\n",
            "\t Val. Loss: 1.522 |  Val. Acc: 33.30% \n",
            "\n",
            "Epoch: 9\n",
            "\tTrain Loss: 1.509 | Train Acc: 33.54%\n",
            "\t Val. Loss: 1.502 |  Val. Acc: 33.81% \n",
            "\n",
            "Epoch: 10\n",
            "\tTrain Loss: 1.491 | Train Acc: 34.17%\n",
            "\t Val. Loss: 1.474 |  Val. Acc: 35.50% \n",
            "\n",
            "Epoch: 11\n",
            "\tTrain Loss: 1.473 | Train Acc: 35.04%\n",
            "\t Val. Loss: 1.450 |  Val. Acc: 36.50% \n",
            "\n",
            "Epoch: 12\n",
            "\tTrain Loss: 1.456 | Train Acc: 36.21%\n",
            "\t Val. Loss: 1.431 |  Val. Acc: 37.75% \n",
            "\n",
            "Epoch: 13\n",
            "\tTrain Loss: 1.447 | Train Acc: 36.39%\n",
            "\t Val. Loss: 1.419 |  Val. Acc: 38.65% \n",
            "\n",
            "Epoch: 14\n",
            "\tTrain Loss: 1.440 | Train Acc: 36.79%\n",
            "\t Val. Loss: 1.410 |  Val. Acc: 39.34% \n",
            "\n",
            "Epoch: 15\n",
            "\tTrain Loss: 1.436 | Train Acc: 36.89%\n",
            "\t Val. Loss: 1.403 |  Val. Acc: 39.59% \n",
            "\n",
            "Epoch: 16\n",
            "\tTrain Loss: 1.431 | Train Acc: 37.29%\n",
            "\t Val. Loss: 1.396 |  Val. Acc: 39.64% \n",
            "\n",
            "Epoch: 17\n",
            "\tTrain Loss: 1.426 | Train Acc: 37.47%\n",
            "\t Val. Loss: 1.393 |  Val. Acc: 39.60% \n",
            "\n",
            "Epoch: 18\n",
            "\tTrain Loss: 1.421 | Train Acc: 37.90%\n",
            "\t Val. Loss: 1.389 |  Val. Acc: 39.82% \n",
            "\n",
            "Epoch: 19\n",
            "\tTrain Loss: 1.419 | Train Acc: 38.09%\n",
            "\t Val. Loss: 1.385 |  Val. Acc: 40.07% \n",
            "\n",
            "Epoch: 20\n",
            "\tTrain Loss: 1.419 | Train Acc: 37.67%\n",
            "\t Val. Loss: 1.383 |  Val. Acc: 40.17% \n",
            "\n",
            "Epoch: 21\n",
            "\tTrain Loss: 1.415 | Train Acc: 38.20%\n",
            "\t Val. Loss: 1.379 |  Val. Acc: 40.30% \n",
            "\n",
            "Epoch: 22\n",
            "\tTrain Loss: 1.412 | Train Acc: 38.13%\n",
            "\t Val. Loss: 1.377 |  Val. Acc: 40.29% \n",
            "\n",
            "Epoch: 23\n",
            "\tTrain Loss: 1.407 | Train Acc: 38.38%\n",
            "\t Val. Loss: 1.376 |  Val. Acc: 40.21% \n",
            "\n",
            "Epoch: 24\n",
            "\tTrain Loss: 1.407 | Train Acc: 38.59%\n",
            "\t Val. Loss: 1.373 |  Val. Acc: 40.34% \n",
            "\n"
          ],
          "name": "stdout"
        }
      ]
    },
    {
      "cell_type": "markdown",
      "metadata": {
        "id": "QMYMnInl7ELn"
      },
      "source": [
        "## Train test logs"
      ]
    },
    {
      "cell_type": "code",
      "metadata": {
        "colab": {
          "base_uri": "https://localhost:8080/",
          "height": 626
        },
        "id": "kF1uOy2P_wJJ",
        "outputId": "79516780-002b-4889-c48e-ca7bbbbc0ef9"
      },
      "source": [
        "plt.style.use('ggplot')\n",
        "\n",
        "fig, axs = plt.subplots(1,2,figsize=(20,10))\n",
        "\n",
        "axs[0].plot(trn_loss, label = 'train loss')\n",
        "axs[0].plot(tst_loss, label = 'test loss')\n",
        "axs[0].legend(loc=\"upper right\")\n",
        "axs[0].set_title(\"Loss\")\n",
        "\n",
        "axs[1].plot(trn_acc,  label = 'train accuracy')\n",
        "axs[1].plot(tst_acc,  label = 'test accuracy')\n",
        "axs[1].legend(loc=\"lower right\")\n",
        "axs[1].set_title(\"Accuracy\")"
      ],
      "execution_count": 80,
      "outputs": [
        {
          "output_type": "execute_result",
          "data": {
            "text/plain": [
              "Text(0.5, 1.0, 'Accuracy')"
            ]
          },
          "metadata": {
            "tags": []
          },
          "execution_count": 80
        },
        {
          "output_type": "display_data",
          "data": {
            "image/png": "[encoded data removed]",
            "text/plain": [
              "<Figure size 1440x720 with 2 Axes>"
            ]
          },
          "metadata": {
            "tags": []
          }
        }
      ]
    },
    {
      "cell_type": "code",
      "metadata": {
        "id": "8YtL4mvjs7cd"
      },
      "source": [
        ""
      ],
      "execution_count": null,
      "outputs": []
    }
  ]
}