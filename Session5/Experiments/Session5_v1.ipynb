{
  "nbformat": 4,
  "nbformat_minor": 0,
  "metadata": {
    "colab": {
      "name": "Session5.ipynb",
      "provenance": [],
      "toc_visible": true
    },
    "kernelspec": {
      "name": "python3",
      "display_name": "Python 3"
    },
    "language_info": {
      "name": "python"
    },
    "accelerator": "GPU"
  },
  "cells": [
    {
      "cell_type": "code",
      "metadata": {
        "colab": {
          "base_uri": "https://localhost:8080/"
        },
        "id": "LmoCHmEib0Jl",
        "outputId": "ddca5e57-f817-48ed-f86a-60466affeab2"
      },
      "source": [
        "!! pip install pytreebank==0.2.7\n"
      ],
      "execution_count": 1,
      "outputs": [
        {
          "output_type": "execute_result",
          "data": {
            "text/plain": [
              "['Collecting pytreebank==0.2.7',\n",
              " '  Downloading https://files.pythonhosted.org/packages/e0/12/626ead6f6c0a0a9617396796b965961e9dfa5e78b36c17a81ea4c43554b1/pytreebank-0.2.7.tar.gz',\n",
              " 'Building wheels for collected packages: pytreebank',\n",
              " '  Building wheel for pytreebank (setup.py) ... \\x1b[?25l\\x1b[?25hdone',\n",
              " '  Created wheel for pytreebank: filename=pytreebank-0.2.7-cp37-none-any.whl size=37070 sha256=1b2efaa1309e579b74acf1547447131e787fdca1e64f8ca255681bed853ef9f5',\n",
              " '  Stored in directory: /root/.cache/pip/wheels/e0/b6/91/e9edcdbf464f623628d5c3aa9de28888c726e270b9a29f2368',\n",
              " 'Successfully built pytreebank',\n",
              " 'Installing collected packages: pytreebank',\n",
              " 'Successfully installed pytreebank-0.2.7']"
            ]
          },
          "metadata": {
            "tags": []
          },
          "execution_count": 1
        }
      ]
    },
    {
      "cell_type": "code",
      "metadata": {
        "colab": {
          "base_uri": "https://localhost:8080/"
        },
        "id": "ZT7ds2A9z7d1",
        "outputId": "664202e5-6ba9-4c33-c3dc-74c9911ff587"
      },
      "source": [
        "!pip install google_trans_new"
      ],
      "execution_count": 2,
      "outputs": [
        {
          "output_type": "stream",
          "text": [
            "Collecting google_trans_new\n",
            "  Downloading https://files.pythonhosted.org/packages/f9/7b/9f136106dc5824dc98185c97991d3cd9b53e70a197154dd49f7b899128f6/google_trans_new-1.1.9-py3-none-any.whl\n",
            "Installing collected packages: google-trans-new\n",
            "Successfully installed google-trans-new-1.1.9\n"
          ],
          "name": "stdout"
        }
      ]
    },
    {
      "cell_type": "code",
      "metadata": {
        "colab": {
          "base_uri": "https://localhost:8080/"
        },
        "id": "2zchsfLscDnD",
        "outputId": "b62e1b61-803f-45a1-e2fe-27b23fb23200"
      },
      "source": [
        "import torch\n",
        "import torch.nn as nn\n",
        "import torch.optim as optim\n",
        "\n",
        "import torchtext.legacy\n",
        "from torchtext import datasets\n",
        "\n",
        "import re\n",
        "import pandas as pd\n",
        "import seaborn as sns\n",
        "from matplotlib import pyplot as plt\n",
        "\n",
        "import spacy\n",
        "import nltk\n",
        "from nltk.corpus import stopwords, wordnet\n",
        "nltk.download('wordnet')\n",
        "nltk.download('stopwords')\n",
        "\n",
        "import pytreebank\n",
        "\n",
        "import google_trans_new \n",
        "from google_trans_new import google_translator  \n",
        "import random\n",
        "\n",
        "#from sklearn.model_selection import train_test_split\n",
        "\n",
        "import os, pickle"
      ],
      "execution_count": 3,
      "outputs": [
        {
          "output_type": "stream",
          "text": [
            "[nltk_data] Downloading package wordnet to /root/nltk_data...\n",
            "[nltk_data]   Unzipping corpora/wordnet.zip.\n",
            "[nltk_data] Downloading package stopwords to /root/nltk_data...\n",
            "[nltk_data]   Unzipping corpora/stopwords.zip.\n"
          ],
          "name": "stdout"
        }
      ]
    },
    {
      "cell_type": "markdown",
      "metadata": {
        "id": "hHnbhJDCb09b"
      },
      "source": [
        "## Get Dataset"
      ]
    },
    {
      "cell_type": "code",
      "metadata": {
        "id": "c_7Qh3W4b7Rc"
      },
      "source": [
        "# load the sentiment treebank corpus in the parenthesis format,\n",
        "# [\"very negative\", \"negative\", \"neutral\", \"positive\", \"very positive\"][label]\n",
        "dataset = pytreebank.load_sst()"
      ],
      "execution_count": 4,
      "outputs": []
    },
    {
      "cell_type": "code",
      "metadata": {
        "id": "TMOU5zzscCwD"
      },
      "source": [
        "data_train = [example.to_labeled_lines()[0] for example in dataset[\"train\"]]\n",
        "data_test = [example.to_labeled_lines()[0] for example in dataset[\"test\"]]"
      ],
      "execution_count": 5,
      "outputs": []
    },
    {
      "cell_type": "code",
      "metadata": {
        "colab": {
          "base_uri": "https://localhost:8080/"
        },
        "id": "ROQv1OrxcVWB",
        "outputId": "7f9d2600-fe05-45b8-fc54-89c61331b1f2"
      },
      "source": [
        "len(data_train), len(data_test)"
      ],
      "execution_count": 6,
      "outputs": [
        {
          "output_type": "execute_result",
          "data": {
            "text/plain": [
              "(8544, 2210)"
            ]
          },
          "metadata": {
            "tags": []
          },
          "execution_count": 6
        }
      ]
    },
    {
      "cell_type": "code",
      "metadata": {
        "id": "l_owf9lccWUR"
      },
      "source": [
        "train = pd.DataFrame(data_train, columns = ['label', 'sentence'])\n",
        "test = pd.DataFrame(data_test, columns = ['label', 'sentence'])"
      ],
      "execution_count": 7,
      "outputs": []
    },
    {
      "cell_type": "code",
      "metadata": {
        "colab": {
          "base_uri": "https://localhost:8080/",
          "height": 204
        },
        "id": "BTq4etqYccCU",
        "outputId": "97b4b50a-3021-4d2f-cd86-83e5b77194fd"
      },
      "source": [
        "train.head()"
      ],
      "execution_count": 8,
      "outputs": [
        {
          "output_type": "execute_result",
          "data": {
            "text/html": [
              "<div>\n",
              "<style scoped>\n",
              "    .dataframe tbody tr th:only-of-type {\n",
              "        vertical-align: middle;\n",
              "    }\n",
              "\n",
              "    .dataframe tbody tr th {\n",
              "        vertical-align: top;\n",
              "    }\n",
              "\n",
              "    .dataframe thead th {\n",
              "        text-align: right;\n",
              "    }\n",
              "</style>\n",
              "<table border=\"1\" class=\"dataframe\">\n",
              "  <thead>\n",
              "    <tr style=\"text-align: right;\">\n",
              "      <th></th>\n",
              "      <th>label</th>\n",
              "      <th>sentence</th>\n",
              "    </tr>\n",
              "  </thead>\n",
              "  <tbody>\n",
              "    <tr>\n",
              "      <th>0</th>\n",
              "      <td>3</td>\n",
              "      <td>The Rock is destined to be the 21st Century 's...</td>\n",
              "    </tr>\n",
              "    <tr>\n",
              "      <th>1</th>\n",
              "      <td>4</td>\n",
              "      <td>The gorgeously elaborate continuation of `` Th...</td>\n",
              "    </tr>\n",
              "    <tr>\n",
              "      <th>2</th>\n",
              "      <td>3</td>\n",
              "      <td>Singer/composer Bryan Adams contributes a slew...</td>\n",
              "    </tr>\n",
              "    <tr>\n",
              "      <th>3</th>\n",
              "      <td>2</td>\n",
              "      <td>You 'd think by now America would have had eno...</td>\n",
              "    </tr>\n",
              "    <tr>\n",
              "      <th>4</th>\n",
              "      <td>3</td>\n",
              "      <td>Yet the act is still charming here .</td>\n",
              "    </tr>\n",
              "  </tbody>\n",
              "</table>\n",
              "</div>"
            ],
            "text/plain": [
              "   label                                           sentence\n",
              "0      3  The Rock is destined to be the 21st Century 's...\n",
              "1      4  The gorgeously elaborate continuation of `` Th...\n",
              "2      3  Singer/composer Bryan Adams contributes a slew...\n",
              "3      2  You 'd think by now America would have had eno...\n",
              "4      3               Yet the act is still charming here ."
            ]
          },
          "metadata": {
            "tags": []
          },
          "execution_count": 8
        }
      ]
    },
    {
      "cell_type": "markdown",
      "metadata": {
        "id": "eGrp5qPjdYqE"
      },
      "source": [
        "## Augment Data"
      ]
    },
    {
      "cell_type": "markdown",
      "metadata": {
        "id": "3nJzZHJkdi4H"
      },
      "source": [
        "### Back Translation"
      ]
    },
    {
      "cell_type": "code",
      "metadata": {
        "id": "spRCfjjFbV8W"
      },
      "source": [
        "def back_translate(sentence):\n",
        "  \"\"\" Google translate the input sentence and translate back\"\"\"\n",
        "  available_langs = list(google_trans_new.LANGUAGES.keys()) \n",
        "  trans_lang = random.choice(available_langs) \n",
        "  translator = google_translator()  \n",
        "  translate_text = translator.translate(sentence,lang_tgt=trans_lang) \n",
        "  translate_back = translator.translate(translate_text,lang_tgt='en')\n",
        "\n",
        "  return (translate_back)"
      ],
      "execution_count": 9,
      "outputs": []
    },
    {
      "cell_type": "code",
      "metadata": {
        "id": "t0QNEp37cKcy"
      },
      "source": [
        "# test function \n",
        "sentence = ' Pulling out the classic Amazon Mechanical Turk workers, the authors presented these phrases in a random order and asked annotators to indicate the sentiment and degree of sentiment for each phrase using a slider.'\n",
        "text = back_translate(sentence)"
      ],
      "execution_count": 10,
      "outputs": []
    },
    {
      "cell_type": "code",
      "metadata": {
        "colab": {
          "base_uri": "https://localhost:8080/"
        },
        "id": "Mc26RHtBcYUn",
        "outputId": "b44ade1a-3261-4ec9-dfde-5c78ef37ee93"
      },
      "source": [
        "print(text)"
      ],
      "execution_count": 11,
      "outputs": [
        {
          "output_type": "stream",
          "text": [
            "The drawing of classical amazon mechanical workers, the authors presented these phrases in random order and requested annotators to indicate the feeling and degree of sentiment for each phrase using the slider. \n"
          ],
          "name": "stdout"
        }
      ]
    },
    {
      "cell_type": "markdown",
      "metadata": {
        "id": "gdV2JNde1Cks"
      },
      "source": [
        "### Random Deletion\n",
        "As the name suggests, random deletion deletes words from a sentence. Given a probability parameter p, it will go through the sentence and decide whether to delete a word or not based on that random probability. Consider of it as pixel dropouts while treating images."
      ]
    },
    {
      "cell_type": "code",
      "metadata": {
        "id": "s4YyOI9lca5L"
      },
      "source": [
        "def random_deletion(sentence, p=0.5): \n",
        "    words = sentence.split()\n",
        "    if len(words) == 1: # return if single word\n",
        "        return words\n",
        "    remaining = list(filter(lambda x: random.uniform(0,1) > p,words)) \n",
        "    if len(remaining) == 0: # if not left, sample a random word\n",
        "        return [random.choice(words)] \n",
        "    else:\n",
        "        return (' '.join(remaining))"
      ],
      "execution_count": 12,
      "outputs": []
    },
    {
      "cell_type": "code",
      "metadata": {
        "id": "US0cR6ie1oWx"
      },
      "source": [
        "test_rd = random_deletion(sentence, p=0.5)"
      ],
      "execution_count": 13,
      "outputs": []
    },
    {
      "cell_type": "code",
      "metadata": {
        "colab": {
          "base_uri": "https://localhost:8080/",
          "height": 35
        },
        "id": "ZcMXQwKN1yTC",
        "outputId": "5ecea953-3891-446e-db1b-d74b8271fb2a"
      },
      "source": [
        "test_rd"
      ],
      "execution_count": 14,
      "outputs": [
        {
          "output_type": "execute_result",
          "data": {
            "application/vnd.google.colaboratory.intrinsic+json": {
              "type": "string"
            },
            "text/plain": [
              "'Pulling out classic Amazon the authors these phrases in a order annotators sentiment and degree sentiment slider.'"
            ]
          },
          "metadata": {
            "tags": []
          },
          "execution_count": 14
        }
      ]
    },
    {
      "cell_type": "markdown",
      "metadata": {
        "id": "4XuPV3G_3Ra-"
      },
      "source": [
        "### Random Swap\n",
        "The random swap augmentation takes a sentence and then swaps words within it n times, with each iteration working on the previously swapped sentence. Here we sample two random numbers based on the length of the sentence, and then just keep swapping until we hit n.\n",
        "\n"
      ]
    },
    {
      "cell_type": "code",
      "metadata": {
        "id": "XEBsTs_R3MzK"
      },
      "source": [
        "def random_swap(sentence, n=5): \n",
        "    words = sentence.split()\n",
        "    if len(words) == 1: # return if single word\n",
        "        return words\n",
        "    length = range(len(words)) \n",
        "    for _ in range(n):\n",
        "        idx1, idx2 = random.sample(length, 2)\n",
        "        words[idx1], words[idx2] = words[idx2], words[idx1] \n",
        "    return (' '.join(words))"
      ],
      "execution_count": 15,
      "outputs": []
    },
    {
      "cell_type": "code",
      "metadata": {
        "colab": {
          "base_uri": "https://localhost:8080/",
          "height": 52
        },
        "id": "1deJIPvk3nl2",
        "outputId": "917010e7-7aff-4bd6-8258-d0b75483cc2c"
      },
      "source": [
        "test_rs = random_swap(sentence, n=5)\n",
        "test_rs"
      ],
      "execution_count": 16,
      "outputs": [
        {
          "output_type": "execute_result",
          "data": {
            "application/vnd.google.colaboratory.intrinsic+json": {
              "type": "string"
            },
            "text/plain": [
              "'Pulling out the classic presented Mechanical Turk Amazon the authors a these phrases in workers, random order and asked annotators slider. indicate the each and degree of sentiment for sentiment phrase using a to'"
            ]
          },
          "metadata": {
            "tags": []
          },
          "execution_count": 16
        }
      ]
    },
    {
      "cell_type": "markdown",
      "metadata": {
        "id": "4vWVnAAF_uQy"
      },
      "source": [
        "## Random Insertion\n",
        "A random insertion technique looks at a sentence and then randomly inserts synonyms of existing non-stopwords into the sentence n times. Assuming you have a way of getting a synonym of a word and a way of eliminating stopwords (common words such as and, it, the, etc.)\n"
      ]
    },
    {
      "cell_type": "code",
      "metadata": {
        "id": "uIlCo8gd9rlJ"
      },
      "source": [
        "stop_words = set(stopwords.words('english'))\n",
        "\n",
        "def random_insertion(sentence, n=3): \n",
        "    words = sentence.split()\n",
        "    if len(words) == 1: # return if single word\n",
        "        return words\n",
        "    words = [w for w in words if not w.lower() in stop_words]\n",
        "    for _ in range(n):\n",
        "        word = random.choice(words)\n",
        "        synonym = wordnet.synsets(word)\n",
        "        if len(synonym) > 0:\n",
        "          sentence.replace(word, synonym[0].lemmas()[0].name())\n",
        "    return sentence"
      ],
      "execution_count": 17,
      "outputs": []
    },
    {
      "cell_type": "code",
      "metadata": {
        "colab": {
          "base_uri": "https://localhost:8080/",
          "height": 52
        },
        "id": "X2l_iIsQBSTU",
        "outputId": "5757b32c-2227-4f16-c64d-08deb8f9d3a3"
      },
      "source": [
        "test_ri = random_insertion(sentence, n=3)\n",
        "test_ri"
      ],
      "execution_count": 18,
      "outputs": [
        {
          "output_type": "execute_result",
          "data": {
            "application/vnd.google.colaboratory.intrinsic+json": {
              "type": "string"
            },
            "text/plain": [
              "' Pulling out the classic Amazon Mechanical Turk workers, the authors presented these phrases in a random order and asked annotators to indicate the sentiment and degree of sentiment for each phrase using a slider.'"
            ]
          },
          "metadata": {
            "tags": []
          },
          "execution_count": 18
        }
      ]
    },
    {
      "cell_type": "markdown",
      "metadata": {
        "id": "_wSiWWA3JA4q"
      },
      "source": [
        "## Generate Augmented Data"
      ]
    },
    {
      "cell_type": "code",
      "metadata": {
        "id": "cn5GYnmDB7ka"
      },
      "source": [
        "# Back Translate\n",
        "df_part1 = train.sample( frac=.05)\n",
        "df_part1['sentence'] = df_part1['sentence'].apply(lambda x: back_translate(x))\n",
        "df_part1.head()"
      ],
      "execution_count": 19,
      "outputs": []
    },
    {
      "cell_type": "code",
      "metadata": {
        "colab": {
          "base_uri": "https://localhost:8080/",
          "height": 204
        },
        "id": "BDTsH4ZYTKP0",
        "outputId": "398aad05-ce27-4d68-f287-083803fb2de0"
      },
      "source": [
        "# Random Deletion\n",
        "df_part2 = train.sample(frac=.5)\n",
        "df_part2 ['sentence'] = df_part2['sentence'].apply(lambda x: random_deletion(x))\n",
        "df_part2.head()"
      ],
      "execution_count": 20,
      "outputs": [
        {
          "output_type": "execute_result",
          "data": {
            "text/html": [
              "<div>\n",
              "<style scoped>\n",
              "    .dataframe tbody tr th:only-of-type {\n",
              "        vertical-align: middle;\n",
              "    }\n",
              "\n",
              "    .dataframe tbody tr th {\n",
              "        vertical-align: top;\n",
              "    }\n",
              "\n",
              "    .dataframe thead th {\n",
              "        text-align: right;\n",
              "    }\n",
              "</style>\n",
              "<table border=\"1\" class=\"dataframe\">\n",
              "  <thead>\n",
              "    <tr style=\"text-align: right;\">\n",
              "      <th></th>\n",
              "      <th>label</th>\n",
              "      <th>sentence</th>\n",
              "    </tr>\n",
              "  </thead>\n",
              "  <tbody>\n",
              "    <tr>\n",
              "      <th>5374</th>\n",
              "      <td>1</td>\n",
              "      <td>It long bore</td>\n",
              "    </tr>\n",
              "    <tr>\n",
              "      <th>5297</th>\n",
              "      <td>0</td>\n",
              "      <td>Contrived , unintended the shows someone than ...</td>\n",
              "    </tr>\n",
              "    <tr>\n",
              "      <th>2116</th>\n",
              "      <td>3</td>\n",
              "      <td>'re out marathons and with A , might the movie...</td>\n",
              "    </tr>\n",
              "    <tr>\n",
              "      <th>3279</th>\n",
              "      <td>4</td>\n",
              "      <td>'s the kind of effectively that has corner of ...</td>\n",
              "    </tr>\n",
              "    <tr>\n",
              "      <th>2335</th>\n",
              "      <td>3</td>\n",
              "      <td>film with a more down-home flavor .</td>\n",
              "    </tr>\n",
              "  </tbody>\n",
              "</table>\n",
              "</div>"
            ],
            "text/plain": [
              "      label                                           sentence\n",
              "5374      1                                       It long bore\n",
              "5297      0  Contrived , unintended the shows someone than ...\n",
              "2116      3  're out marathons and with A , might the movie...\n",
              "3279      4  's the kind of effectively that has corner of ...\n",
              "2335      3                film with a more down-home flavor ."
            ]
          },
          "metadata": {
            "tags": []
          },
          "execution_count": 20
        }
      ]
    },
    {
      "cell_type": "code",
      "metadata": {
        "colab": {
          "base_uri": "https://localhost:8080/",
          "height": 204
        },
        "id": "k9G2xAD1TKZ9",
        "outputId": "70b08b48-3b1e-4f03-9931-5ad8bcc0d664"
      },
      "source": [
        "# Random Swap\n",
        "df_part3 = train.sample(frac=.5)\n",
        "df_part3 ['sentence'] = df_part3['sentence'].apply(lambda x: random_swap(x))\n",
        "df_part3.head()"
      ],
      "execution_count": 21,
      "outputs": [
        {
          "output_type": "execute_result",
          "data": {
            "text/html": [
              "<div>\n",
              "<style scoped>\n",
              "    .dataframe tbody tr th:only-of-type {\n",
              "        vertical-align: middle;\n",
              "    }\n",
              "\n",
              "    .dataframe tbody tr th {\n",
              "        vertical-align: top;\n",
              "    }\n",
              "\n",
              "    .dataframe thead th {\n",
              "        text-align: right;\n",
              "    }\n",
              "</style>\n",
              "<table border=\"1\" class=\"dataframe\">\n",
              "  <thead>\n",
              "    <tr style=\"text-align: right;\">\n",
              "      <th></th>\n",
              "      <th>label</th>\n",
              "      <th>sentence</th>\n",
              "    </tr>\n",
              "  </thead>\n",
              "  <tbody>\n",
              "    <tr>\n",
              "      <th>5431</th>\n",
              "      <td>3</td>\n",
              "      <td>It than better The 's Menace Phantom .</td>\n",
              "    </tr>\n",
              "    <tr>\n",
              "      <th>4405</th>\n",
              "      <td>1</td>\n",
              "      <td>It 's mildly interesting to ponder the peculia...</td>\n",
              "    </tr>\n",
              "    <tr>\n",
              "      <th>4439</th>\n",
              "      <td>0</td>\n",
              "      <td>As mile over-the-top John , has trash beat mov...</td>\n",
              "    </tr>\n",
              "    <tr>\n",
              "      <th>1773</th>\n",
              "      <td>3</td>\n",
              "      <td>even is seems to have directly how this girl-m...</td>\n",
              "    </tr>\n",
              "    <tr>\n",
              "      <th>616</th>\n",
              "      <td>3</td>\n",
              "      <td>In all for , I must report that children the o...</td>\n",
              "    </tr>\n",
              "  </tbody>\n",
              "</table>\n",
              "</div>"
            ],
            "text/plain": [
              "      label                                           sentence\n",
              "5431      3             It than better The 's Menace Phantom .\n",
              "4405      1  It 's mildly interesting to ponder the peculia...\n",
              "4439      0  As mile over-the-top John , has trash beat mov...\n",
              "1773      3  even is seems to have directly how this girl-m...\n",
              "616       3  In all for , I must report that children the o..."
            ]
          },
          "metadata": {
            "tags": []
          },
          "execution_count": 21
        }
      ]
    },
    {
      "cell_type": "code",
      "metadata": {
        "colab": {
          "base_uri": "https://localhost:8080/",
          "height": 204
        },
        "id": "dZ8d1MLneIYE",
        "outputId": "0b90ce59-65b6-47ce-9c2e-41305e4afe2a"
      },
      "source": [
        "# Random Insertion\n",
        "df_part4 = train.sample(frac=.5)\n",
        "df_part4 ['sentence'] = df_part4['sentence'].apply(lambda x: random_insertion(x))\n",
        "df_part4.head()"
      ],
      "execution_count": 22,
      "outputs": [
        {
          "output_type": "execute_result",
          "data": {
            "text/html": [
              "<div>\n",
              "<style scoped>\n",
              "    .dataframe tbody tr th:only-of-type {\n",
              "        vertical-align: middle;\n",
              "    }\n",
              "\n",
              "    .dataframe tbody tr th {\n",
              "        vertical-align: top;\n",
              "    }\n",
              "\n",
              "    .dataframe thead th {\n",
              "        text-align: right;\n",
              "    }\n",
              "</style>\n",
              "<table border=\"1\" class=\"dataframe\">\n",
              "  <thead>\n",
              "    <tr style=\"text-align: right;\">\n",
              "      <th></th>\n",
              "      <th>label</th>\n",
              "      <th>sentence</th>\n",
              "    </tr>\n",
              "  </thead>\n",
              "  <tbody>\n",
              "    <tr>\n",
              "      <th>1100</th>\n",
              "      <td>3</td>\n",
              "      <td>Alternately hilarious and sad , aggravating an...</td>\n",
              "    </tr>\n",
              "    <tr>\n",
              "      <th>6260</th>\n",
              "      <td>2</td>\n",
              "      <td>If you adored The Full Monty so resoundingly t...</td>\n",
              "    </tr>\n",
              "    <tr>\n",
              "      <th>5758</th>\n",
              "      <td>1</td>\n",
              "      <td>Any rock pile will do for a set .</td>\n",
              "    </tr>\n",
              "    <tr>\n",
              "      <th>5668</th>\n",
              "      <td>2</td>\n",
              "      <td>but ` Why ? '</td>\n",
              "    </tr>\n",
              "    <tr>\n",
              "      <th>6665</th>\n",
              "      <td>1</td>\n",
              "      <td>Strictly a ` guy 's film ' in the worst sense ...</td>\n",
              "    </tr>\n",
              "  </tbody>\n",
              "</table>\n",
              "</div>"
            ],
            "text/plain": [
              "      label                                           sentence\n",
              "1100      3  Alternately hilarious and sad , aggravating an...\n",
              "6260      2  If you adored The Full Monty so resoundingly t...\n",
              "5758      1                  Any rock pile will do for a set .\n",
              "5668      2                                      but ` Why ? '\n",
              "6665      1  Strictly a ` guy 's film ' in the worst sense ..."
            ]
          },
          "metadata": {
            "tags": []
          },
          "execution_count": 22
        }
      ]
    },
    {
      "cell_type": "code",
      "metadata": {
        "id": "5p3xzrW_RUx7"
      },
      "source": [
        "# train_final = pd.concat([train,df_part1,df_part2,df_part3, df_part4], ignore_index=True)\n",
        "train_final = pd.concat([train,df_part2,df_part3, df_part4], ignore_index=True)"
      ],
      "execution_count": 23,
      "outputs": []
    },
    {
      "cell_type": "code",
      "metadata": {
        "colab": {
          "base_uri": "https://localhost:8080/"
        },
        "id": "GtuxXHUGSISI",
        "outputId": "c8c4226f-45f2-475c-e1dc-16e7bbb9a072"
      },
      "source": [
        "train_final.shape"
      ],
      "execution_count": 24,
      "outputs": [
        {
          "output_type": "execute_result",
          "data": {
            "text/plain": [
              "(21360, 2)"
            ]
          },
          "metadata": {
            "tags": []
          },
          "execution_count": 24
        }
      ]
    },
    {
      "cell_type": "code",
      "metadata": {
        "colab": {
          "base_uri": "https://localhost:8080/",
          "height": 204
        },
        "id": "jqzKWEvisFGI",
        "outputId": "9963ede0-7de0-4ae2-ac9d-691b28202221"
      },
      "source": [
        "train_final.head()"
      ],
      "execution_count": 25,
      "outputs": [
        {
          "output_type": "execute_result",
          "data": {
            "text/html": [
              "<div>\n",
              "<style scoped>\n",
              "    .dataframe tbody tr th:only-of-type {\n",
              "        vertical-align: middle;\n",
              "    }\n",
              "\n",
              "    .dataframe tbody tr th {\n",
              "        vertical-align: top;\n",
              "    }\n",
              "\n",
              "    .dataframe thead th {\n",
              "        text-align: right;\n",
              "    }\n",
              "</style>\n",
              "<table border=\"1\" class=\"dataframe\">\n",
              "  <thead>\n",
              "    <tr style=\"text-align: right;\">\n",
              "      <th></th>\n",
              "      <th>label</th>\n",
              "      <th>sentence</th>\n",
              "    </tr>\n",
              "  </thead>\n",
              "  <tbody>\n",
              "    <tr>\n",
              "      <th>0</th>\n",
              "      <td>3</td>\n",
              "      <td>The Rock is destined to be the 21st Century 's...</td>\n",
              "    </tr>\n",
              "    <tr>\n",
              "      <th>1</th>\n",
              "      <td>4</td>\n",
              "      <td>The gorgeously elaborate continuation of `` Th...</td>\n",
              "    </tr>\n",
              "    <tr>\n",
              "      <th>2</th>\n",
              "      <td>3</td>\n",
              "      <td>Singer/composer Bryan Adams contributes a slew...</td>\n",
              "    </tr>\n",
              "    <tr>\n",
              "      <th>3</th>\n",
              "      <td>2</td>\n",
              "      <td>You 'd think by now America would have had eno...</td>\n",
              "    </tr>\n",
              "    <tr>\n",
              "      <th>4</th>\n",
              "      <td>3</td>\n",
              "      <td>Yet the act is still charming here .</td>\n",
              "    </tr>\n",
              "  </tbody>\n",
              "</table>\n",
              "</div>"
            ],
            "text/plain": [
              "   label                                           sentence\n",
              "0      3  The Rock is destined to be the 21st Century 's...\n",
              "1      4  The gorgeously elaborate continuation of `` Th...\n",
              "2      3  Singer/composer Bryan Adams contributes a slew...\n",
              "3      2  You 'd think by now America would have had eno...\n",
              "4      3               Yet the act is still charming here ."
            ]
          },
          "metadata": {
            "tags": []
          },
          "execution_count": 25
        }
      ]
    },
    {
      "cell_type": "code",
      "metadata": {
        "colab": {
          "base_uri": "https://localhost:8080/"
        },
        "id": "pXgYAENj1nzG",
        "outputId": "90e48d28-91fb-4758-e6a9-d4e9de1ac7c8"
      },
      "source": [
        "train_final['label'].value_counts()"
      ],
      "execution_count": 26,
      "outputs": [
        {
          "output_type": "execute_result",
          "data": {
            "text/plain": [
              "3    5845\n",
              "1    5492\n",
              "2    4068\n",
              "4    3245\n",
              "0    2710\n",
              "Name: label, dtype: int64"
            ]
          },
          "metadata": {
            "tags": []
          },
          "execution_count": 26
        }
      ]
    },
    {
      "cell_type": "markdown",
      "metadata": {
        "id": "ny1M5ogRQ9u4"
      },
      "source": [
        "### Serialize the dataframe "
      ]
    },
    {
      "cell_type": "code",
      "metadata": {
        "id": "R954Q6-_N6Ae"
      },
      "source": [
        "with open('train_final.pkl', 'wb') as train_set: \n",
        "    pickle.dump(train_final, train_set)"
      ],
      "execution_count": 28,
      "outputs": []
    },
    {
      "cell_type": "code",
      "metadata": {
        "colab": {
          "base_uri": "https://localhost:8080/",
          "height": 405
        },
        "id": "uttUzcxRQHA6",
        "outputId": "7406d174-0fd7-45a2-a8b9-3853cc076e6e"
      },
      "source": [
        "fig = plt.figure(figsize=(8,6))\n",
        "\n",
        "ax = sns.barplot(x=train_final['label'].unique(), y=train_final['label'].value_counts())\n",
        "\n",
        "ax.set(xlabel = 'Labels')"
      ],
      "execution_count": 27,
      "outputs": [
        {
          "output_type": "execute_result",
          "data": {
            "text/plain": [
              "[Text(0.5, 0, 'Labels')]"
            ]
          },
          "metadata": {
            "tags": []
          },
          "execution_count": 27
        },
        {
          "output_type": "display_data",
          "data": {
            "image/png": "[encoded data removed]",
            "text/plain": [
              "<Figure size 576x432 with 1 Axes>"
            ]
          },
          "metadata": {
            "tags": [],
            "needs_background": "light"
          }
        }
      ]
    },
    {
      "cell_type": "markdown",
      "metadata": {
        "id": "cPquZAU1Qr0D"
      },
      "source": [
        "### We have got imbalanced dataset, better to agument data in under populated classes"
      ]
    },
    {
      "cell_type": "markdown",
      "metadata": {
        "id": "e__2lMoaRTO3"
      },
      "source": [
        "### Tokenize the data"
      ]
    },
    {
      "cell_type": "code",
      "metadata": {
        "id": "Y2scpuA8VUzV"
      },
      "source": [
        "# train_final.to_csv('/content/session5', index=False) \n",
        "# test.to_csv('/content/session5',  index=False)\n",
        "\n",
        "# from google.colab import files\n",
        "\n",
        "train_final.to_csv('train_final.csv', index=False)\n",
        "test.to_csv('test.csv', index=False)\n",
        "# files.download('train_final.csv')\n",
        "# files.download('test.csv')"
      ],
      "execution_count": 28,
      "outputs": []
    },
    {
      "cell_type": "code",
      "metadata": {
        "id": "n0IDkXtNRwz-"
      },
      "source": [
        "def text_clean(text):\n",
        "  text = re.sub(r'[^A-Za-z0-9_-]+', ' ', text)\n",
        "  text = re.sub(r'https?:/\\/\\S+', ' ', text)\n",
        "\n",
        "  return(text.strip())"
      ],
      "execution_count": 29,
      "outputs": []
    },
    {
      "cell_type": "code",
      "metadata": {
        "id": "kZ3hvc78Qqd5"
      },
      "source": [
        "nlp = spacy.load('en', disable = ['parser', 'tagger', 'ner'])\n",
        "def tokenizer(s):\n",
        "  return [w.text.lower() for w in nlp(text_clean(s))]"
      ],
      "execution_count": 30,
      "outputs": []
    },
    {
      "cell_type": "code",
      "metadata": {
        "id": "uXG2fWidR7sc"
      },
      "source": [
        "TEXT = torchtext.legacy.data.Field(tokenize = tokenizer)\n",
        "\n",
        "LABEL = torchtext.legacy.data.LabelField(dtype = torch.float)"
      ],
      "execution_count": 31,
      "outputs": []
    },
    {
      "cell_type": "code",
      "metadata": {
        "id": "L0YT2fCIT984"
      },
      "source": [
        "datafields = [('label', LABEL), ('sentence', TEXT)]"
      ],
      "execution_count": 32,
      "outputs": []
    },
    {
      "cell_type": "code",
      "metadata": {
        "id": "Lzo4F_s7UCpO"
      },
      "source": [
        "trn, tst = torchtext.legacy.data.TabularDataset.splits(path='/content/session5',\n",
        "                                                       train = 'train_final.csv',\n",
        "                                                       test = 'test.csv',\n",
        "                                                       format = 'csv',\n",
        "                                                       skip_header = True,\n",
        "                                                       fields = datafields\n",
        "                                                       )"
      ],
      "execution_count": 33,
      "outputs": []
    },
    {
      "cell_type": "code",
      "metadata": {
        "colab": {
          "base_uri": "https://localhost:8080/"
        },
        "id": "6R1vyxlMWXrV",
        "outputId": "8c6fa14e-9333-4fa7-c476-f9cca1d85888"
      },
      "source": [
        "trn[:5]"
      ],
      "execution_count": 34,
      "outputs": [
        {
          "output_type": "execute_result",
          "data": {
            "text/plain": [
              "[<torchtext.legacy.data.example.Example at 0x7f6519495a90>,\n",
              " <torchtext.legacy.data.example.Example at 0x7f651a3d2890>,\n",
              " <torchtext.legacy.data.example.Example at 0x7f651a3d2ad0>,\n",
              " <torchtext.legacy.data.example.Example at 0x7f651a3d2a90>,\n",
              " <torchtext.legacy.data.example.Example at 0x7f65193a1450>]"
            ]
          },
          "metadata": {
            "tags": []
          },
          "execution_count": 34
        }
      ]
    },
    {
      "cell_type": "code",
      "metadata": {
        "colab": {
          "base_uri": "https://localhost:8080/"
        },
        "id": "GCPUYHcuaBba",
        "outputId": "13565fb2-8450-4aa9-e96e-d5b6f413d18b"
      },
      "source": [
        "print(f'Number of examples in training {len(trn)}')\n",
        "print(f'Number of examples in test {len(tst)}')"
      ],
      "execution_count": 35,
      "outputs": [
        {
          "output_type": "stream",
          "text": [
            "Number of examples in training 21360\n",
            "Number of examples in test 2210\n"
          ],
          "name": "stdout"
        }
      ]
    },
    {
      "cell_type": "code",
      "metadata": {
        "colab": {
          "base_uri": "https://localhost:8080/"
        },
        "id": "hIbChN6-aJHM",
        "outputId": "da82df28-7f2b-4fbf-c027-5f56110b50ba"
      },
      "source": [
        "trn[5].__dict__.keys()"
      ],
      "execution_count": 36,
      "outputs": [
        {
          "output_type": "execute_result",
          "data": {
            "text/plain": [
              "dict_keys(['label', 'sentence'])"
            ]
          },
          "metadata": {
            "tags": []
          },
          "execution_count": 36
        }
      ]
    },
    {
      "cell_type": "code",
      "metadata": {
        "colab": {
          "base_uri": "https://localhost:8080/"
        },
        "id": "MLRWs1_HaPcP",
        "outputId": "22988d6e-ff3b-45df-e79b-fd7867ef4830"
      },
      "source": [
        "trn[5].sentence, trn[5].label"
      ],
      "execution_count": 37,
      "outputs": [
        {
          "output_type": "execute_result",
          "data": {
            "text/plain": [
              "(['whether',\n",
              "  'or',\n",
              "  'not',\n",
              "  'you',\n",
              "  're',\n",
              "  'enlightened',\n",
              "  'by',\n",
              "  'any',\n",
              "  'of',\n",
              "  'derrida',\n",
              "  's',\n",
              "  'lectures',\n",
              "  'on',\n",
              "  'the',\n",
              "  'other',\n",
              "  'and',\n",
              "  'the',\n",
              "  'self',\n",
              "  'derrida',\n",
              "  'is',\n",
              "  'an',\n",
              "  'undeniably',\n",
              "  'fascinating',\n",
              "  'and',\n",
              "  'playful',\n",
              "  'fellow'],\n",
              " '4')"
            ]
          },
          "metadata": {
            "tags": []
          },
          "execution_count": 37
        }
      ]
    },
    {
      "cell_type": "code",
      "metadata": {
        "colab": {
          "base_uri": "https://localhost:8080/"
        },
        "id": "gQ0AWue8aYVe",
        "outputId": "03815b72-9788-4ede-98d0-fc622590a0ba"
      },
      "source": [
        "print(vars(trn[5]))"
      ],
      "execution_count": 38,
      "outputs": [
        {
          "output_type": "stream",
          "text": [
            "{'label': '4', 'sentence': ['whether', 'or', 'not', 'you', 're', 'enlightened', 'by', 'any', 'of', 'derrida', 's', 'lectures', 'on', 'the', 'other', 'and', 'the', 'self', 'derrida', 'is', 'an', 'undeniably', 'fascinating', 'and', 'playful', 'fellow']}\n"
          ],
          "name": "stdout"
        }
      ]
    },
    {
      "cell_type": "code",
      "metadata": {
        "id": "LO52LIENelsT"
      },
      "source": [
        "words = [0 + len(t.sentence) for t in trn]"
      ],
      "execution_count": 39,
      "outputs": []
    },
    {
      "cell_type": "code",
      "metadata": {
        "colab": {
          "base_uri": "https://localhost:8080/"
        },
        "id": "IsBKZ7g5fPa-",
        "outputId": "0452abf6-7358-4f0d-b3c2-29e2a552c59f"
      },
      "source": [
        "sum(words)"
      ],
      "execution_count": 40,
      "outputs": [
        {
          "output_type": "execute_result",
          "data": {
            "text/plain": [
              "341280"
            ]
          },
          "metadata": {
            "tags": []
          },
          "execution_count": 40
        }
      ]
    },
    {
      "cell_type": "code",
      "metadata": {
        "colab": {
          "base_uri": "https://localhost:8080/"
        },
        "id": "L-uK4B7VaauP",
        "outputId": "cbb986aa-b6d4-4320-950a-a781caa487b2"
      },
      "source": [
        "TEXT.build_vocab(trn, max_size = 18000,\n",
        "                 vectors = \"glove.6B.100d\",\n",
        "                 unk_init = torch.Tensor.normal_ )\n",
        "\n",
        "LABEL.build_vocab(trn) "
      ],
      "execution_count": 41,
      "outputs": [
        {
          "output_type": "stream",
          "text": [
            ".vector_cache/glove.6B.zip: 862MB [02:39, 5.40MB/s]                           \n",
            "100%|█████████▉| 399099/400000 [00:13<00:00, 28400.33it/s]"
          ],
          "name": "stderr"
        }
      ]
    },
    {
      "cell_type": "markdown",
      "metadata": {
        "id": "y38F31IVgLvd"
      },
      "source": [
        "### Serialize Vocab"
      ]
    },
    {
      "cell_type": "code",
      "metadata": {
        "id": "rq2O93nAgKfK"
      },
      "source": [
        "with open('TEXT.pkl', 'wb') as text: \n",
        "    pickle.dump(TEXT, text)"
      ],
      "execution_count": 42,
      "outputs": []
    },
    {
      "cell_type": "code",
      "metadata": {
        "id": "1w1CGaBlhtOi"
      },
      "source": [
        "with open('LABEL.pkl', 'wb') as label: \n",
        "    pickle.dump(LABEL, label)"
      ],
      "execution_count": 43,
      "outputs": []
    },
    {
      "cell_type": "code",
      "metadata": {
        "colab": {
          "base_uri": "https://localhost:8080/"
        },
        "id": "eT5w7MCVgQSw",
        "outputId": "247dc1a7-da05-4daa-b7a5-56e08f8f29f7"
      },
      "source": [
        "print(TEXT.vocab.freqs.most_common(50))"
      ],
      "execution_count": 44,
      "outputs": [
        {
          "output_type": "stream",
          "text": [
            "[('the', 16620), ('a', 11976), ('of', 10117), ('and', 10116), ('to', 6805), ('-', 6223), ('s', 5813), ('is', 5807), ('it', 5441), ('that', 4389), ('in', 4322), ('as', 2853), ('film', 2637), ('but', 2618), ('with', 2605), ('for', 2315), ('movie', 2264), ('this', 2216), ('an', 2201), ('its', 2138), ('you', 1920), ('t', 1597), ('n', 1575), ('on', 1494), ('be', 1474), ('not', 1384), ('one', 1314), ('by', 1274), ('has', 1210), ('about', 1201), ('more', 1192), ('like', 1175), ('at', 1157), ('are', 1150), ('from', 1141), ('--', 1139), ('than', 1113), ('all', 1097), ('have', 1065), ('his', 967), ('so', 952), ('i', 945), ('if', 907), ('or', 855), ('story', 809), ('out', 781), ('what', 770), ('who', 745), ('there', 737), ('too', 711)]\n"
          ],
          "name": "stdout"
        }
      ]
    },
    {
      "cell_type": "code",
      "metadata": {
        "colab": {
          "base_uri": "https://localhost:8080/"
        },
        "id": "5nP9s3gRgTio",
        "outputId": "c3d7396d-0aba-4f69-e2bb-b9de99318851"
      },
      "source": [
        "print(TEXT.vocab.itos[:10])"
      ],
      "execution_count": 45,
      "outputs": [
        {
          "output_type": "stream",
          "text": [
            "['<unk>', '<pad>', 'the', 'a', 'of', 'and', 'to', '-', 's', 'is']\n"
          ],
          "name": "stdout"
        }
      ]
    },
    {
      "cell_type": "code",
      "metadata": {
        "colab": {
          "base_uri": "https://localhost:8080/"
        },
        "id": "pzJ2ltvMgWuh",
        "outputId": "754ca1fc-5aae-4059-8d36-5b8efaa971ce"
      },
      "source": [
        "print(LABEL.vocab.stoi)"
      ],
      "execution_count": 46,
      "outputs": [
        {
          "output_type": "stream",
          "text": [
            "defaultdict(None, {'3': 0, '1': 1, '2': 2, '4': 3, '0': 4})\n"
          ],
          "name": "stdout"
        }
      ]
    },
    {
      "cell_type": "code",
      "metadata": {
        "id": "2C8RBIiMgXSa"
      },
      "source": [
        "BATCH_SIZE = 128\n",
        "\n",
        "device = torch.device('cuda' if torch.cuda.is_available() else 'cpu')\n",
        "\n",
        "train_iterator, test_iterator = torchtext.legacy.data.BucketIterator.splits(\n",
        "                                                                            (trn, tst),\n",
        "                                                                            batch_size = BATCH_SIZE,\n",
        "                                                                            sort_key = lambda x: len(x.sentence),\n",
        "                                                                            sort_within_batch= True, \n",
        "                                                                            device = device)"
      ],
      "execution_count": 47,
      "outputs": []
    },
    {
      "cell_type": "code",
      "metadata": {
        "id": "kbNnlnnaibD-"
      },
      "source": [
        "class RNN(nn.Module):\n",
        "  \n",
        "  def __init__(self, vocab_size, embedding_dim, hidden_dim, output_dim, n_layers, bidirectional, dropout):\n",
        "    \n",
        "    super().__init__()\n",
        "\n",
        "    self.embedding = nn.Embedding(vocab_size, embedding_dim)\n",
        "\n",
        "    self.rnn = nn.GRU(embedding_dim, hidden_dim, num_layers = n_layers,\n",
        "                      bidirectional = bidirectional, dropout = dropout )\n",
        "    \n",
        "    self.fc = nn.Linear(hidden_dim*2, output_dim)\n",
        "\n",
        "    self.dropout = nn.Dropout(dropout)\n",
        "\n",
        "  def forward(self, text):\n",
        "\n",
        "    embedded =  self.dropout(self.embedding(text))\n",
        "\n",
        "    output, hidden = self.rnn(embedded)\n",
        "\n",
        "    hidden = self.dropout(torch.cat((hidden[-2,:,:], hidden[-1,:,:]), dim=1))\n",
        "\n",
        "    return self.fc(hidden.squeeze(0))"
      ],
      "execution_count": 48,
      "outputs": []
    },
    {
      "cell_type": "code",
      "metadata": {
        "id": "uLMz6kqnjg0U"
      },
      "source": [
        "input_dim = len(TEXT.vocab)\n",
        "\n",
        "embedding_dim = 100\n",
        "\n",
        "hidden_dim  = 256\n",
        "\n",
        "output_dim = 5\n",
        "\n",
        "num_layers = 2\n",
        "\n",
        "bidirectional = True\n",
        "\n",
        "dropout = .4"
      ],
      "execution_count": 49,
      "outputs": []
    },
    {
      "cell_type": "code",
      "metadata": {
        "id": "KjuSfWzejmII"
      },
      "source": [
        "model = RNN(input_dim, \n",
        "            embedding_dim,\n",
        "            hidden_dim,\n",
        "            output_dim,\n",
        "            num_layers,\n",
        "            bidirectional,\n",
        "            dropout)"
      ],
      "execution_count": 50,
      "outputs": []
    },
    {
      "cell_type": "code",
      "metadata": {
        "colab": {
          "base_uri": "https://localhost:8080/"
        },
        "id": "4cvElpKHjqZ2",
        "outputId": "c5e804f3-2de1-4f62-f096-d12e5a37ac62"
      },
      "source": [
        "model"
      ],
      "execution_count": 51,
      "outputs": [
        {
          "output_type": "execute_result",
          "data": {
            "text/plain": [
              "RNN(\n",
              "  (embedding): Embedding(15358, 100)\n",
              "  (rnn): GRU(100, 256, num_layers=2, dropout=0.3, bidirectional=True)\n",
              "  (fc): Linear(in_features=512, out_features=5, bias=True)\n",
              "  (dropout): Dropout(p=0.3, inplace=False)\n",
              ")"
            ]
          },
          "metadata": {
            "tags": []
          },
          "execution_count": 51
        }
      ]
    },
    {
      "cell_type": "code",
      "metadata": {
        "colab": {
          "base_uri": "https://localhost:8080/"
        },
        "id": "zi0ZEb1DjrDd",
        "outputId": "2104e62a-f8d5-4a6f-db51-795757387008"
      },
      "source": [
        "pretrained_embeddings = TEXT.vocab.vectors\n",
        "print(pretrained_embeddings.shape)"
      ],
      "execution_count": 52,
      "outputs": [
        {
          "output_type": "stream",
          "text": [
            "torch.Size([15358, 100])\n"
          ],
          "name": "stdout"
        }
      ]
    },
    {
      "cell_type": "code",
      "metadata": {
        "colab": {
          "base_uri": "https://localhost:8080/"
        },
        "id": "dm5M7uyzkV66",
        "outputId": "ae32ba8b-1d67-4e40-8baf-d40a42c488f8"
      },
      "source": [
        "model.embedding.weight.data.copy_(pretrained_embeddings)"
      ],
      "execution_count": 53,
      "outputs": [
        {
          "output_type": "execute_result",
          "data": {
            "text/plain": [
              "tensor([[ 1.1689, -1.1809,  0.1555,  ..., -0.2434, -0.3489,  1.3271],\n",
              "        [-1.8369, -1.1993,  0.8885,  ...,  0.2879,  0.3148, -0.3080],\n",
              "        [-0.0382, -0.2449,  0.7281,  ..., -0.1459,  0.8278,  0.2706],\n",
              "        ...,\n",
              "        [-0.0635,  0.1009,  0.2432,  ...,  0.3273, -0.3251,  0.1559],\n",
              "        [ 0.2153,  0.4650,  0.3468,  ...,  0.2906,  0.0631, -0.4491],\n",
              "        [ 0.0109, -0.8665,  0.2749,  ...,  0.1131,  0.1014,  0.3842]])"
            ]
          },
          "metadata": {
            "tags": []
          },
          "execution_count": 53
        }
      ]
    },
    {
      "cell_type": "code",
      "metadata": {
        "colab": {
          "base_uri": "https://localhost:8080/"
        },
        "id": "42RJCFxlkZaa",
        "outputId": "40075208-855f-4844-be2a-5979595b71ab"
      },
      "source": [
        "unk_idx = TEXT.vocab.stoi[TEXT.unk_token]\n",
        "pad_idx = TEXT.vocab.stoi[TEXT.pad_token]\n",
        "\n",
        "model.embedding.weight.data[unk_idx] = torch.zeros(embedding_dim)\n",
        "model.embedding.weight.data[pad_idx] = torch.zeros(embedding_dim)\n",
        "\n",
        "print(model.embedding.weight.data)"
      ],
      "execution_count": 54,
      "outputs": [
        {
          "output_type": "stream",
          "text": [
            "tensor([[ 0.0000,  0.0000,  0.0000,  ...,  0.0000,  0.0000,  0.0000],\n",
            "        [ 0.0000,  0.0000,  0.0000,  ...,  0.0000,  0.0000,  0.0000],\n",
            "        [-0.0382, -0.2449,  0.7281,  ..., -0.1459,  0.8278,  0.2706],\n",
            "        ...,\n",
            "        [-0.0635,  0.1009,  0.2432,  ...,  0.3273, -0.3251,  0.1559],\n",
            "        [ 0.2153,  0.4650,  0.3468,  ...,  0.2906,  0.0631, -0.4491],\n",
            "        [ 0.0109, -0.8665,  0.2749,  ...,  0.1131,  0.1014,  0.3842]])\n"
          ],
          "name": "stdout"
        }
      ]
    },
    {
      "cell_type": "code",
      "metadata": {
        "id": "91pON0m5kch3"
      },
      "source": [
        "optimizer = optim.Adam(model.parameters(), lr = 1e-5)\n",
        "criterion = nn.CrossEntropyLoss()"
      ],
      "execution_count": 55,
      "outputs": []
    },
    {
      "cell_type": "code",
      "metadata": {
        "id": "sXvTvYxplc1g"
      },
      "source": [
        "# define metric\n",
        "def binary_accuracy(preds, y):\n",
        "    #round predictions to the closest integer\n",
        "    _, predictions = torch.max(preds, 1)\n",
        "    \n",
        "    correct = (predictions == y).float() \n",
        "    acc = correct.sum() / len(correct)\n",
        "    return acc\n",
        "    \n",
        "# push to cuda if available\n",
        "model = model.to(device)\n",
        "criterion = criterion.to(device)"
      ],
      "execution_count": 56,
      "outputs": []
    },
    {
      "cell_type": "code",
      "metadata": {
        "id": "Ksm5_ArJl30A"
      },
      "source": [
        "# def train(model, iterator, optimizer, cretrion):\n",
        "\n",
        "#   epoch_loss = 0\n",
        "#   epoch_acc = 0\n",
        "\n",
        "#   model.train()\n",
        "\n",
        "#   for batch in iterator:\n",
        "\n",
        "#     optimizer.zero_grad()\n",
        "\n",
        "#     predictions = model(batch.sentence).squeeze(1)\n",
        "\n",
        "#     # predictions = torch.argmax(predictions,1)\n",
        "\n",
        "#     print(predictions, batch.label)\n",
        "\n",
        "#     loss = criterion(predictions, batch.label.float())\n",
        "\n",
        "#     # rounded_preds = torch.round(torch.sigmoid(predictions))\n",
        "#     correct = (predictions == batch.label).float()\n",
        "\n",
        "#     acc = correct.sum() / len(correct)\n",
        "\n",
        "#     loss.backward()\n",
        "\n",
        "#     optimizer.step()\n",
        "\n",
        "#     epoch_loss += loss.item()\n",
        "#     epoch_acc += acc.item()\n",
        "\n",
        "#   return epoch_loss / len(iterator) , epoch_acc / len(iterator)"
      ],
      "execution_count": 59,
      "outputs": []
    },
    {
      "cell_type": "code",
      "metadata": {
        "id": "Hvw0z32an2El"
      },
      "source": [
        "# num_epochs = 1\n",
        "\n",
        "# for epoch in range(num_epochs):\n",
        "#   train_loss, train_acc = train(model, train_iterator, optimizer, criterion)\n",
        "#   print(f'| Epoch: {epoch+1:02}  | Train Loss: {train_loss: .3f}  | Train Accuracy: {train_acc*100: .2f}%')"
      ],
      "execution_count": 60,
      "outputs": []
    },
    {
      "cell_type": "code",
      "metadata": {
        "id": "Ag-ziayipMtM"
      },
      "source": [
        "def train(model, iterator, optimizer, criterion):\n",
        "    \n",
        "    # initialize every epoch \n",
        "    epoch_loss = 0\n",
        "    epoch_acc = 0\n",
        "    \n",
        "    # set the model in training phase\n",
        "    model.train()  \n",
        "    \n",
        "    for batch in iterator:\n",
        "        \n",
        "        # resets the gradients after every batch\n",
        "        optimizer.zero_grad()   \n",
        "               \n",
        "        # convert to 1D tensor\n",
        "        predictions = model(batch.sentence).squeeze(1)\n",
        "        \n",
        "        # compute the loss\n",
        "        loss = criterion(predictions, batch.label.long())        \n",
        "        \n",
        "        # compute the binary accuracy\n",
        "        acc = binary_accuracy(predictions, batch.label.long())   \n",
        "        \n",
        "        # backpropage the loss and compute the gradients\n",
        "        loss.backward()       \n",
        "        \n",
        "        # update the weights\n",
        "        optimizer.step()      \n",
        "        \n",
        "        # loss and accuracy\n",
        "        epoch_loss += loss.item()  \n",
        "        epoch_acc += acc.item()    \n",
        "        \n",
        "    return epoch_loss / len(iterator), epoch_acc / len(iterator)"
      ],
      "execution_count": 57,
      "outputs": []
    },
    {
      "cell_type": "code",
      "metadata": {
        "id": "pUOvLA0zxdym"
      },
      "source": [
        "def evaluate(model, iterator, criterion):\n",
        "    \n",
        "    # initialize every epoch\n",
        "    epoch_loss = 0\n",
        "    epoch_acc = 0\n",
        "\n",
        "    # deactivating dropout layers\n",
        "    model.eval()\n",
        "    \n",
        "    # deactivates autograd\n",
        "    with torch.no_grad():\n",
        "    \n",
        "        for batch in iterator:\n",
        "                   \n",
        "            # convert to 1d tensor\n",
        "            predictions = model(batch.sentence).squeeze(1)\n",
        "            \n",
        "            # compute loss and accuracy\n",
        "            loss = criterion(predictions, batch.label.long())\n",
        "            acc = binary_accuracy(predictions, batch.label.long())\n",
        "            \n",
        "            # keep track of loss and accuracy\n",
        "            epoch_loss += loss.item()\n",
        "            epoch_acc += acc.item()\n",
        "        \n",
        "    return epoch_loss / len(iterator), epoch_acc / len(iterator)"
      ],
      "execution_count": 58,
      "outputs": []
    },
    {
      "cell_type": "code",
      "metadata": {
        "colab": {
          "base_uri": "https://localhost:8080/"
        },
        "id": "N7uWRRo3xkcA",
        "outputId": "60ced6ce-94df-4025-fd59-8a2dd97f9a2f"
      },
      "source": [
        "N_EPOCHS = 200\n",
        "\n",
        "best_test_loss = float('inf')\n",
        "\n",
        "trn_loss = [] \n",
        "trn_acc = []\n",
        "tst_loss = [] \n",
        "tst_acc = [] \n",
        "\n",
        "for epoch in range(N_EPOCHS):\n",
        "     \n",
        "    # train the model\n",
        "    train_loss, train_acc = train(model, train_iterator, optimizer, criterion)\n",
        "    trn_loss.append(train_loss)\n",
        "    trn_acc.append(train_acc*100)\n",
        "    \n",
        "    # evaluate the model\n",
        "    test_loss, test_acc = evaluate(model, test_iterator, criterion)\n",
        "    tst_loss.append(test_loss)\n",
        "    tst_acc.append(test_acc*100)\n",
        "    \n",
        "    # # save the best model\n",
        "    # if test_loss < best_test_loss:\n",
        "    #     best_test_loss = test_loss\n",
        "    #     torch.save(model.state_dict(), 'saved_weights.pt')\n",
        "    \n",
        "    print(f'Epoch: {epoch+1}')\n",
        "    print(f'\\tTrain Loss: {train_loss:.3f} | Train Acc: {train_acc*100:.2f}%')\n",
        "    print(f'\\t Val. Loss: {test_loss:.3f} |  Val. Acc: {test_acc*100:.2f}% \\n')"
      ],
      "execution_count": 59,
      "outputs": [
        {
          "output_type": "stream",
          "text": [
            "Epoch: 1\n",
            "\tTrain Loss: 1.580 | Train Acc: 27.09%\n",
            "\t Val. Loss: 1.576 |  Val. Acc: 26.38% \n",
            "\n",
            "Epoch: 2\n",
            "\tTrain Loss: 1.563 | Train Acc: 28.76%\n",
            "\t Val. Loss: 1.571 |  Val. Acc: 26.57% \n",
            "\n",
            "Epoch: 3\n",
            "\tTrain Loss: 1.557 | Train Acc: 29.90%\n",
            "\t Val. Loss: 1.567 |  Val. Acc: 27.52% \n",
            "\n",
            "Epoch: 4\n",
            "\tTrain Loss: 1.551 | Train Acc: 30.49%\n",
            "\t Val. Loss: 1.558 |  Val. Acc: 30.86% \n",
            "\n",
            "Epoch: 5\n",
            "\tTrain Loss: 1.543 | Train Acc: 31.84%\n",
            "\t Val. Loss: 1.551 |  Val. Acc: 30.14% \n",
            "\n",
            "Epoch: 6\n",
            "\tTrain Loss: 1.534 | Train Acc: 31.92%\n",
            "\t Val. Loss: 1.537 |  Val. Acc: 32.31% \n",
            "\n",
            "Epoch: 7\n",
            "\tTrain Loss: 1.520 | Train Acc: 32.71%\n",
            "\t Val. Loss: 1.520 |  Val. Acc: 33.49% \n",
            "\n",
            "Epoch: 8\n",
            "\tTrain Loss: 1.502 | Train Acc: 33.89%\n",
            "\t Val. Loss: 1.494 |  Val. Acc: 34.72% \n",
            "\n",
            "Epoch: 9\n",
            "\tTrain Loss: 1.478 | Train Acc: 34.71%\n",
            "\t Val. Loss: 1.465 |  Val. Acc: 35.74% \n",
            "\n",
            "Epoch: 10\n",
            "\tTrain Loss: 1.457 | Train Acc: 35.66%\n",
            "\t Val. Loss: 1.439 |  Val. Acc: 36.86% \n",
            "\n",
            "Epoch: 11\n",
            "\tTrain Loss: 1.443 | Train Acc: 36.74%\n",
            "\t Val. Loss: 1.421 |  Val. Acc: 38.50% \n",
            "\n",
            "Epoch: 12\n",
            "\tTrain Loss: 1.434 | Train Acc: 36.95%\n",
            "\t Val. Loss: 1.411 |  Val. Acc: 38.42% \n",
            "\n",
            "Epoch: 13\n",
            "\tTrain Loss: 1.421 | Train Acc: 37.74%\n",
            "\t Val. Loss: 1.402 |  Val. Acc: 38.95% \n",
            "\n",
            "Epoch: 14\n",
            "\tTrain Loss: 1.415 | Train Acc: 38.14%\n",
            "\t Val. Loss: 1.394 |  Val. Acc: 39.12% \n",
            "\n",
            "Epoch: 15\n",
            "\tTrain Loss: 1.411 | Train Acc: 38.32%\n",
            "\t Val. Loss: 1.389 |  Val. Acc: 39.36% \n",
            "\n",
            "Epoch: 16\n",
            "\tTrain Loss: 1.407 | Train Acc: 38.43%\n",
            "\t Val. Loss: 1.384 |  Val. Acc: 40.04% \n",
            "\n",
            "Epoch: 17\n",
            "\tTrain Loss: 1.403 | Train Acc: 38.90%\n",
            "\t Val. Loss: 1.381 |  Val. Acc: 39.86% \n",
            "\n",
            "Epoch: 18\n",
            "\tTrain Loss: 1.398 | Train Acc: 38.88%\n",
            "\t Val. Loss: 1.377 |  Val. Acc: 40.00% \n",
            "\n",
            "Epoch: 19\n",
            "\tTrain Loss: 1.397 | Train Acc: 38.91%\n",
            "\t Val. Loss: 1.374 |  Val. Acc: 40.33% \n",
            "\n",
            "Epoch: 20\n",
            "\tTrain Loss: 1.391 | Train Acc: 39.17%\n",
            "\t Val. Loss: 1.370 |  Val. Acc: 40.55% \n",
            "\n",
            "Epoch: 21\n",
            "\tTrain Loss: 1.386 | Train Acc: 39.43%\n",
            "\t Val. Loss: 1.366 |  Val. Acc: 40.63% \n",
            "\n",
            "Epoch: 22\n",
            "\tTrain Loss: 1.385 | Train Acc: 39.42%\n",
            "\t Val. Loss: 1.365 |  Val. Acc: 40.34% \n",
            "\n",
            "Epoch: 23\n",
            "\tTrain Loss: 1.383 | Train Acc: 39.55%\n",
            "\t Val. Loss: 1.363 |  Val. Acc: 39.80% \n",
            "\n",
            "Epoch: 24\n",
            "\tTrain Loss: 1.383 | Train Acc: 39.72%\n",
            "\t Val. Loss: 1.361 |  Val. Acc: 40.34% \n",
            "\n",
            "Epoch: 25\n",
            "\tTrain Loss: 1.376 | Train Acc: 39.52%\n",
            "\t Val. Loss: 1.358 |  Val. Acc: 40.21% \n",
            "\n",
            "Epoch: 26\n",
            "\tTrain Loss: 1.372 | Train Acc: 39.98%\n",
            "\t Val. Loss: 1.355 |  Val. Acc: 40.34% \n",
            "\n",
            "Epoch: 27\n",
            "\tTrain Loss: 1.368 | Train Acc: 40.23%\n",
            "\t Val. Loss: 1.354 |  Val. Acc: 40.38% \n",
            "\n",
            "Epoch: 28\n",
            "\tTrain Loss: 1.366 | Train Acc: 40.43%\n",
            "\t Val. Loss: 1.349 |  Val. Acc: 40.94% \n",
            "\n",
            "Epoch: 29\n",
            "\tTrain Loss: 1.360 | Train Acc: 40.96%\n",
            "\t Val. Loss: 1.344 |  Val. Acc: 41.02% \n",
            "\n",
            "Epoch: 30\n",
            "\tTrain Loss: 1.359 | Train Acc: 41.23%\n",
            "\t Val. Loss: 1.349 |  Val. Acc: 41.06% \n",
            "\n",
            "Epoch: 31\n",
            "\tTrain Loss: 1.356 | Train Acc: 41.00%\n",
            "\t Val. Loss: 1.342 |  Val. Acc: 40.51% \n",
            "\n",
            "Epoch: 32\n",
            "\tTrain Loss: 1.353 | Train Acc: 41.11%\n",
            "\t Val. Loss: 1.342 |  Val. Acc: 41.32% \n",
            "\n",
            "Epoch: 33\n",
            "\tTrain Loss: 1.352 | Train Acc: 41.19%\n",
            "\t Val. Loss: 1.343 |  Val. Acc: 41.40% \n",
            "\n",
            "Epoch: 34\n",
            "\tTrain Loss: 1.350 | Train Acc: 41.18%\n",
            "\t Val. Loss: 1.338 |  Val. Acc: 41.33% \n",
            "\n",
            "Epoch: 35\n",
            "\tTrain Loss: 1.348 | Train Acc: 41.24%\n",
            "\t Val. Loss: 1.335 |  Val. Acc: 41.07% \n",
            "\n",
            "Epoch: 36\n",
            "\tTrain Loss: 1.341 | Train Acc: 41.58%\n",
            "\t Val. Loss: 1.336 |  Val. Acc: 40.98% \n",
            "\n",
            "Epoch: 37\n",
            "\tTrain Loss: 1.338 | Train Acc: 41.87%\n",
            "\t Val. Loss: 1.334 |  Val. Acc: 41.45% \n",
            "\n",
            "Epoch: 38\n",
            "\tTrain Loss: 1.339 | Train Acc: 41.37%\n",
            "\t Val. Loss: 1.329 |  Val. Acc: 41.36% \n",
            "\n",
            "Epoch: 39\n",
            "\tTrain Loss: 1.335 | Train Acc: 41.91%\n",
            "\t Val. Loss: 1.331 |  Val. Acc: 40.64% \n",
            "\n",
            "Epoch: 40\n",
            "\tTrain Loss: 1.330 | Train Acc: 42.13%\n",
            "\t Val. Loss: 1.326 |  Val. Acc: 41.40% \n",
            "\n",
            "Epoch: 41\n",
            "\tTrain Loss: 1.333 | Train Acc: 42.41%\n",
            "\t Val. Loss: 1.326 |  Val. Acc: 41.94% \n",
            "\n",
            "Epoch: 42\n",
            "\tTrain Loss: 1.327 | Train Acc: 42.24%\n",
            "\t Val. Loss: 1.323 |  Val. Acc: 41.49% \n",
            "\n",
            "Epoch: 43\n",
            "\tTrain Loss: 1.328 | Train Acc: 42.19%\n",
            "\t Val. Loss: 1.324 |  Val. Acc: 41.65% \n",
            "\n",
            "Epoch: 44\n",
            "\tTrain Loss: 1.323 | Train Acc: 42.93%\n",
            "\t Val. Loss: 1.324 |  Val. Acc: 41.36% \n",
            "\n",
            "Epoch: 45\n",
            "\tTrain Loss: 1.322 | Train Acc: 42.58%\n",
            "\t Val. Loss: 1.316 |  Val. Acc: 41.91% \n",
            "\n",
            "Epoch: 46\n",
            "\tTrain Loss: 1.316 | Train Acc: 43.07%\n",
            "\t Val. Loss: 1.318 |  Val. Acc: 41.53% \n",
            "\n",
            "Epoch: 47\n",
            "\tTrain Loss: 1.314 | Train Acc: 43.20%\n",
            "\t Val. Loss: 1.314 |  Val. Acc: 41.84% \n",
            "\n",
            "Epoch: 48\n",
            "\tTrain Loss: 1.309 | Train Acc: 43.29%\n",
            "\t Val. Loss: 1.318 |  Val. Acc: 41.62% \n",
            "\n",
            "Epoch: 49\n",
            "\tTrain Loss: 1.311 | Train Acc: 43.26%\n",
            "\t Val. Loss: 1.314 |  Val. Acc: 41.84% \n",
            "\n",
            "Epoch: 50\n",
            "\tTrain Loss: 1.303 | Train Acc: 43.94%\n",
            "\t Val. Loss: 1.313 |  Val. Acc: 42.10% \n",
            "\n",
            "Epoch: 51\n",
            "\tTrain Loss: 1.307 | Train Acc: 43.49%\n",
            "\t Val. Loss: 1.307 |  Val. Acc: 42.05% \n",
            "\n",
            "Epoch: 52\n",
            "\tTrain Loss: 1.301 | Train Acc: 43.42%\n",
            "\t Val. Loss: 1.311 |  Val. Acc: 42.23% \n",
            "\n",
            "Epoch: 53\n",
            "\tTrain Loss: 1.299 | Train Acc: 43.77%\n",
            "\t Val. Loss: 1.305 |  Val. Acc: 42.66% \n",
            "\n",
            "Epoch: 54\n",
            "\tTrain Loss: 1.292 | Train Acc: 44.22%\n",
            "\t Val. Loss: 1.303 |  Val. Acc: 42.62% \n",
            "\n",
            "Epoch: 55\n",
            "\tTrain Loss: 1.296 | Train Acc: 43.91%\n",
            "\t Val. Loss: 1.304 |  Val. Acc: 42.49% \n",
            "\n",
            "Epoch: 56\n",
            "\tTrain Loss: 1.296 | Train Acc: 43.81%\n",
            "\t Val. Loss: 1.300 |  Val. Acc: 42.49% \n",
            "\n",
            "Epoch: 57\n",
            "\tTrain Loss: 1.289 | Train Acc: 44.03%\n",
            "\t Val. Loss: 1.304 |  Val. Acc: 42.27% \n",
            "\n",
            "Epoch: 58\n",
            "\tTrain Loss: 1.288 | Train Acc: 44.48%\n",
            "\t Val. Loss: 1.300 |  Val. Acc: 42.40% \n",
            "\n",
            "Epoch: 59\n",
            "\tTrain Loss: 1.284 | Train Acc: 44.39%\n",
            "\t Val. Loss: 1.304 |  Val. Acc: 42.13% \n",
            "\n",
            "Epoch: 60\n",
            "\tTrain Loss: 1.280 | Train Acc: 45.11%\n",
            "\t Val. Loss: 1.298 |  Val. Acc: 42.62% \n",
            "\n",
            "Epoch: 61\n",
            "\tTrain Loss: 1.280 | Train Acc: 44.58%\n",
            "\t Val. Loss: 1.303 |  Val. Acc: 42.22% \n",
            "\n",
            "Epoch: 62\n",
            "\tTrain Loss: 1.279 | Train Acc: 44.36%\n",
            "\t Val. Loss: 1.298 |  Val. Acc: 42.58% \n",
            "\n",
            "Epoch: 63\n",
            "\tTrain Loss: 1.273 | Train Acc: 45.03%\n",
            "\t Val. Loss: 1.294 |  Val. Acc: 42.84% \n",
            "\n",
            "Epoch: 64\n",
            "\tTrain Loss: 1.271 | Train Acc: 45.06%\n",
            "\t Val. Loss: 1.291 |  Val. Acc: 43.10% \n",
            "\n",
            "Epoch: 65\n",
            "\tTrain Loss: 1.269 | Train Acc: 45.25%\n",
            "\t Val. Loss: 1.295 |  Val. Acc: 43.04% \n",
            "\n",
            "Epoch: 66\n",
            "\tTrain Loss: 1.264 | Train Acc: 45.47%\n",
            "\t Val. Loss: 1.294 |  Val. Acc: 42.75% \n",
            "\n",
            "Epoch: 67\n",
            "\tTrain Loss: 1.266 | Train Acc: 45.43%\n",
            "\t Val. Loss: 1.296 |  Val. Acc: 42.79% \n",
            "\n",
            "Epoch: 68\n",
            "\tTrain Loss: 1.265 | Train Acc: 45.32%\n",
            "\t Val. Loss: 1.292 |  Val. Acc: 43.00% \n",
            "\n",
            "Epoch: 69\n",
            "\tTrain Loss: 1.260 | Train Acc: 45.74%\n",
            "\t Val. Loss: 1.290 |  Val. Acc: 43.13% \n",
            "\n",
            "Epoch: 70\n",
            "\tTrain Loss: 1.255 | Train Acc: 45.67%\n",
            "\t Val. Loss: 1.290 |  Val. Acc: 43.43% \n",
            "\n",
            "Epoch: 71\n",
            "\tTrain Loss: 1.257 | Train Acc: 45.74%\n",
            "\t Val. Loss: 1.292 |  Val. Acc: 42.63% \n",
            "\n",
            "Epoch: 72\n",
            "\tTrain Loss: 1.255 | Train Acc: 46.05%\n",
            "\t Val. Loss: 1.293 |  Val. Acc: 43.22% \n",
            "\n",
            "Epoch: 73\n",
            "\tTrain Loss: 1.251 | Train Acc: 45.91%\n",
            "\t Val. Loss: 1.288 |  Val. Acc: 42.87% \n",
            "\n",
            "Epoch: 74\n",
            "\tTrain Loss: 1.249 | Train Acc: 46.05%\n",
            "\t Val. Loss: 1.285 |  Val. Acc: 42.88% \n",
            "\n",
            "Epoch: 75\n",
            "\tTrain Loss: 1.248 | Train Acc: 46.10%\n",
            "\t Val. Loss: 1.285 |  Val. Acc: 43.04% \n",
            "\n",
            "Epoch: 76\n",
            "\tTrain Loss: 1.241 | Train Acc: 46.40%\n",
            "\t Val. Loss: 1.286 |  Val. Acc: 43.26% \n",
            "\n",
            "Epoch: 77\n",
            "\tTrain Loss: 1.241 | Train Acc: 46.24%\n",
            "\t Val. Loss: 1.297 |  Val. Acc: 43.08% \n",
            "\n",
            "Epoch: 78\n",
            "\tTrain Loss: 1.242 | Train Acc: 46.54%\n",
            "\t Val. Loss: 1.279 |  Val. Acc: 43.35% \n",
            "\n",
            "Epoch: 79\n",
            "\tTrain Loss: 1.239 | Train Acc: 46.40%\n",
            "\t Val. Loss: 1.279 |  Val. Acc: 43.10% \n",
            "\n",
            "Epoch: 80\n",
            "\tTrain Loss: 1.236 | Train Acc: 46.86%\n",
            "\t Val. Loss: 1.278 |  Val. Acc: 43.18% \n",
            "\n",
            "Epoch: 81\n",
            "\tTrain Loss: 1.236 | Train Acc: 46.68%\n",
            "\t Val. Loss: 1.287 |  Val. Acc: 43.39% \n",
            "\n",
            "Epoch: 82\n",
            "\tTrain Loss: 1.229 | Train Acc: 47.02%\n",
            "\t Val. Loss: 1.283 |  Val. Acc: 43.01% \n",
            "\n",
            "Epoch: 83\n",
            "\tTrain Loss: 1.226 | Train Acc: 47.43%\n",
            "\t Val. Loss: 1.281 |  Val. Acc: 42.53% \n",
            "\n",
            "Epoch: 84\n",
            "\tTrain Loss: 1.225 | Train Acc: 47.52%\n",
            "\t Val. Loss: 1.283 |  Val. Acc: 43.30% \n",
            "\n",
            "Epoch: 85\n",
            "\tTrain Loss: 1.226 | Train Acc: 46.99%\n",
            "\t Val. Loss: 1.291 |  Val. Acc: 43.09% \n",
            "\n",
            "Epoch: 86\n",
            "\tTrain Loss: 1.220 | Train Acc: 47.64%\n",
            "\t Val. Loss: 1.287 |  Val. Acc: 42.87% \n",
            "\n",
            "Epoch: 87\n",
            "\tTrain Loss: 1.224 | Train Acc: 47.48%\n",
            "\t Val. Loss: 1.276 |  Val. Acc: 42.88% \n",
            "\n",
            "Epoch: 88\n",
            "\tTrain Loss: 1.219 | Train Acc: 47.58%\n",
            "\t Val. Loss: 1.282 |  Val. Acc: 43.69% \n",
            "\n",
            "Epoch: 89\n",
            "\tTrain Loss: 1.214 | Train Acc: 47.89%\n",
            "\t Val. Loss: 1.280 |  Val. Acc: 43.57% \n",
            "\n",
            "Epoch: 90\n",
            "\tTrain Loss: 1.217 | Train Acc: 47.71%\n",
            "\t Val. Loss: 1.275 |  Val. Acc: 43.53% \n",
            "\n",
            "Epoch: 91\n",
            "\tTrain Loss: 1.205 | Train Acc: 48.11%\n",
            "\t Val. Loss: 1.273 |  Val. Acc: 43.40% \n",
            "\n",
            "Epoch: 92\n",
            "\tTrain Loss: 1.207 | Train Acc: 48.16%\n",
            "\t Val. Loss: 1.284 |  Val. Acc: 43.53% \n",
            "\n",
            "Epoch: 93\n",
            "\tTrain Loss: 1.202 | Train Acc: 48.21%\n",
            "\t Val. Loss: 1.282 |  Val. Acc: 43.36% \n",
            "\n",
            "Epoch: 94\n",
            "\tTrain Loss: 1.204 | Train Acc: 48.21%\n",
            "\t Val. Loss: 1.274 |  Val. Acc: 43.53% \n",
            "\n",
            "Epoch: 95\n",
            "\tTrain Loss: 1.200 | Train Acc: 48.74%\n",
            "\t Val. Loss: 1.271 |  Val. Acc: 43.44% \n",
            "\n",
            "Epoch: 96\n",
            "\tTrain Loss: 1.200 | Train Acc: 48.45%\n",
            "\t Val. Loss: 1.278 |  Val. Acc: 43.57% \n",
            "\n",
            "Epoch: 97\n",
            "\tTrain Loss: 1.193 | Train Acc: 48.68%\n",
            "\t Val. Loss: 1.275 |  Val. Acc: 43.53% \n",
            "\n",
            "Epoch: 98\n",
            "\tTrain Loss: 1.195 | Train Acc: 48.93%\n",
            "\t Val. Loss: 1.272 |  Val. Acc: 43.83% \n",
            "\n",
            "Epoch: 99\n",
            "\tTrain Loss: 1.193 | Train Acc: 48.78%\n",
            "\t Val. Loss: 1.271 |  Val. Acc: 43.57% \n",
            "\n",
            "Epoch: 100\n",
            "\tTrain Loss: 1.189 | Train Acc: 48.79%\n",
            "\t Val. Loss: 1.279 |  Val. Acc: 43.57% \n",
            "\n",
            "Epoch: 101\n",
            "\tTrain Loss: 1.189 | Train Acc: 48.76%\n",
            "\t Val. Loss: 1.276 |  Val. Acc: 43.36% \n",
            "\n",
            "Epoch: 102\n",
            "\tTrain Loss: 1.183 | Train Acc: 49.18%\n",
            "\t Val. Loss: 1.268 |  Val. Acc: 43.83% \n",
            "\n",
            "Epoch: 103\n",
            "\tTrain Loss: 1.183 | Train Acc: 49.67%\n",
            "\t Val. Loss: 1.269 |  Val. Acc: 43.66% \n",
            "\n",
            "Epoch: 104\n",
            "\tTrain Loss: 1.186 | Train Acc: 49.19%\n",
            "\t Val. Loss: 1.276 |  Val. Acc: 43.75% \n",
            "\n",
            "Epoch: 105\n",
            "\tTrain Loss: 1.181 | Train Acc: 48.91%\n",
            "\t Val. Loss: 1.275 |  Val. Acc: 43.75% \n",
            "\n",
            "Epoch: 106\n",
            "\tTrain Loss: 1.177 | Train Acc: 49.61%\n",
            "\t Val. Loss: 1.274 |  Val. Acc: 44.13% \n",
            "\n",
            "Epoch: 107\n",
            "\tTrain Loss: 1.177 | Train Acc: 49.73%\n",
            "\t Val. Loss: 1.278 |  Val. Acc: 43.97% \n",
            "\n",
            "Epoch: 108\n",
            "\tTrain Loss: 1.173 | Train Acc: 49.70%\n",
            "\t Val. Loss: 1.263 |  Val. Acc: 43.88% \n",
            "\n",
            "Epoch: 109\n",
            "\tTrain Loss: 1.172 | Train Acc: 49.96%\n",
            "\t Val. Loss: 1.267 |  Val. Acc: 43.79% \n",
            "\n",
            "Epoch: 110\n",
            "\tTrain Loss: 1.165 | Train Acc: 49.79%\n",
            "\t Val. Loss: 1.272 |  Val. Acc: 44.09% \n",
            "\n",
            "Epoch: 111\n",
            "\tTrain Loss: 1.164 | Train Acc: 50.44%\n",
            "\t Val. Loss: 1.265 |  Val. Acc: 44.18% \n",
            "\n",
            "Epoch: 112\n",
            "\tTrain Loss: 1.166 | Train Acc: 50.17%\n",
            "\t Val. Loss: 1.264 |  Val. Acc: 43.92% \n",
            "\n",
            "Epoch: 113\n",
            "\tTrain Loss: 1.167 | Train Acc: 50.19%\n",
            "\t Val. Loss: 1.277 |  Val. Acc: 43.93% \n",
            "\n",
            "Epoch: 114\n",
            "\tTrain Loss: 1.165 | Train Acc: 50.12%\n",
            "\t Val. Loss: 1.269 |  Val. Acc: 43.83% \n",
            "\n",
            "Epoch: 115\n",
            "\tTrain Loss: 1.159 | Train Acc: 50.34%\n",
            "\t Val. Loss: 1.268 |  Val. Acc: 43.88% \n",
            "\n",
            "Epoch: 116\n",
            "\tTrain Loss: 1.158 | Train Acc: 50.83%\n",
            "\t Val. Loss: 1.262 |  Val. Acc: 44.14% \n",
            "\n",
            "Epoch: 117\n",
            "\tTrain Loss: 1.154 | Train Acc: 50.83%\n",
            "\t Val. Loss: 1.270 |  Val. Acc: 43.19% \n",
            "\n",
            "Epoch: 118\n",
            "\tTrain Loss: 1.156 | Train Acc: 50.20%\n",
            "\t Val. Loss: 1.266 |  Val. Acc: 43.44% \n",
            "\n",
            "Epoch: 119\n",
            "\tTrain Loss: 1.155 | Train Acc: 50.67%\n",
            "\t Val. Loss: 1.266 |  Val. Acc: 44.01% \n",
            "\n",
            "Epoch: 120\n",
            "\tTrain Loss: 1.155 | Train Acc: 50.61%\n",
            "\t Val. Loss: 1.265 |  Val. Acc: 43.92% \n",
            "\n",
            "Epoch: 121\n",
            "\tTrain Loss: 1.144 | Train Acc: 51.10%\n",
            "\t Val. Loss: 1.272 |  Val. Acc: 44.14% \n",
            "\n",
            "Epoch: 122\n",
            "\tTrain Loss: 1.147 | Train Acc: 51.13%\n",
            "\t Val. Loss: 1.265 |  Val. Acc: 44.30% \n",
            "\n",
            "Epoch: 123\n",
            "\tTrain Loss: 1.144 | Train Acc: 50.84%\n",
            "\t Val. Loss: 1.262 |  Val. Acc: 44.09% \n",
            "\n",
            "Epoch: 124\n",
            "\tTrain Loss: 1.138 | Train Acc: 51.38%\n",
            "\t Val. Loss: 1.269 |  Val. Acc: 43.54% \n",
            "\n",
            "Epoch: 125\n",
            "\tTrain Loss: 1.139 | Train Acc: 51.37%\n",
            "\t Val. Loss: 1.271 |  Val. Acc: 44.15% \n",
            "\n",
            "Epoch: 126\n",
            "\tTrain Loss: 1.134 | Train Acc: 51.41%\n",
            "\t Val. Loss: 1.273 |  Val. Acc: 44.06% \n",
            "\n",
            "Epoch: 127\n",
            "\tTrain Loss: 1.134 | Train Acc: 51.89%\n",
            "\t Val. Loss: 1.280 |  Val. Acc: 43.79% \n",
            "\n",
            "Epoch: 128\n",
            "\tTrain Loss: 1.134 | Train Acc: 51.52%\n",
            "\t Val. Loss: 1.271 |  Val. Acc: 44.31% \n",
            "\n",
            "Epoch: 129\n",
            "\tTrain Loss: 1.132 | Train Acc: 51.56%\n",
            "\t Val. Loss: 1.270 |  Val. Acc: 44.14% \n",
            "\n",
            "Epoch: 130\n",
            "\tTrain Loss: 1.127 | Train Acc: 51.82%\n",
            "\t Val. Loss: 1.273 |  Val. Acc: 43.54% \n",
            "\n",
            "Epoch: 131\n",
            "\tTrain Loss: 1.123 | Train Acc: 52.62%\n",
            "\t Val. Loss: 1.272 |  Val. Acc: 43.89% \n",
            "\n",
            "Epoch: 132\n",
            "\tTrain Loss: 1.125 | Train Acc: 51.97%\n",
            "\t Val. Loss: 1.272 |  Val. Acc: 43.41% \n",
            "\n",
            "Epoch: 133\n",
            "\tTrain Loss: 1.126 | Train Acc: 52.03%\n",
            "\t Val. Loss: 1.274 |  Val. Acc: 43.50% \n",
            "\n",
            "Epoch: 134\n",
            "\tTrain Loss: 1.118 | Train Acc: 52.19%\n",
            "\t Val. Loss: 1.274 |  Val. Acc: 43.54% \n",
            "\n",
            "Epoch: 135\n",
            "\tTrain Loss: 1.116 | Train Acc: 52.54%\n",
            "\t Val. Loss: 1.278 |  Val. Acc: 43.67% \n",
            "\n",
            "Epoch: 136\n",
            "\tTrain Loss: 1.114 | Train Acc: 52.54%\n",
            "\t Val. Loss: 1.260 |  Val. Acc: 44.49% \n",
            "\n",
            "Epoch: 137\n",
            "\tTrain Loss: 1.111 | Train Acc: 52.90%\n",
            "\t Val. Loss: 1.291 |  Val. Acc: 43.96% \n",
            "\n",
            "Epoch: 138\n",
            "\tTrain Loss: 1.112 | Train Acc: 52.32%\n",
            "\t Val. Loss: 1.268 |  Val. Acc: 43.97% \n",
            "\n",
            "Epoch: 139\n",
            "\tTrain Loss: 1.110 | Train Acc: 53.13%\n",
            "\t Val. Loss: 1.261 |  Val. Acc: 44.56% \n",
            "\n",
            "Epoch: 140\n",
            "\tTrain Loss: 1.108 | Train Acc: 52.94%\n",
            "\t Val. Loss: 1.268 |  Val. Acc: 43.89% \n",
            "\n",
            "Epoch: 141\n",
            "\tTrain Loss: 1.110 | Train Acc: 53.02%\n",
            "\t Val. Loss: 1.280 |  Val. Acc: 43.62% \n",
            "\n",
            "Epoch: 142\n",
            "\tTrain Loss: 1.106 | Train Acc: 52.92%\n",
            "\t Val. Loss: 1.271 |  Val. Acc: 44.09% \n",
            "\n",
            "Epoch: 143\n",
            "\tTrain Loss: 1.103 | Train Acc: 53.34%\n",
            "\t Val. Loss: 1.280 |  Val. Acc: 44.24% \n",
            "\n",
            "Epoch: 144\n",
            "\tTrain Loss: 1.095 | Train Acc: 53.31%\n",
            "\t Val. Loss: 1.271 |  Val. Acc: 43.93% \n",
            "\n",
            "Epoch: 145\n",
            "\tTrain Loss: 1.105 | Train Acc: 53.36%\n",
            "\t Val. Loss: 1.265 |  Val. Acc: 44.14% \n",
            "\n",
            "Epoch: 146\n",
            "\tTrain Loss: 1.096 | Train Acc: 53.51%\n",
            "\t Val. Loss: 1.275 |  Val. Acc: 44.06% \n",
            "\n",
            "Epoch: 147\n",
            "\tTrain Loss: 1.090 | Train Acc: 54.11%\n",
            "\t Val. Loss: 1.270 |  Val. Acc: 43.89% \n",
            "\n",
            "Epoch: 148\n",
            "\tTrain Loss: 1.091 | Train Acc: 53.71%\n",
            "\t Val. Loss: 1.271 |  Val. Acc: 43.76% \n",
            "\n",
            "Epoch: 149\n",
            "\tTrain Loss: 1.094 | Train Acc: 53.46%\n",
            "\t Val. Loss: 1.267 |  Val. Acc: 43.71% \n",
            "\n",
            "Epoch: 150\n",
            "\tTrain Loss: 1.089 | Train Acc: 54.22%\n",
            "\t Val. Loss: 1.276 |  Val. Acc: 44.24% \n",
            "\n",
            "Epoch: 151\n",
            "\tTrain Loss: 1.085 | Train Acc: 54.02%\n",
            "\t Val. Loss: 1.267 |  Val. Acc: 43.97% \n",
            "\n",
            "Epoch: 152\n",
            "\tTrain Loss: 1.088 | Train Acc: 53.97%\n",
            "\t Val. Loss: 1.267 |  Val. Acc: 44.41% \n",
            "\n",
            "Epoch: 153\n",
            "\tTrain Loss: 1.085 | Train Acc: 53.89%\n",
            "\t Val. Loss: 1.268 |  Val. Acc: 43.96% \n",
            "\n",
            "Epoch: 154\n",
            "\tTrain Loss: 1.079 | Train Acc: 54.07%\n",
            "\t Val. Loss: 1.265 |  Val. Acc: 44.61% \n",
            "\n",
            "Epoch: 155\n",
            "\tTrain Loss: 1.079 | Train Acc: 54.12%\n",
            "\t Val. Loss: 1.297 |  Val. Acc: 44.27% \n",
            "\n",
            "Epoch: 156\n",
            "\tTrain Loss: 1.083 | Train Acc: 53.91%\n",
            "\t Val. Loss: 1.274 |  Val. Acc: 44.49% \n",
            "\n",
            "Epoch: 157\n",
            "\tTrain Loss: 1.071 | Train Acc: 54.46%\n",
            "\t Val. Loss: 1.277 |  Val. Acc: 43.88% \n",
            "\n",
            "Epoch: 158\n",
            "\tTrain Loss: 1.073 | Train Acc: 54.53%\n",
            "\t Val. Loss: 1.273 |  Val. Acc: 44.21% \n",
            "\n",
            "Epoch: 159\n",
            "\tTrain Loss: 1.070 | Train Acc: 54.88%\n",
            "\t Val. Loss: 1.281 |  Val. Acc: 43.96% \n",
            "\n",
            "Epoch: 160\n",
            "\tTrain Loss: 1.064 | Train Acc: 54.78%\n",
            "\t Val. Loss: 1.284 |  Val. Acc: 44.22% \n",
            "\n",
            "Epoch: 161\n",
            "\tTrain Loss: 1.067 | Train Acc: 54.83%\n",
            "\t Val. Loss: 1.267 |  Val. Acc: 44.60% \n",
            "\n",
            "Epoch: 162\n",
            "\tTrain Loss: 1.061 | Train Acc: 55.02%\n",
            "\t Val. Loss: 1.279 |  Val. Acc: 44.14% \n",
            "\n",
            "Epoch: 163\n",
            "\tTrain Loss: 1.066 | Train Acc: 54.94%\n",
            "\t Val. Loss: 1.270 |  Val. Acc: 44.51% \n",
            "\n",
            "Epoch: 164\n",
            "\tTrain Loss: 1.061 | Train Acc: 54.99%\n",
            "\t Val. Loss: 1.285 |  Val. Acc: 44.05% \n",
            "\n",
            "Epoch: 165\n",
            "\tTrain Loss: 1.057 | Train Acc: 55.08%\n",
            "\t Val. Loss: 1.280 |  Val. Acc: 44.70% \n",
            "\n",
            "Epoch: 166\n",
            "\tTrain Loss: 1.059 | Train Acc: 55.34%\n",
            "\t Val. Loss: 1.266 |  Val. Acc: 44.89% \n",
            "\n",
            "Epoch: 167\n",
            "\tTrain Loss: 1.055 | Train Acc: 55.33%\n",
            "\t Val. Loss: 1.289 |  Val. Acc: 43.89% \n",
            "\n",
            "Epoch: 168\n",
            "\tTrain Loss: 1.048 | Train Acc: 55.48%\n",
            "\t Val. Loss: 1.287 |  Val. Acc: 44.15% \n",
            "\n",
            "Epoch: 169\n",
            "\tTrain Loss: 1.052 | Train Acc: 55.41%\n",
            "\t Val. Loss: 1.285 |  Val. Acc: 44.63% \n",
            "\n",
            "Epoch: 170\n",
            "\tTrain Loss: 1.051 | Train Acc: 55.39%\n",
            "\t Val. Loss: 1.279 |  Val. Acc: 44.01% \n",
            "\n",
            "Epoch: 171\n",
            "\tTrain Loss: 1.047 | Train Acc: 55.98%\n",
            "\t Val. Loss: 1.280 |  Val. Acc: 44.34% \n",
            "\n",
            "Epoch: 172\n",
            "\tTrain Loss: 1.048 | Train Acc: 56.06%\n",
            "\t Val. Loss: 1.273 |  Val. Acc: 44.68% \n",
            "\n",
            "Epoch: 173\n",
            "\tTrain Loss: 1.046 | Train Acc: 56.11%\n",
            "\t Val. Loss: 1.285 |  Val. Acc: 44.30% \n",
            "\n",
            "Epoch: 174\n",
            "\tTrain Loss: 1.049 | Train Acc: 56.05%\n",
            "\t Val. Loss: 1.279 |  Val. Acc: 43.92% \n",
            "\n",
            "Epoch: 175\n",
            "\tTrain Loss: 1.043 | Train Acc: 56.11%\n",
            "\t Val. Loss: 1.277 |  Val. Acc: 44.40% \n",
            "\n",
            "Epoch: 176\n",
            "\tTrain Loss: 1.037 | Train Acc: 56.35%\n",
            "\t Val. Loss: 1.277 |  Val. Acc: 44.66% \n",
            "\n",
            "Epoch: 177\n",
            "\tTrain Loss: 1.035 | Train Acc: 56.20%\n",
            "\t Val. Loss: 1.282 |  Val. Acc: 44.60% \n",
            "\n",
            "Epoch: 178\n",
            "\tTrain Loss: 1.028 | Train Acc: 56.91%\n",
            "\t Val. Loss: 1.282 |  Val. Acc: 44.22% \n",
            "\n",
            "Epoch: 179\n",
            "\tTrain Loss: 1.036 | Train Acc: 56.16%\n",
            "\t Val. Loss: 1.287 |  Val. Acc: 45.10% \n",
            "\n",
            "Epoch: 180\n",
            "\tTrain Loss: 1.032 | Train Acc: 56.62%\n",
            "\t Val. Loss: 1.287 |  Val. Acc: 44.50% \n",
            "\n",
            "Epoch: 181\n",
            "\tTrain Loss: 1.033 | Train Acc: 56.38%\n",
            "\t Val. Loss: 1.286 |  Val. Acc: 44.68% \n",
            "\n",
            "Epoch: 182\n",
            "\tTrain Loss: 1.029 | Train Acc: 56.71%\n",
            "\t Val. Loss: 1.282 |  Val. Acc: 44.56% \n",
            "\n",
            "Epoch: 183\n",
            "\tTrain Loss: 1.029 | Train Acc: 56.81%\n",
            "\t Val. Loss: 1.284 |  Val. Acc: 45.10% \n",
            "\n",
            "Epoch: 184\n",
            "\tTrain Loss: 1.022 | Train Acc: 57.23%\n",
            "\t Val. Loss: 1.289 |  Val. Acc: 44.78% \n",
            "\n",
            "Epoch: 185\n",
            "\tTrain Loss: 1.025 | Train Acc: 56.77%\n",
            "\t Val. Loss: 1.294 |  Val. Acc: 44.66% \n",
            "\n",
            "Epoch: 186\n",
            "\tTrain Loss: 1.028 | Train Acc: 56.74%\n",
            "\t Val. Loss: 1.285 |  Val. Acc: 45.04% \n",
            "\n",
            "Epoch: 187\n",
            "\tTrain Loss: 1.020 | Train Acc: 56.95%\n",
            "\t Val. Loss: 1.336 |  Val. Acc: 44.13% \n",
            "\n",
            "Epoch: 188\n",
            "\tTrain Loss: 1.018 | Train Acc: 57.42%\n",
            "\t Val. Loss: 1.288 |  Val. Acc: 45.00% \n",
            "\n",
            "Epoch: 189\n",
            "\tTrain Loss: 1.018 | Train Acc: 57.30%\n",
            "\t Val. Loss: 1.293 |  Val. Acc: 44.42% \n",
            "\n",
            "Epoch: 190\n",
            "\tTrain Loss: 1.014 | Train Acc: 57.64%\n",
            "\t Val. Loss: 1.301 |  Val. Acc: 44.62% \n",
            "\n",
            "Epoch: 191\n",
            "\tTrain Loss: 1.017 | Train Acc: 56.89%\n",
            "\t Val. Loss: 1.291 |  Val. Acc: 44.38% \n",
            "\n",
            "Epoch: 192\n",
            "\tTrain Loss: 1.004 | Train Acc: 58.38%\n",
            "\t Val. Loss: 1.302 |  Val. Acc: 45.00% \n",
            "\n",
            "Epoch: 193\n",
            "\tTrain Loss: 1.007 | Train Acc: 57.55%\n",
            "\t Val. Loss: 1.289 |  Val. Acc: 44.26% \n",
            "\n",
            "Epoch: 194\n",
            "\tTrain Loss: 1.010 | Train Acc: 57.58%\n",
            "\t Val. Loss: 1.285 |  Val. Acc: 44.70% \n",
            "\n",
            "Epoch: 195\n",
            "\tTrain Loss: 1.008 | Train Acc: 57.87%\n",
            "\t Val. Loss: 1.282 |  Val. Acc: 45.16% \n",
            "\n",
            "Epoch: 196\n",
            "\tTrain Loss: 1.000 | Train Acc: 58.06%\n",
            "\t Val. Loss: 1.296 |  Val. Acc: 44.65% \n",
            "\n",
            "Epoch: 197\n",
            "\tTrain Loss: 1.000 | Train Acc: 58.07%\n",
            "\t Val. Loss: 1.300 |  Val. Acc: 44.90% \n",
            "\n",
            "Epoch: 198\n",
            "\tTrain Loss: 1.001 | Train Acc: 57.81%\n",
            "\t Val. Loss: 1.294 |  Val. Acc: 44.61% \n",
            "\n",
            "Epoch: 199\n",
            "\tTrain Loss: 1.002 | Train Acc: 58.12%\n",
            "\t Val. Loss: 1.294 |  Val. Acc: 45.05% \n",
            "\n",
            "Epoch: 200\n",
            "\tTrain Loss: 0.999 | Train Acc: 58.03%\n",
            "\t Val. Loss: 1.298 |  Val. Acc: 45.15% \n",
            "\n"
          ],
          "name": "stdout"
        }
      ]
    },
    {
      "cell_type": "markdown",
      "metadata": {
        "id": "QMYMnInl7ELn"
      },
      "source": [
        "## Train test logs"
      ]
    },
    {
      "cell_type": "code",
      "metadata": {
        "colab": {
          "base_uri": "https://localhost:8080/",
          "height": 626
        },
        "id": "kF1uOy2P_wJJ",
        "outputId": "e37df275-df55-49f5-9400-c1d0c4edce07"
      },
      "source": [
        "plt.style.use('ggplot')\n",
        "\n",
        "fig, axs = plt.subplots(1,2,figsize=(20,10))\n",
        "\n",
        "axs[0].plot(trn_loss, label = 'train loss')\n",
        "axs[0].plot(tst_loss, label = 'test loss')\n",
        "axs[0].legend(loc=\"upper right\")\n",
        "axs[0].set_title(\"Loss\")\n",
        "\n",
        "axs[1].plot(trn_acc,  label = 'train accuracy')\n",
        "axs[1].plot(tst_acc,  label = 'test accuracy')\n",
        "axs[1].legend(loc=\"lower right\")\n",
        "axs[1].set_title(\"Accuracy\")"
      ],
      "execution_count": 66,
      "outputs": [
        {
          "output_type": "execute_result",
          "data": {
            "text/plain": [
              "Text(0.5, 1.0, 'Accuracy')"
            ]
          },
          "metadata": {
            "tags": []
          },
          "execution_count": 66
        },
        {
          "output_type": "display_data",
          "data": {
            "image/png": "[encoded data removed]",
            "text/plain": [
              "<Figure size 1440x720 with 2 Axes>"
            ]
          },
          "metadata": {
            "tags": []
          }
        }
      ]
    },
    {
      "cell_type": "code",
      "metadata": {
        "id": "8YtL4mvjs7cd"
      },
      "source": [
        ""
      ],
      "execution_count": null,
      "outputs": []
    }
  ]
}