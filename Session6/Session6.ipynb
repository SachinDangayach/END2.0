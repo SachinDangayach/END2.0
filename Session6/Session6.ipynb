{
  "nbformat": 4,
  "nbformat_minor": 0,
  "metadata": {
    "colab": {
      "name": "Session6.ipynb",
      "provenance": [],
      "collapsed_sections": []
    },
    "kernelspec": {
      "name": "python3",
      "display_name": "Python 3"
    },
    "language_info": {
      "name": "python"
    }
  },
  "cells": [
    {
      "cell_type": "code",
      "metadata": {
        "id": "2_6TKwDda4I2"
      },
      "source": [
        "import torch\n",
        "import torch.nn as nn\n",
        "import torch.optim as optim\n",
        "\n",
        "import torchtext.legacy\n",
        "from torchtext import datasets\n",
        "\n",
        "from torch.utils.tensorboard import SummaryWriter\n",
        "\n",
        "import re\n",
        "import pandas as pd\n",
        "import numpy as np\n",
        "\n",
        "import seaborn as sns\n",
        "from matplotlib import pyplot as plt\n",
        "\n",
        "\n",
        "import spacy\n",
        "\n",
        "import random\n",
        "import os, pickle\n",
        "\n",
        "from sklearn.model_selection import train_test_split\n",
        "from sklearn.metrics import  accuracy_score"
      ],
      "execution_count": null,
      "outputs": []
    },
    {
      "cell_type": "markdown",
      "metadata": {
        "id": "W61b3a_C3X4q"
      },
      "source": [
        "## Load Tweets Dataset"
      ]
    },
    {
      "cell_type": "code",
      "metadata": {
        "id": "-hDoXIw36aR0"
      },
      "source": [
        "from google.colab import drive\n",
        "drive.mount('/content/drive')"
      ],
      "execution_count": null,
      "outputs": []
    },
    {
      "cell_type": "code",
      "metadata": {
        "id": "K_h-bSX5bl72"
      },
      "source": [
        "tweets = pd.read_csv('/content/session6/tweets.csv', encoding = 'latin-1')"
      ],
      "execution_count": null,
      "outputs": []
    },
    {
      "cell_type": "code",
      "metadata": {
        "colab": {
          "base_uri": "https://localhost:8080/",
          "height": 204
        },
        "id": "p9NKyAkH30bm",
        "outputId": "deceadf3-2fa0-48a2-dd85-d074f08b4677"
      },
      "source": [
        "tweets.head()"
      ],
      "execution_count": null,
      "outputs": [
        {
          "output_type": "execute_result",
          "data": {
            "text/html": [
              "<div>\n",
              "<style scoped>\n",
              "    .dataframe tbody tr th:only-of-type {\n",
              "        vertical-align: middle;\n",
              "    }\n",
              "\n",
              "    .dataframe tbody tr th {\n",
              "        vertical-align: top;\n",
              "    }\n",
              "\n",
              "    .dataframe thead th {\n",
              "        text-align: right;\n",
              "    }\n",
              "</style>\n",
              "<table border=\"1\" class=\"dataframe\">\n",
              "  <thead>\n",
              "    <tr style=\"text-align: right;\">\n",
              "      <th></th>\n",
              "      <th>tweets</th>\n",
              "      <th>labels</th>\n",
              "    </tr>\n",
              "  </thead>\n",
              "  <tbody>\n",
              "    <tr>\n",
              "      <th>0</th>\n",
              "      <td>Obama has called the GOP budget social Darwini...</td>\n",
              "      <td>1</td>\n",
              "    </tr>\n",
              "    <tr>\n",
              "      <th>1</th>\n",
              "      <td>In his teen years, Obama has been known to use...</td>\n",
              "      <td>0</td>\n",
              "    </tr>\n",
              "    <tr>\n",
              "      <th>2</th>\n",
              "      <td>IPA Congratulates President Barack Obama for L...</td>\n",
              "      <td>0</td>\n",
              "    </tr>\n",
              "    <tr>\n",
              "      <th>3</th>\n",
              "      <td>RT @Professor_Why: #WhatsRomneyHiding - his co...</td>\n",
              "      <td>0</td>\n",
              "    </tr>\n",
              "    <tr>\n",
              "      <th>4</th>\n",
              "      <td>RT @wardollarshome: Obama has approved more ta...</td>\n",
              "      <td>1</td>\n",
              "    </tr>\n",
              "  </tbody>\n",
              "</table>\n",
              "</div>"
            ],
            "text/plain": [
              "                                              tweets  labels\n",
              "0  Obama has called the GOP budget social Darwini...       1\n",
              "1  In his teen years, Obama has been known to use...       0\n",
              "2  IPA Congratulates President Barack Obama for L...       0\n",
              "3  RT @Professor_Why: #WhatsRomneyHiding - his co...       0\n",
              "4  RT @wardollarshome: Obama has approved more ta...       1"
            ]
          },
          "metadata": {
            "tags": []
          },
          "execution_count": 5
        }
      ]
    },
    {
      "cell_type": "code",
      "metadata": {
        "colab": {
          "base_uri": "https://localhost:8080/"
        },
        "id": "q7YaRkEy37nE",
        "outputId": "03d6ef00-13ab-435d-8c18-47175cdae5e4"
      },
      "source": [
        "tweets.labels.value_counts()"
      ],
      "execution_count": null,
      "outputs": [
        {
          "output_type": "execute_result",
          "data": {
            "text/plain": [
              "0    931\n",
              "1    352\n",
              "2     81\n",
              "Name: labels, dtype: int64"
            ]
          },
          "metadata": {
            "tags": []
          },
          "execution_count": 6
        }
      ]
    },
    {
      "cell_type": "code",
      "metadata": {
        "colab": {
          "base_uri": "https://localhost:8080/",
          "height": 405
        },
        "id": "z-emPO3V4FXp",
        "outputId": "20bc9557-f2de-4338-d86c-4d1083c385ec"
      },
      "source": [
        "fig = plt.figure(figsize=(8,6))\n",
        "\n",
        "ax = sns.barplot(x=tweets['labels'].unique(), y=tweets['labels'].value_counts())\n",
        "\n",
        "ax.set(xlabel = 'Labels')"
      ],
      "execution_count": null,
      "outputs": [
        {
          "output_type": "execute_result",
          "data": {
            "text/plain": [
              "[Text(0.5, 0, 'Labels')]"
            ]
          },
          "metadata": {
            "tags": []
          },
          "execution_count": 7
        },
        {
          "output_type": "display_data",
          "data": {
            "image/png": "[encoded data removed]",
            "text/plain": [
              "<Figure size 576x432 with 1 Axes>"
            ]
          },
          "metadata": {
            "tags": [],
            "needs_background": "light"
          }
        }
      ]
    },
    {
      "cell_type": "markdown",
      "metadata": {
        "id": "oZMo9Tak4rnQ"
      },
      "source": [
        "### Data is imbalanced and should be made balanced"
      ]
    },
    {
      "cell_type": "markdown",
      "metadata": {
        "id": "kEh_lIaj5S5V"
      },
      "source": [
        "## Data cleanup, Train Test Split and prepare Vocab"
      ]
    },
    {
      "cell_type": "code",
      "metadata": {
        "id": "R4rhlk4V4Z5a"
      },
      "source": [
        "train, test = train_test_split(tweets, test_size= .3, random_state= 42)"
      ],
      "execution_count": null,
      "outputs": []
    },
    {
      "cell_type": "code",
      "metadata": {
        "colab": {
          "base_uri": "https://localhost:8080/"
        },
        "id": "n9kXuqgc5_h1",
        "outputId": "9ab03ba9-8262-4991-aeca-e95946e9314d"
      },
      "source": [
        "train.reset_index(drop=True), test.reset_index(drop=True)"
      ],
      "execution_count": null,
      "outputs": [
        {
          "output_type": "execute_result",
          "data": {
            "text/plain": [
              "(                                                tweets  labels\n",
              " 0    RT @markknoller: Saul says Pres Obama \"will do...       1\n",
              " 1    RT @Drudge_Report: Obama setting up Supreme Co...       1\n",
              " 2    @sweetbay That was Paul Ryan's budget. How did...       1\n",
              " 3    RT @GEsfandiari: \"Obama signaled US would acce...       1\n",
              " 4                  RT @anna12061: Another Obama Buddy!       0\n",
              " ..                                                 ...     ...\n",
              " 949  #WhatsRomneyHiding Obama released his tax retu...       0\n",
              " 950                #KimKardashiansNextBoyFriend Obama!       0\n",
              " 951  RT @larryeldershow: Spike Lee said he dislikes...       0\n",
              " 952  RT @pourmecoffee: White House Easter Egg Roll ...       1\n",
              " 953  #WhatsRomneyHiding His relationship with Vera ...       0\n",
              " \n",
              " [954 rows x 2 columns],\n",
              "                                                 tweets  labels\n",
              " 0    RT @ohgirlphrase: American kid \"You're from th...       0\n",
              " 1    Examiner Editorial: Obama's budget, not Ryan's...       0\n",
              " 2    Obama on Constitutional Law: Did He Lie or Is ...       0\n",
              " 3    Amid Trayvon Martin case, Obama hosts screenin...       0\n",
              " 4    @geoff9cow Right! Of course! It's ALWAYS someo...       1\n",
              " ..                                                 ...     ...\n",
              " 405  RT @CatoInstitute: NEW Podcast:  Obama's Vanis...       0\n",
              " 406  @TPO_Hisself @barackobama people laugh but don...       0\n",
              " 407  62% of U.S. Jews would reelect Obama, 4% say I...       1\n",
              " 408  Obama dings men-only Masters host @ http://t.c...       1\n",
              " 409  Good luck getting to class Tuesday when obama ...       2\n",
              " \n",
              " [410 rows x 2 columns])"
            ]
          },
          "metadata": {
            "tags": []
          },
          "execution_count": 9
        }
      ]
    },
    {
      "cell_type": "code",
      "metadata": {
        "id": "o5rd2SCA6DEQ"
      },
      "source": [
        "def tweet_clean(text):\n",
        "  text = re.sub(r'[^A-Za-z0-9_-]+', ' ', text)\n",
        "  text = re.sub(r'https?:/\\/\\S+', ' ', text)\n",
        "\n",
        "  return(text.strip())"
      ],
      "execution_count": null,
      "outputs": []
    },
    {
      "cell_type": "code",
      "metadata": {
        "id": "B229e9kg6Phg"
      },
      "source": [
        "nlp = spacy.load('en', disable = ['parser', 'tagger', 'ner'])\n",
        "def tokenizer(s):\n",
        "  return [w.text.lower() for w in nlp(tweet_clean(s))]"
      ],
      "execution_count": null,
      "outputs": []
    },
    {
      "cell_type": "code",
      "metadata": {
        "id": "DTH0Kpyr6QTK"
      },
      "source": [
        "TEXT = torchtext.legacy.data.Field(tokenize=tokenizer, lower=True, init_token= '<sos>', eos_token= '<eos>')\n",
        "\n",
        "LABEL = torchtext.legacy.data.LabelField(tokenize = tokenizer)\n",
        "\n",
        "# english = torchtext.legacy.data.Field(tokenize=tokenizer_end, lower=True, init_token= '<sos>', eos_token= '<eos>')"
      ],
      "execution_count": null,
      "outputs": []
    },
    {
      "cell_type": "code",
      "metadata": {
        "id": "t8no00lr7ob7"
      },
      "source": [
        "datafields = [('tweets', TEXT), ('labels', LABEL)]"
      ],
      "execution_count": null,
      "outputs": []
    },
    {
      "cell_type": "markdown",
      "metadata": {
        "id": "CFIqIxNm9UT1"
      },
      "source": [
        "### Split and save datasets"
      ]
    },
    {
      "cell_type": "code",
      "metadata": {
        "id": "-q23JJQ49aFy"
      },
      "source": [
        "train.to_csv('session6/train.csv', index=False)\n",
        "test.to_csv('session6/test.csv', index=False)"
      ],
      "execution_count": null,
      "outputs": []
    },
    {
      "cell_type": "code",
      "metadata": {
        "id": "vXBOBV9W8agI"
      },
      "source": [
        "trn, tst = torchtext.legacy.data.TabularDataset.splits(path='/content/session6',\n",
        "                                                       train = 'train.csv',\n",
        "                                                       test = 'test.csv',\n",
        "                                                       format = 'csv',\n",
        "                                                       skip_header = True,\n",
        "                                                       fields = datafields\n",
        "                                                       )"
      ],
      "execution_count": null,
      "outputs": []
    },
    {
      "cell_type": "code",
      "metadata": {
        "colab": {
          "base_uri": "https://localhost:8080/"
        },
        "id": "-UfOlwAC8wrk",
        "outputId": "f2cae93e-62e9-42bd-ba8f-29e1dc3fcea5"
      },
      "source": [
        "print(f'Number of training examples: {len(trn)}')\n",
        "print(f'Number of testing examples: {len(tst)}')"
      ],
      "execution_count": null,
      "outputs": [
        {
          "output_type": "stream",
          "text": [
            "Number of training examples: 954\n",
            "Number of testing examples: 410\n"
          ],
          "name": "stdout"
        }
      ]
    },
    {
      "cell_type": "code",
      "metadata": {
        "colab": {
          "base_uri": "https://localhost:8080/"
        },
        "id": "TmrPFX1T8x16",
        "outputId": "14ee482a-2327-4a44-91d6-e95f11cc4cca"
      },
      "source": [
        "vars(trn.examples[0])"
      ],
      "execution_count": null,
      "outputs": [
        {
          "output_type": "execute_result",
          "data": {
            "text/plain": [
              "{'labels': '1',\n",
              " 'tweets': ['rt',\n",
              "  'markknoller',\n",
              "  'saul',\n",
              "  'says',\n",
              "  'pres',\n",
              "  'obama',\n",
              "  'will',\n",
              "  'do',\n",
              "  'anything',\n",
              "  'to',\n",
              "  'distract',\n",
              "  'americans',\n",
              "  'from',\n",
              "  'his',\n",
              "  'failed',\n",
              "  'economic',\n",
              "  'record',\n",
              "  'incl',\n",
              "  'unemployment',\n",
              "  'higher',\n",
              "  'gas',\n",
              "  'prices']}"
            ]
          },
          "metadata": {
            "tags": []
          },
          "execution_count": 17
        }
      ]
    },
    {
      "cell_type": "code",
      "metadata": {
        "id": "mXNLd8gA-gjH"
      },
      "source": [
        "TEXT.build_vocab(trn, max_size = 10000,\n",
        "                #  vectors = \"glove.6B.100d\",\n",
        "                min_freq = 2 \n",
        "                )\n",
        "\n",
        "LABEL.build_vocab(trn) "
      ],
      "execution_count": null,
      "outputs": []
    },
    {
      "cell_type": "code",
      "metadata": {
        "colab": {
          "base_uri": "https://localhost:8080/"
        },
        "id": "nZ2QVJDc_Mfn",
        "outputId": "7495eb4b-d4fd-4710-ed7f-b2cd0eeb5057"
      },
      "source": [
        "print(TEXT.vocab.freqs.most_common(50))"
      ],
      "execution_count": null,
      "outputs": [
        {
          "output_type": "stream",
          "text": [
            "[('obama', 955), ('the', 485), ('rt', 433), ('t', 386), ('to', 343), ('co', 331), ('http', 329), ('s', 269), ('you', 247), ('a', 230), ('of', 214), ('is', 201), ('with', 178), ('in', 171), ('do', 155), ('-', 155), ('that', 150), ('on', 143), ('i', 141), ('and', 139), ('he', 137), ('for', 129), ('kid', 125), ('whatsromneyhiding', 122), ('his', 115), ('so', 112), ('like', 108), ('from', 102), ('romney', 92), ('president', 88), ('have', 88), ('it', 83), ('go', 80), ('re', 73), ('not', 72), ('has', 70), ('at', 70), ('american', 68), ('cool', 66), ('can', 63), ('we', 63), ('uk', 62), ('ohhh', 62), ('tea', 62), ('queen', 62), ('british', 62), ('mcdonalds', 62), ('gop', 61), ('edshow', 60), ('ohgirlphrase', 58)]\n"
          ],
          "name": "stdout"
        }
      ]
    },
    {
      "cell_type": "code",
      "metadata": {
        "colab": {
          "base_uri": "https://localhost:8080/"
        },
        "id": "eRLpAAJs_PJ9",
        "outputId": "afa79f68-545d-40bf-c1c6-c0968e17f3c6"
      },
      "source": [
        "print(TEXT.vocab.itos[:10])"
      ],
      "execution_count": null,
      "outputs": [
        {
          "output_type": "stream",
          "text": [
            "['<unk>', '<pad>', '<sos>', '<eos>', 'obama', 'the', 'rt', 't', 'to', 'co']\n"
          ],
          "name": "stdout"
        }
      ]
    },
    {
      "cell_type": "code",
      "metadata": {
        "colab": {
          "base_uri": "https://localhost:8080/"
        },
        "id": "o7zPd8IR_zSt",
        "outputId": "24e9f667-4fba-4169-8901-8f8811808c10"
      },
      "source": [
        "print(LABEL.vocab.itos)"
      ],
      "execution_count": null,
      "outputs": [
        {
          "output_type": "stream",
          "text": [
            "['0', '1', '2']\n"
          ],
          "name": "stdout"
        }
      ]
    },
    {
      "cell_type": "code",
      "metadata": {
        "colab": {
          "base_uri": "https://localhost:8080/"
        },
        "id": "DCXADYJj_Y0p",
        "outputId": "bf14d6ac-f52b-4e24-dd12-66397e33866f"
      },
      "source": [
        "print(LABEL.vocab.stoi)"
      ],
      "execution_count": null,
      "outputs": [
        {
          "output_type": "stream",
          "text": [
            "defaultdict(None, {'0': 0, '1': 1, '2': 2})\n"
          ],
          "name": "stdout"
        }
      ]
    },
    {
      "cell_type": "markdown",
      "metadata": {
        "id": "Othsv5nI_5Wz"
      },
      "source": [
        "## Build Model class"
      ]
    },
    {
      "cell_type": "code",
      "metadata": {
        "id": "M68tAxxo_ck7"
      },
      "source": [
        "class Encoder(nn.Module):\n",
        "  def __init__(self, input_size, embedding_size, hidden_size):\n",
        "    super(Encoder, self).__init__()\n",
        "\n",
        "    self.embedding = nn.Embedding(input_size, embedding_size)\n",
        "    self.rnn = nn.LSTMCell(embedding_size, hidden_size)\n",
        "\n",
        "  def forward(self,x):\n",
        "    # x shape: (seq_length, N)\n",
        "    embedding = self.embedding(x)\n",
        "    # embedding shape: (seq_length, N, embedding_size)\n",
        "\n",
        "    hx = torch.randn(embedding.size()[1], hidden_size) # (batch, hidden_size)\n",
        "    cx = torch.randn(embedding.size()[1], hidden_size)\n",
        "    output = []\n",
        "    for i in range(embedding.size()[0]):\n",
        "        hx, cx = self.rnn(embedding[i], (hx, cx))\n",
        "        # print(f'hx {hx}, cx {cx}')   #  Print the hidden and cell state\n",
        "        output.append(hx)\n",
        "    output = torch.stack(output, dim=0)\n",
        "\n",
        "    return output, hx.unsqueeze(0), cx.unsqueeze(0)\n",
        "\n",
        "class Decoder(nn.Module):\n",
        "    def __init__(self, input_size, hidden_size, c_state_size, output_size):\n",
        "      super(Decoder, self).__init__()\n",
        "\n",
        "      self.rnn = nn.LSTM(input_size, hidden_size)\n",
        "      self.fc = nn.Linear(hidden_size, output_size)\n",
        "\n",
        "    def forward(self, x, hidden, cell):\n",
        "\n",
        "      outputs, (hidden, cell) = self.rnn(x,(hidden, cell)) \n",
        "      predictions = self.fc(hidden)\n",
        "\n",
        "      return predictions, hidden, cell\n",
        "\n",
        "\n",
        "class Seq2Seq(nn.Module):\n",
        "  def __init__(self, encoder, decoder):\n",
        "    super(Seq2Seq, self).__init__()\n",
        "    self.encoder = encoder\n",
        "    self.decoder = decoder\n",
        "\n",
        "  def forward(self, source):\n",
        "\n",
        "    op, hidden, cell = self.encoder(source)\n",
        "\n",
        "    # Grab start token\n",
        "    x = op\n",
        "\n",
        "    predictions, d_hidden, d_cell = self.decoder(x, hidden, cell)\n",
        "   \n",
        "    best_pred= predictions.squeeze(0)\n",
        "\n",
        "    return best_pred\n"
      ],
      "execution_count": null,
      "outputs": []
    },
    {
      "cell_type": "markdown",
      "metadata": {
        "id": "QasO1sz4f9-O"
      },
      "source": [
        "### Initialize Training Parameters\n",
        "\n",
        "---\n",
        "\n"
      ]
    },
    {
      "cell_type": "code",
      "metadata": {
        "id": "PoWiMY3LXw0G"
      },
      "source": [
        "## Training starts -\n",
        "\n",
        "# Training hyperparameters\n",
        "num_epochs = 5\n",
        "learning_rate = 0.001\n",
        "batch_size = 8\n",
        "\n",
        "# Model hyperparameters\n",
        "device = torch.device('cuda' if torch.cuda.is_available() else 'cpu')\n",
        "input_size_encoder = len(TEXT.vocab)\n",
        "input_size_decoder = 64 # Hidden dimention for output\n",
        "output_size = len(LABEL.vocab)\n",
        "encoder_embedding_size = 32\n",
        "\n",
        "cell_state_size = 64\n",
        "hidden_size = 64\n",
        "num_layers = 1\n",
        "\n",
        "# Tensorboard\n",
        "# writer = SummaryWriter(f'runs/loss_plot')\n",
        "# step = 0"
      ],
      "execution_count": null,
      "outputs": []
    },
    {
      "cell_type": "markdown",
      "metadata": {
        "id": "TERDOcWqgFlF"
      },
      "source": [
        "## Create Data Loaders"
      ]
    },
    {
      "cell_type": "code",
      "metadata": {
        "id": "jxlMR1JsgEyU"
      },
      "source": [
        "# Get iterators\n",
        "train_iterator, test_iterator = torchtext.legacy.data.BucketIterator.splits(\n",
        "    (trn, tst),\n",
        "    batch_size = batch_size,\n",
        "    sort_within_batch = True,\n",
        "    sort_key = lambda x: len(x.tweets),\n",
        "    device= device)\n"
      ],
      "execution_count": null,
      "outputs": []
    },
    {
      "cell_type": "markdown",
      "metadata": {
        "id": "jU1B0HlfgleZ"
      },
      "source": [
        "## Initialize Models, Optimizer and define Criterion"
      ]
    },
    {
      "cell_type": "code",
      "metadata": {
        "id": "9I2Y7MRSeZmp"
      },
      "source": [
        "encoder_net = Encoder(input_size_encoder, encoder_embedding_size, \n",
        "                      hidden_size).to(device)\n",
        "\n",
        "decoder_net = Decoder(input_size_decoder, hidden_size, cell_state_size, output_size).to(device)\n",
        "\n",
        "model = Seq2Seq(encoder_net, decoder_net).to(device)\n",
        "\n",
        "\n",
        "optimizer = optim.Adam(model.parameters(), lr = learning_rate)\n",
        "\n",
        "pad_idx = TEXT.vocab.stoi['<pad>']\n",
        "criterion = nn.CrossEntropyLoss(ignore_index=pad_idx).to(device)"
      ],
      "execution_count": null,
      "outputs": []
    },
    {
      "cell_type": "code",
      "metadata": {
        "id": "TZQswgYKpYdk"
      },
      "source": [
        "# define metric\n",
        "def binary_accuracy(preds, y):\n",
        "    #round predictions to the closest integer\n",
        "    _, predictions = torch.max(preds, 1)\n",
        "    \n",
        "    correct = (predictions == y).float() \n",
        "    acc = correct.sum() / len(correct)\n",
        "    return acc"
      ],
      "execution_count": null,
      "outputs": []
    },
    {
      "cell_type": "code",
      "metadata": {
        "id": "H0QRivXwp_MP"
      },
      "source": [
        "def train(model, iterator, optimizer, criterion):\n",
        "    \n",
        "    # initialize every epoch \n",
        "    epoch_loss = 0\n",
        "    epoch_acc = 0\n",
        "    \n",
        "    # set the model in training phase\n",
        "    model.train()  \n",
        "    \n",
        "    for batch_idx, batch in enumerate(train_iterator):\n",
        "\n",
        "        inp_data = batch.tweets.to(device)\n",
        "        target = batch.labels.to(device)\n",
        "\n",
        "        # output = model(inp_data, target)\n",
        "        output = model(inp_data)\n",
        "        \n",
        "        # resets the gradients after every batch\n",
        "        optimizer.zero_grad()   \n",
        "               \n",
        "        # # convert to 1D tensor\n",
        "        # predictions = model(batch.sentence).squeeze(1)\n",
        "        \n",
        "        # compute the loss\n",
        "        # loss = criterion(predictions, batch.label.long())\n",
        "        loss = criterion(output, target)        \n",
        "        \n",
        "        # compute the binary accuracy\n",
        "        acc = binary_accuracy(output, target)   \n",
        "        \n",
        "        # backpropage the loss and compute the gradients\n",
        "        loss.backward()       \n",
        "        \n",
        "        # clip weights\n",
        "        torch.nn.utils.clip_grad_norm_(model.parameters(), max_norm=1)\n",
        "\n",
        "        # update the weights\n",
        "        optimizer.step()      \n",
        "        \n",
        "        # loss and accuracy\n",
        "        epoch_loss += loss.item()  \n",
        "        epoch_acc += acc.item()    \n",
        "        \n",
        "    return epoch_loss / len(iterator), epoch_acc / len(iterator)"
      ],
      "execution_count": null,
      "outputs": []
    },
    {
      "cell_type": "code",
      "metadata": {
        "id": "m4Y5wloqqSPw"
      },
      "source": [
        "def evaluate(model, iterator, criterion):\n",
        "    \n",
        "    # initialize every epoch\n",
        "    epoch_loss = 0\n",
        "    epoch_acc = 0\n",
        "\n",
        "    # deactivating dropout layers\n",
        "    model.eval()\n",
        "    \n",
        "    # deactivates autograd\n",
        "    with torch.no_grad():\n",
        "    \n",
        "        for batch in iterator:\n",
        "                   \n",
        "            # convert to 1d tensor\n",
        "            # predictions = model(batch.sentence).squeeze(1)\n",
        "            inp_data = batch.tweets.to(device)\n",
        "            target = batch.labels.to(device)\n",
        "            output = model(inp_data)\n",
        "            # output = model(inp_data, target)\n",
        "            \n",
        "            # compute loss and accuracy\n",
        "            loss = criterion(output, batch.labels)\n",
        "            acc = binary_accuracy(output, batch.labels)\n",
        "            \n",
        "            # keep track of loss and accuracy\n",
        "            epoch_loss += loss.item()\n",
        "            epoch_acc += acc.item()\n",
        "        \n",
        "    return epoch_loss / len(iterator), epoch_acc / len(iterator)"
      ],
      "execution_count": null,
      "outputs": []
    },
    {
      "cell_type": "code",
      "metadata": {
        "colab": {
          "base_uri": "https://localhost:8080/"
        },
        "id": "jI-cxmj5qXx8",
        "outputId": "2d797399-356a-4709-99f0-a0c2b243b5f3"
      },
      "source": [
        "N_EPOCHS = 5\n",
        "\n",
        "best_test_loss = float('inf')\n",
        "\n",
        "trn_loss = [] \n",
        "trn_acc = []\n",
        "tst_loss = [] \n",
        "tst_acc = [] \n",
        "\n",
        "for epoch in range(N_EPOCHS):\n",
        "    \n",
        "    # train the model\n",
        "    train_loss, train_acc = train(model, train_iterator, optimizer, criterion)\n",
        "    trn_loss.append(train_loss)\n",
        "    trn_acc.append(train_acc*100)\n",
        "    \n",
        "    # evaluate the model\n",
        "    test_loss, test_acc = evaluate(model, test_iterator, criterion)\n",
        "    tst_loss.append(test_loss)\n",
        "    tst_acc.append(test_acc*100)\n",
        "    \n",
        "    # # save the best model\n",
        "    # if test_loss < best_test_loss:\n",
        "    #     best_test_loss = test_loss\n",
        "    #     torch.save(model.state_dict(), 'saved_weights.pt')\n",
        "    \n",
        "    print(f'Epoch: {epoch+1}')\n",
        "    print(f'\\tTrain Loss: {train_loss:.3f} | Train Acc: {train_acc*100:.2f}%')\n",
        "    print(f'\\t Val. Loss: {test_loss:.3f} |  Val. Acc: {test_acc*100:.2f}% \\n')"
      ],
      "execution_count": null,
      "outputs": [
        {
          "output_type": "stream",
          "text": [
            "Epoch: 1\n",
            "\tTrain Loss: 0.438 | Train Acc: 63.44%\n",
            "\t Val. Loss: 0.244 |  Val. Acc: 72.36% \n",
            "\n",
            "Epoch: 2\n",
            "\tTrain Loss: 0.341 | Train Acc: 66.25%\n",
            "\t Val. Loss: 0.248 |  Val. Acc: 72.36% \n",
            "\n",
            "Epoch: 3\n",
            "\tTrain Loss: 0.320 | Train Acc: 66.56%\n",
            "\t Val. Loss: 0.233 |  Val. Acc: 72.36% \n",
            "\n",
            "Epoch: 4\n",
            "\tTrain Loss: 0.300 | Train Acc: 66.25%\n",
            "\t Val. Loss: 0.213 |  Val. Acc: 72.36% \n",
            "\n",
            "Epoch: 5\n",
            "\tTrain Loss: 0.254 | Train Acc: 67.40%\n",
            "\t Val. Loss: 0.197 |  Val. Acc: 73.56% \n",
            "\n"
          ],
          "name": "stdout"
        }
      ]
    },
    {
      "cell_type": "code",
      "metadata": {
        "colab": {
          "base_uri": "https://localhost:8080/",
          "height": 626
        },
        "id": "XB7rrY53sFWa",
        "outputId": "de9800a9-058e-464f-af4c-0f010858f26d"
      },
      "source": [
        "plt.style.use('ggplot')\n",
        "\n",
        "fig, axs = plt.subplots(1,2,figsize=(20,10))\n",
        "\n",
        "axs[0].plot(trn_loss, label = 'train loss')\n",
        "axs[0].plot(tst_loss, label = 'test loss')\n",
        "axs[0].legend(loc=\"upper right\")\n",
        "axs[0].set_title(\"Loss\")\n",
        "\n",
        "axs[1].plot(trn_acc,  label = 'train accuracy')\n",
        "axs[1].plot(tst_acc,  label = 'test accuracy')\n",
        "axs[1].legend(loc=\"lower right\")\n",
        "axs[1].set_title(\"Accuracy\")"
      ],
      "execution_count": null,
      "outputs": [
        {
          "output_type": "execute_result",
          "data": {
            "text/plain": [
              "Text(0.5, 1.0, 'Accuracy')"
            ]
          },
          "metadata": {
            "tags": []
          },
          "execution_count": 95
        },
        {
          "output_type": "display_data",
          "data": {
            "image/png": "[encoded data removed]",
            "text/plain": [
              "<Figure size 1440x720 with 2 Axes>"
            ]
          },
          "metadata": {
            "tags": []
          }
        }
      ]
    },
    {
      "cell_type": "code",
      "metadata": {
        "id": "NyKoeuPVyx__"
      },
      "source": [
        "def test_model(sentence):\n",
        "  tokenized = [tok.text for tok in nlp.tokenizer(sentence)]\n",
        "  indexed = [TEXT.vocab.stoi[t] for t in tokenized]\n",
        "  tensor = torch.LongTensor(indexed)\n",
        "  tensor = tensor.unsqueeze(1).to(device)\n",
        "\n",
        "  model.eval()\n",
        "  prediction = model(tensor)\n",
        "  return( [\"negative\", \"neutral\", \"positive\"][prediction.argmax()] )"
      ],
      "execution_count": null,
      "outputs": []
    },
    {
      "cell_type": "code",
      "metadata": {
        "colab": {
          "base_uri": "https://localhost:8080/"
        },
        "id": "6OLqdI4OzWey",
        "outputId": "edd1eada-3182-4619-902c-33ef4f9ecd74"
      },
      "source": [
        "sentence = test['tweets'].iloc[78]\n",
        "label = test['labels'].iloc[78]\n",
        "test_model(sentence), sentence, [\"negative\", \"neutral\", \"positive\"][label]"
      ],
      "execution_count": null,
      "outputs": [
        {
          "output_type": "execute_result",
          "data": {
            "text/plain": [
              "('negative',\n",
              " 'Poor Warin\\' Orin Hatch on a tear that Obama is \"going to throw the Mormon Church\" at Mitt #notactuallyconfirmed #mittless',\n",
              " 'negative')"
            ]
          },
          "metadata": {
            "tags": []
          },
          "execution_count": 97
        }
      ]
    },
    {
      "cell_type": "code",
      "metadata": {
        "colab": {
          "base_uri": "https://localhost:8080/"
        },
        "id": "ztbkNys105ko",
        "outputId": "33b1df3d-965b-48be-ac78-7f3ff0e02fb0"
      },
      "source": [
        "sentence = 'RT @WhatTheFFacts: In his teen years, Obama has been known to use marijuana and cocaine.'\n",
        "label = 0\n",
        "test_model(sentence), sentence, [\"negative\", \"neutral\", \"positive\"][label]"
      ],
      "execution_count": null,
      "outputs": [
        {
          "output_type": "execute_result",
          "data": {
            "text/plain": [
              "('negative',\n",
              " 'RT @WhatTheFFacts: In his teen years, Obama has been known to use marijuana and cocaine.',\n",
              " 'negative')"
            ]
          },
          "metadata": {
            "tags": []
          },
          "execution_count": 98
        }
      ]
    },
    {
      "cell_type": "code",
      "metadata": {
        "id": "-Ff3g_0J9AYA"
      },
      "source": [
        ""
      ],
      "execution_count": null,
      "outputs": []
    }
  ]
}