{
  "nbformat": 4,
  "nbformat_minor": 0,
  "metadata": {
    "colab": {
      "name": "Session6.ipynb",
      "provenance": [],
      "collapsed_sections": []
    },
    "kernelspec": {
      "name": "python3",
      "display_name": "Python 3"
    },
    "language_info": {
      "name": "python"
    }
  },
  "cells": [
    {
      "cell_type": "code",
      "metadata": {
        "id": "2_6TKwDda4I2"
      },
      "source": [
        "import torch\n",
        "import torch.nn as nn\n",
        "import torch.optim as optim\n",
        "\n",
        "import torchtext.legacy\n",
        "from torchtext import datasets\n",
        "\n",
        "import re\n",
        "import pandas as pd\n",
        "\n",
        "import seaborn as sns\n",
        "from matplotlib import pyplot as plt\n",
        "\n",
        "import spacy\n",
        "\n",
        "import random\n",
        "import os, pickle\n",
        "\n",
        "from sklearn.model_selection import train_test_split\n",
        "from sklearn.metrics import  accuracy_score\n",
        "\n",
        "from IPython.display import display, Markdown"
      ],
      "execution_count": 1,
      "outputs": []
    },
    {
      "cell_type": "markdown",
      "metadata": {
        "id": "W61b3a_C3X4q"
      },
      "source": [
        "## Load Tweets Dataset"
      ]
    },
    {
      "cell_type": "code",
      "metadata": {
        "id": "K_h-bSX5bl72"
      },
      "source": [
        "tweets = pd.read_csv('/content/session6/tweets.csv', encoding = 'latin-1')"
      ],
      "execution_count": 2,
      "outputs": []
    },
    {
      "cell_type": "code",
      "metadata": {
        "colab": {
          "base_uri": "https://localhost:8080/",
          "height": 204
        },
        "id": "p9NKyAkH30bm",
        "outputId": "441f3e86-7306-4d32-d95f-0b99fed37232"
      },
      "source": [
        "tweets.head()"
      ],
      "execution_count": 3,
      "outputs": [
        {
          "output_type": "execute_result",
          "data": {
            "text/html": [
              "<div>\n",
              "<style scoped>\n",
              "    .dataframe tbody tr th:only-of-type {\n",
              "        vertical-align: middle;\n",
              "    }\n",
              "\n",
              "    .dataframe tbody tr th {\n",
              "        vertical-align: top;\n",
              "    }\n",
              "\n",
              "    .dataframe thead th {\n",
              "        text-align: right;\n",
              "    }\n",
              "</style>\n",
              "<table border=\"1\" class=\"dataframe\">\n",
              "  <thead>\n",
              "    <tr style=\"text-align: right;\">\n",
              "      <th></th>\n",
              "      <th>tweets</th>\n",
              "      <th>labels</th>\n",
              "    </tr>\n",
              "  </thead>\n",
              "  <tbody>\n",
              "    <tr>\n",
              "      <th>0</th>\n",
              "      <td>Obama has called the GOP budget social Darwini...</td>\n",
              "      <td>1</td>\n",
              "    </tr>\n",
              "    <tr>\n",
              "      <th>1</th>\n",
              "      <td>In his teen years, Obama has been known to use...</td>\n",
              "      <td>0</td>\n",
              "    </tr>\n",
              "    <tr>\n",
              "      <th>2</th>\n",
              "      <td>IPA Congratulates President Barack Obama for L...</td>\n",
              "      <td>0</td>\n",
              "    </tr>\n",
              "    <tr>\n",
              "      <th>3</th>\n",
              "      <td>RT @Professor_Why: #WhatsRomneyHiding - his co...</td>\n",
              "      <td>0</td>\n",
              "    </tr>\n",
              "    <tr>\n",
              "      <th>4</th>\n",
              "      <td>RT @wardollarshome: Obama has approved more ta...</td>\n",
              "      <td>1</td>\n",
              "    </tr>\n",
              "  </tbody>\n",
              "</table>\n",
              "</div>"
            ],
            "text/plain": [
              "                                              tweets  labels\n",
              "0  Obama has called the GOP budget social Darwini...       1\n",
              "1  In his teen years, Obama has been known to use...       0\n",
              "2  IPA Congratulates President Barack Obama for L...       0\n",
              "3  RT @Professor_Why: #WhatsRomneyHiding - his co...       0\n",
              "4  RT @wardollarshome: Obama has approved more ta...       1"
            ]
          },
          "metadata": {
            "tags": []
          },
          "execution_count": 3
        }
      ]
    },
    {
      "cell_type": "code",
      "metadata": {
        "colab": {
          "base_uri": "https://localhost:8080/"
        },
        "id": "q7YaRkEy37nE",
        "outputId": "ea41117d-7e7e-4619-b799-50c7db9b6188"
      },
      "source": [
        "tweets.labels.value_counts()"
      ],
      "execution_count": 4,
      "outputs": [
        {
          "output_type": "execute_result",
          "data": {
            "text/plain": [
              "0    931\n",
              "1    352\n",
              "2     81\n",
              "Name: labels, dtype: int64"
            ]
          },
          "metadata": {
            "tags": []
          },
          "execution_count": 4
        }
      ]
    },
    {
      "cell_type": "code",
      "metadata": {
        "colab": {
          "base_uri": "https://localhost:8080/",
          "height": 405
        },
        "id": "z-emPO3V4FXp",
        "outputId": "7679323b-6c91-4727-a90d-e00940151198"
      },
      "source": [
        "fig = plt.figure(figsize=(8,6))\n",
        "\n",
        "ax = sns.barplot(x=tweets['labels'].unique(), y=tweets['labels'].value_counts())\n",
        "\n",
        "ax.set(xlabel = 'Labels')"
      ],
      "execution_count": 5,
      "outputs": [
        {
          "output_type": "execute_result",
          "data": {
            "text/plain": [
              "[Text(0.5, 0, 'Labels')]"
            ]
          },
          "metadata": {
            "tags": []
          },
          "execution_count": 5
        },
        {
          "output_type": "display_data",
          "data": {
            "image/png": "[encoded data removed]",
            "text/plain": [
              "<Figure size 576x432 with 1 Axes>"
            ]
          },
          "metadata": {
            "tags": [],
            "needs_background": "light"
          }
        }
      ]
    },
    {
      "cell_type": "markdown",
      "metadata": {
        "id": "oZMo9Tak4rnQ"
      },
      "source": [
        "### Data is imbalanced and should be made balanced"
      ]
    },
    {
      "cell_type": "markdown",
      "metadata": {
        "id": "kEh_lIaj5S5V"
      },
      "source": [
        "## Data cleanup, Train Test Split and prepare Vocab"
      ]
    },
    {
      "cell_type": "code",
      "metadata": {
        "id": "R4rhlk4V4Z5a"
      },
      "source": [
        "train, test = train_test_split(tweets, test_size= .3, random_state= 42)"
      ],
      "execution_count": 6,
      "outputs": []
    },
    {
      "cell_type": "code",
      "metadata": {
        "colab": {
          "base_uri": "https://localhost:8080/"
        },
        "id": "n9kXuqgc5_h1",
        "outputId": "63c430c1-a7b8-43cc-fb3e-07975b8ee8b6"
      },
      "source": [
        "train.reset_index(drop=True), test.reset_index(drop=True)"
      ],
      "execution_count": 7,
      "outputs": [
        {
          "output_type": "execute_result",
          "data": {
            "text/plain": [
              "(                                                tweets  labels\n",
              " 0    RT @markknoller: Saul says Pres Obama \"will do...       1\n",
              " 1    RT @Drudge_Report: Obama setting up Supreme Co...       1\n",
              " 2    @sweetbay That was Paul Ryan's budget. How did...       1\n",
              " 3    RT @GEsfandiari: \"Obama signaled US would acce...       1\n",
              " 4                  RT @anna12061: Another Obama Buddy!       0\n",
              " ..                                                 ...     ...\n",
              " 949  #WhatsRomneyHiding Obama released his tax retu...       0\n",
              " 950                #KimKardashiansNextBoyFriend Obama!       0\n",
              " 951  RT @larryeldershow: Spike Lee said he dislikes...       0\n",
              " 952  RT @pourmecoffee: White House Easter Egg Roll ...       1\n",
              " 953  #WhatsRomneyHiding His relationship with Vera ...       0\n",
              " \n",
              " [954 rows x 2 columns],\n",
              "                                                 tweets  labels\n",
              " 0    RT @ohgirlphrase: American kid \"You're from th...       0\n",
              " 1    Examiner Editorial: Obama's budget, not Ryan's...       0\n",
              " 2    Obama on Constitutional Law: Did He Lie or Is ...       0\n",
              " 3    Amid Trayvon Martin case, Obama hosts screenin...       0\n",
              " 4    @geoff9cow Right! Of course! It's ALWAYS someo...       1\n",
              " ..                                                 ...     ...\n",
              " 405  RT @CatoInstitute: NEW Podcast:  Obama's Vanis...       0\n",
              " 406  @TPO_Hisself @barackobama people laugh but don...       0\n",
              " 407  62% of U.S. Jews would reelect Obama, 4% say I...       1\n",
              " 408  Obama dings men-only Masters host @ http://t.c...       1\n",
              " 409  Good luck getting to class Tuesday when obama ...       2\n",
              " \n",
              " [410 rows x 2 columns])"
            ]
          },
          "metadata": {
            "tags": []
          },
          "execution_count": 7
        }
      ]
    },
    {
      "cell_type": "code",
      "metadata": {
        "id": "o5rd2SCA6DEQ"
      },
      "source": [
        "def tweet_clean(text):\n",
        "  text = re.sub(r'[^A-Za-z0-9_-]+', ' ', text)\n",
        "  text = re.sub(r'https?:/\\/\\S+', ' ', text)\n",
        "\n",
        "  return(text.strip())"
      ],
      "execution_count": 8,
      "outputs": []
    },
    {
      "cell_type": "code",
      "metadata": {
        "id": "B229e9kg6Phg"
      },
      "source": [
        "nlp = spacy.load('en', disable = ['parser', 'tagger', 'ner'])\n",
        "def tokenizer(s):\n",
        "  return [w.text.lower() for w in nlp(tweet_clean(s))]"
      ],
      "execution_count": 9,
      "outputs": []
    },
    {
      "cell_type": "code",
      "metadata": {
        "id": "DTH0Kpyr6QTK"
      },
      "source": [
        "TEXT = torchtext.legacy.data.Field(tokenize=tokenizer, lower=True, init_token= '<sos>', eos_token= '<eos>')\n",
        "\n",
        "LABEL = torchtext.legacy.data.LabelField(tokenize = tokenizer)"
      ],
      "execution_count": 10,
      "outputs": []
    },
    {
      "cell_type": "code",
      "metadata": {
        "id": "t8no00lr7ob7"
      },
      "source": [
        "datafields = [('tweets', TEXT), ('labels', LABEL)]"
      ],
      "execution_count": 11,
      "outputs": []
    },
    {
      "cell_type": "markdown",
      "metadata": {
        "id": "CFIqIxNm9UT1"
      },
      "source": [
        "### Split and save datasets"
      ]
    },
    {
      "cell_type": "code",
      "metadata": {
        "id": "-q23JJQ49aFy"
      },
      "source": [
        "train.to_csv('session6/train.csv', index=False)\n",
        "test.to_csv('session6/test.csv', index=False)"
      ],
      "execution_count": 12,
      "outputs": []
    },
    {
      "cell_type": "code",
      "metadata": {
        "id": "vXBOBV9W8agI"
      },
      "source": [
        "trn, tst = torchtext.legacy.data.TabularDataset.splits(path='/content/session6',\n",
        "                                                       train = 'train.csv',\n",
        "                                                       test = 'test.csv',\n",
        "                                                       format = 'csv',\n",
        "                                                       skip_header = True,\n",
        "                                                       fields = datafields\n",
        "                                                       )"
      ],
      "execution_count": 13,
      "outputs": []
    },
    {
      "cell_type": "code",
      "metadata": {
        "colab": {
          "base_uri": "https://localhost:8080/"
        },
        "id": "-UfOlwAC8wrk",
        "outputId": "d52d129f-134c-4978-94cc-56b0ff9af9c1"
      },
      "source": [
        "print(f'Number of training examples: {len(trn)}')\n",
        "print(f'Number of testing examples: {len(tst)}')"
      ],
      "execution_count": 14,
      "outputs": [
        {
          "output_type": "stream",
          "text": [
            "Number of training examples: 954\n",
            "Number of testing examples: 410\n"
          ],
          "name": "stdout"
        }
      ]
    },
    {
      "cell_type": "code",
      "metadata": {
        "colab": {
          "base_uri": "https://localhost:8080/"
        },
        "id": "TmrPFX1T8x16",
        "outputId": "ff04b24f-913f-47f7-950d-cfe948e7e1fd"
      },
      "source": [
        "vars(trn.examples[0])"
      ],
      "execution_count": 15,
      "outputs": [
        {
          "output_type": "execute_result",
          "data": {
            "text/plain": [
              "{'labels': '1',\n",
              " 'tweets': ['rt',\n",
              "  'markknoller',\n",
              "  'saul',\n",
              "  'says',\n",
              "  'pres',\n",
              "  'obama',\n",
              "  'will',\n",
              "  'do',\n",
              "  'anything',\n",
              "  'to',\n",
              "  'distract',\n",
              "  'americans',\n",
              "  'from',\n",
              "  'his',\n",
              "  'failed',\n",
              "  'economic',\n",
              "  'record',\n",
              "  'incl',\n",
              "  'unemployment',\n",
              "  'higher',\n",
              "  'gas',\n",
              "  'prices']}"
            ]
          },
          "metadata": {
            "tags": []
          },
          "execution_count": 15
        }
      ]
    },
    {
      "cell_type": "code",
      "metadata": {
        "id": "mXNLd8gA-gjH"
      },
      "source": [
        "TEXT.build_vocab(trn, max_size = 10000,\n",
        "                #  vectors = \"glove.6B.100d\",\n",
        "                min_freq = 2 \n",
        "                )\n",
        "\n",
        "LABEL.build_vocab(trn) "
      ],
      "execution_count": 16,
      "outputs": []
    },
    {
      "cell_type": "code",
      "metadata": {
        "colab": {
          "base_uri": "https://localhost:8080/"
        },
        "id": "nZ2QVJDc_Mfn",
        "outputId": "6ae368ec-1d66-4719-98d9-e8a4446c14ac"
      },
      "source": [
        "print(TEXT.vocab.freqs.most_common(50))"
      ],
      "execution_count": 17,
      "outputs": [
        {
          "output_type": "stream",
          "text": [
            "[('obama', 955), ('the', 485), ('rt', 433), ('t', 386), ('to', 343), ('co', 331), ('http', 329), ('s', 269), ('you', 247), ('a', 230), ('of', 214), ('is', 201), ('with', 178), ('in', 171), ('do', 155), ('-', 155), ('that', 150), ('on', 143), ('i', 141), ('and', 139), ('he', 137), ('for', 129), ('kid', 125), ('whatsromneyhiding', 122), ('his', 115), ('so', 112), ('like', 108), ('from', 102), ('romney', 92), ('president', 88), ('have', 88), ('it', 83), ('go', 80), ('re', 73), ('not', 72), ('has', 70), ('at', 70), ('american', 68), ('cool', 66), ('can', 63), ('we', 63), ('uk', 62), ('ohhh', 62), ('tea', 62), ('queen', 62), ('british', 62), ('mcdonalds', 62), ('gop', 61), ('edshow', 60), ('ohgirlphrase', 58)]\n"
          ],
          "name": "stdout"
        }
      ]
    },
    {
      "cell_type": "code",
      "metadata": {
        "colab": {
          "base_uri": "https://localhost:8080/"
        },
        "id": "eRLpAAJs_PJ9",
        "outputId": "bfca23d4-faf7-4d5e-c0b2-3fa2088b816f"
      },
      "source": [
        "print(TEXT.vocab.itos[:10])"
      ],
      "execution_count": 18,
      "outputs": [
        {
          "output_type": "stream",
          "text": [
            "['<unk>', '<pad>', '<sos>', '<eos>', 'obama', 'the', 'rt', 't', 'to', 'co']\n"
          ],
          "name": "stdout"
        }
      ]
    },
    {
      "cell_type": "code",
      "metadata": {
        "colab": {
          "base_uri": "https://localhost:8080/"
        },
        "id": "o7zPd8IR_zSt",
        "outputId": "5cf84a10-27a2-4c40-8e55-7a101913e426"
      },
      "source": [
        "print(LABEL.vocab.itos)"
      ],
      "execution_count": 19,
      "outputs": [
        {
          "output_type": "stream",
          "text": [
            "['0', '1', '2']\n"
          ],
          "name": "stdout"
        }
      ]
    },
    {
      "cell_type": "code",
      "metadata": {
        "colab": {
          "base_uri": "https://localhost:8080/"
        },
        "id": "DCXADYJj_Y0p",
        "outputId": "33774ff6-31f1-469a-c697-1b69d1cfaea5"
      },
      "source": [
        "print(LABEL.vocab.stoi)"
      ],
      "execution_count": 20,
      "outputs": [
        {
          "output_type": "stream",
          "text": [
            "defaultdict(None, {'0': 0, '1': 1, '2': 2})\n"
          ],
          "name": "stdout"
        }
      ]
    },
    {
      "cell_type": "markdown",
      "metadata": {
        "id": "Othsv5nI_5Wz"
      },
      "source": [
        "## Build Model class"
      ]
    },
    {
      "cell_type": "code",
      "metadata": {
        "id": "M68tAxxo_ck7"
      },
      "source": [
        "class Encoder(nn.Module):\n",
        "  def __init__(self, input_size, embedding_size, hidden_size):\n",
        "    super(Encoder, self).__init__()\n",
        "\n",
        "    self.embedding = nn.Embedding(input_size, embedding_size)\n",
        "    self.rnn = nn.LSTMCell(embedding_size, hidden_size)\n",
        "\n",
        "  def forward(self,x,show_weights):\n",
        "    # x shape: (seq_length, N)\n",
        "    embedding = self.embedding(x)\n",
        "    # embedding shape: (seq_length, N, embedding_size)\n",
        "\n",
        "    hx = torch.randn(embedding.size()[1], hidden_size) # (batch, hidden_size)\n",
        "    cx = torch.randn(embedding.size()[1], hidden_size)\n",
        "    output = []\n",
        "\n",
        "    self.show_weights = show_weights\n",
        "\n",
        "    for i in range(embedding.size()[0]):\n",
        "        hx, cx = self.rnn(embedding[i], (hx, cx))\n",
        "\n",
        "        if self.show_weights == True:\n",
        "          print(f'hx for step {i+1} -  {hx}')   #  Print the hidden state\n",
        "          print(f'cx for step {i+1} -  {cx}')   #  Print the cell state\n",
        "\n",
        "        output.append(hx)\n",
        "    output = torch.stack(output, dim=0)\n",
        "    if self.show_weights == True:\n",
        "      print(f'final staked output from LSTM Cell-  {output}')   #  Print the output\n",
        "    return output, hx.unsqueeze(0), cx.unsqueeze(0)\n",
        "\n",
        "class Decoder(nn.Module):\n",
        "    def __init__(self, input_size, hidden_size, c_state_size, output_size):\n",
        "      super(Decoder, self).__init__()\n",
        "\n",
        "      self.rnn = nn.LSTM(input_size, hidden_size)\n",
        "      self.fc = nn.Linear(hidden_size, output_size)\n",
        "\n",
        "    def forward(self, x, hidden, cell):\n",
        "\n",
        "      outputs, (hidden, cell) = self.rnn(x,(hidden, cell)) \n",
        "      predictions = self.fc(hidden)\n",
        "\n",
        "      return predictions, hidden, cell\n",
        "\n",
        "\n",
        "class Seq2Seq(nn.Module):\n",
        "  def __init__(self, encoder, decoder):\n",
        "    super(Seq2Seq, self).__init__()\n",
        "    self.encoder = encoder\n",
        "    self.decoder = decoder\n",
        "\n",
        "  def forward(self, source, show_weights):\n",
        "\n",
        "    op, hidden, cell = self.encoder(source, show_weights = show_weights)\n",
        "\n",
        "    # Set input as output from Encoder and hidden and cell states from Encoder\n",
        "    x = op\n",
        "\n",
        "    predictions, d_hidden, d_cell = self.decoder(x, hidden, cell)\n",
        "   \n",
        "    best_pred= predictions.squeeze(0)\n",
        "\n",
        "    return best_pred\n"
      ],
      "execution_count": 21,
      "outputs": []
    },
    {
      "cell_type": "markdown",
      "metadata": {
        "id": "QasO1sz4f9-O"
      },
      "source": [
        "### Initialize Training Parameters\n",
        "\n",
        "---\n",
        "\n"
      ]
    },
    {
      "cell_type": "code",
      "metadata": {
        "id": "PoWiMY3LXw0G"
      },
      "source": [
        "## Training starts -\n",
        "\n",
        "# Training hyperparameters\n",
        "learning_rate = 0.001\n",
        "batch_size = 8\n",
        "\n",
        "# Model hyperparameters\n",
        "device = torch.device('cuda' if torch.cuda.is_available() else 'cpu')\n",
        "input_size_encoder = len(TEXT.vocab)\n",
        "input_size_decoder = 64 # Hidden dimention for output\n",
        "output_size = len(LABEL.vocab)\n",
        "encoder_embedding_size = 32\n",
        "\n",
        "cell_state_size = 64\n",
        "hidden_size = 64\n",
        "num_layers = 1\n",
        "\n",
        "# Tensorboard\n",
        "# writer = SummaryWriter(f'runs/loss_plot')\n",
        "# step = 0"
      ],
      "execution_count": 22,
      "outputs": []
    },
    {
      "cell_type": "markdown",
      "metadata": {
        "id": "TERDOcWqgFlF"
      },
      "source": [
        "## Create Data Loaders"
      ]
    },
    {
      "cell_type": "code",
      "metadata": {
        "id": "jxlMR1JsgEyU"
      },
      "source": [
        "# Get iterators\n",
        "train_iterator, test_iterator = torchtext.legacy.data.BucketIterator.splits(\n",
        "    (trn, tst),\n",
        "    batch_size = batch_size,\n",
        "    sort_within_batch = True,\n",
        "    sort_key = lambda x: len(x.tweets),\n",
        "    device= device)\n"
      ],
      "execution_count": 23,
      "outputs": []
    },
    {
      "cell_type": "markdown",
      "metadata": {
        "id": "jU1B0HlfgleZ"
      },
      "source": [
        "## Initialize Models, Optimizer and define Criterion"
      ]
    },
    {
      "cell_type": "code",
      "metadata": {
        "id": "9I2Y7MRSeZmp"
      },
      "source": [
        "encoder_net = Encoder(input_size_encoder, encoder_embedding_size, \n",
        "                      hidden_size).to(device)\n",
        "\n",
        "decoder_net = Decoder(input_size_decoder, hidden_size, cell_state_size, output_size).to(device)\n",
        "\n",
        "model = Seq2Seq(encoder_net, decoder_net).to(device)\n",
        "\n",
        "\n",
        "optimizer = optim.Adam(model.parameters(), lr = learning_rate)\n",
        "\n",
        "pad_idx = TEXT.vocab.stoi['<pad>']\n",
        "criterion = nn.CrossEntropyLoss(ignore_index=pad_idx).to(device)"
      ],
      "execution_count": 24,
      "outputs": []
    },
    {
      "cell_type": "code",
      "metadata": {
        "colab": {
          "base_uri": "https://localhost:8080/"
        },
        "id": "oJ66HU6KXrRt",
        "outputId": "c94f1950-da65-43a2-f58a-40ae3073a8c0"
      },
      "source": [
        "model"
      ],
      "execution_count": 25,
      "outputs": [
        {
          "output_type": "execute_result",
          "data": {
            "text/plain": [
              "Seq2Seq(\n",
              "  (encoder): Encoder(\n",
              "    (embedding): Embedding(1483, 32)\n",
              "    (rnn): LSTMCell(32, 64)\n",
              "  )\n",
              "  (decoder): Decoder(\n",
              "    (rnn): LSTM(64, 64)\n",
              "    (fc): Linear(in_features=64, out_features=3, bias=True)\n",
              "  )\n",
              ")"
            ]
          },
          "metadata": {
            "tags": []
          },
          "execution_count": 25
        }
      ]
    },
    {
      "cell_type": "code",
      "metadata": {
        "id": "TZQswgYKpYdk"
      },
      "source": [
        "# define metric\n",
        "def binary_accuracy(preds, y):\n",
        "    #round predictions to the closest integer\n",
        "    _, predictions = torch.max(preds, 1)\n",
        "    \n",
        "    correct = (predictions == y).float() \n",
        "    acc = correct.sum() / len(correct)\n",
        "    return acc"
      ],
      "execution_count": 26,
      "outputs": []
    },
    {
      "cell_type": "code",
      "metadata": {
        "id": "H0QRivXwp_MP"
      },
      "source": [
        "def train(model, iterator, optimizer, criterion,show_weights = False):\n",
        "    \n",
        "    # initialize every epoch \n",
        "    epoch_loss = 0\n",
        "    epoch_acc = 0\n",
        "    \n",
        "    # set the model in training phase\n",
        "    model.train()  \n",
        "    \n",
        "    for batch_idx, batch in enumerate(train_iterator):\n",
        "\n",
        "        inp_data = batch.tweets.to(device)\n",
        "        target = batch.labels.to(device)\n",
        "\n",
        "        # output = model(inp_data, target)\n",
        "        output = model(inp_data, show_weights)\n",
        "        \n",
        "        # resets the gradients after every batch\n",
        "        optimizer.zero_grad()   \n",
        "                       \n",
        "        # compute the loss\n",
        "        loss = criterion(output, target)        \n",
        "        \n",
        "        # compute the binary accuracy\n",
        "        acc = binary_accuracy(output, target)   \n",
        "        \n",
        "        # backpropage the loss and compute the gradients\n",
        "        loss.backward()       \n",
        "        \n",
        "        # clip weights\n",
        "        torch.nn.utils.clip_grad_norm_(model.parameters(), max_norm=1)\n",
        "\n",
        "        # update the weights\n",
        "        optimizer.step()      \n",
        "        \n",
        "        # loss and accuracy\n",
        "        epoch_loss += loss.item()  \n",
        "        epoch_acc += acc.item()    \n",
        "        \n",
        "    return epoch_loss / len(iterator), epoch_acc / len(iterator)"
      ],
      "execution_count": 27,
      "outputs": []
    },
    {
      "cell_type": "code",
      "metadata": {
        "id": "m4Y5wloqqSPw"
      },
      "source": [
        "def evaluate(model, iterator, criterion, show_weights = False):\n",
        "    \n",
        "    # initialize every epoch\n",
        "    epoch_loss = 0\n",
        "    epoch_acc = 0\n",
        "\n",
        "    # deactivating dropout layers\n",
        "    model.eval()\n",
        "    \n",
        "    # deactivates autograd\n",
        "    with torch.no_grad():\n",
        "    \n",
        "        for batch in iterator:\n",
        "\n",
        "            inp_data = batch.tweets.to(device)\n",
        "            target = batch.labels.to(device)\n",
        "            output = model(inp_data, show_weights)\n",
        "                        \n",
        "            # compute loss and accuracy\n",
        "            loss = criterion(output, batch.labels)\n",
        "            acc = binary_accuracy(output, batch.labels)\n",
        "            \n",
        "            # keep track of loss and accuracy\n",
        "            epoch_loss += loss.item()\n",
        "            epoch_acc += acc.item()\n",
        "        \n",
        "    return epoch_loss / len(iterator), epoch_acc / len(iterator)"
      ],
      "execution_count": 28,
      "outputs": []
    },
    {
      "cell_type": "code",
      "metadata": {
        "colab": {
          "base_uri": "https://localhost:8080/"
        },
        "id": "jI-cxmj5qXx8",
        "outputId": "7fb263c1-3b0e-45fb-dc89-ad8a6946b44d"
      },
      "source": [
        "N_EPOCHS = 10\n",
        "\n",
        "best_test_loss = float('inf')\n",
        "\n",
        "trn_loss = [] \n",
        "trn_acc = []\n",
        "tst_loss = [] \n",
        "tst_acc = [] \n",
        "\n",
        "for epoch in range(N_EPOCHS):\n",
        "    \n",
        "    # train the model\n",
        "    train_loss, train_acc = train(model, train_iterator, optimizer, criterion)\n",
        "    trn_loss.append(train_loss)\n",
        "    trn_acc.append(train_acc*100)\n",
        "    \n",
        "    # evaluate the model\n",
        "    test_loss, test_acc = evaluate(model, test_iterator, criterion)\n",
        "    tst_loss.append(test_loss)\n",
        "    tst_acc.append(test_acc*100)\n",
        "    \n",
        "    print(f'Epoch: {epoch+1}')\n",
        "    print(f'\\tTrain Loss: {train_loss:.3f} | Train Acc: {train_acc*100:.2f}%')\n",
        "    print(f'\\t Val. Loss: {test_loss:.3f} |  Val. Acc: {test_acc*100:.2f}% \\n')"
      ],
      "execution_count": 29,
      "outputs": [
        {
          "output_type": "stream",
          "text": [
            "Epoch: 1\n",
            "\tTrain Loss: 0.444 | Train Acc: 66.04%\n",
            "\t Val. Loss: 0.267 |  Val. Acc: 72.36% \n",
            "\n",
            "Epoch: 2\n",
            "\tTrain Loss: 0.322 | Train Acc: 66.56%\n",
            "\t Val. Loss: 0.230 |  Val. Acc: 72.36% \n",
            "\n",
            "Epoch: 3\n",
            "\tTrain Loss: 0.308 | Train Acc: 66.56%\n",
            "\t Val. Loss: 0.194 |  Val. Acc: 73.80% \n",
            "\n",
            "Epoch: 4\n",
            "\tTrain Loss: 0.284 | Train Acc: 67.29%\n",
            "\t Val. Loss: 0.245 |  Val. Acc: 72.84% \n",
            "\n",
            "Epoch: 5\n",
            "\tTrain Loss: 0.205 | Train Acc: 68.96%\n",
            "\t Val. Loss: 0.233 |  Val. Acc: 70.43% \n",
            "\n",
            "Epoch: 6\n",
            "\tTrain Loss: 0.198 | Train Acc: 69.38%\n",
            "\t Val. Loss: 0.176 |  Val. Acc: 74.04% \n",
            "\n",
            "Epoch: 7\n",
            "\tTrain Loss: 0.128 | Train Acc: 70.31%\n",
            "\t Val. Loss: 0.173 |  Val. Acc: 74.52% \n",
            "\n",
            "Epoch: 8\n",
            "\tTrain Loss: 0.089 | Train Acc: 71.15%\n",
            "\t Val. Loss: 0.212 |  Val. Acc: 73.56% \n",
            "\n",
            "Epoch: 9\n",
            "\tTrain Loss: 0.065 | Train Acc: 71.56%\n",
            "\t Val. Loss: 0.221 |  Val. Acc: 73.56% \n",
            "\n",
            "Epoch: 10\n",
            "\tTrain Loss: 0.045 | Train Acc: 72.40%\n",
            "\t Val. Loss: 0.272 |  Val. Acc: 72.60% \n",
            "\n"
          ],
          "name": "stdout"
        }
      ]
    },
    {
      "cell_type": "code",
      "metadata": {
        "colab": {
          "base_uri": "https://localhost:8080/",
          "height": 626
        },
        "id": "XB7rrY53sFWa",
        "outputId": "7862ca12-9903-4824-9477-c42f389ad5e6"
      },
      "source": [
        "plt.style.use('ggplot')\n",
        "\n",
        "fig, axs = plt.subplots(1,2,figsize=(20,10))\n",
        "\n",
        "axs[0].plot(trn_loss, label = 'train loss')\n",
        "axs[0].plot(tst_loss, label = 'test loss')\n",
        "axs[0].legend(loc=\"upper right\")\n",
        "axs[0].set_title(\"Loss\")\n",
        "\n",
        "axs[1].plot(trn_acc,  label = 'train accuracy')\n",
        "axs[1].plot(tst_acc,  label = 'test accuracy')\n",
        "axs[1].legend(loc=\"lower right\")\n",
        "axs[1].set_title(\"Accuracy\")"
      ],
      "execution_count": 30,
      "outputs": [
        {
          "output_type": "execute_result",
          "data": {
            "text/plain": [
              "Text(0.5, 1.0, 'Accuracy')"
            ]
          },
          "metadata": {
            "tags": []
          },
          "execution_count": 30
        },
        {
          "output_type": "display_data",
          "data": {
            "image/png": "[encoded data removed]",
            "text/plain": [
              "<Figure size 1440x720 with 2 Axes>"
            ]
          },
          "metadata": {
            "tags": []
          }
        }
      ]
    },
    {
      "cell_type": "code",
      "metadata": {
        "id": "NyKoeuPVyx__"
      },
      "source": [
        "def test_model(sentence, show_weights = True):\n",
        "  tokenized = [tok.text for tok in nlp.tokenizer(sentence)]\n",
        "  indexed = [TEXT.vocab.stoi[t] for t in tokenized]\n",
        "  tensor = torch.LongTensor(indexed)\n",
        "  tensor = tensor.unsqueeze(1).to(device)\n",
        "\n",
        "  model.eval()\n",
        "  prediction = model(tensor, show_weights = show_weights)\n",
        "  return( [\"Negative\", \"Neutral\", \"Positive\"][prediction.argmax()] )"
      ],
      "execution_count": 31,
      "outputs": []
    },
    {
      "cell_type": "code",
      "metadata": {
        "colab": {
          "base_uri": "https://localhost:8080/",
          "height": 1000
        },
        "id": "ddAMTXC5ahBg",
        "outputId": "94438fcf-fb1d-4d72-d9f8-587cf89a450a"
      },
      "source": [
        "sentence = test['tweets'].iloc[98]\n",
        "label = test['labels'].iloc[98]\n",
        "predict = test_model(sentence,True)\n",
        "\n",
        "display(Markdown ('***Sentence :***' + f'{sentence}'))\n",
        "display(Markdown ('***Actual Label :***' + f'{[\"Negative\", \"Neutral\", \"Positive\"][label]}'))\n",
        "display(Markdown ('***Predicted Label :***' + f'{predict}'))"
      ],
      "execution_count": 35,
      "outputs": [
        {
          "output_type": "stream",
          "text": [
            "hx for step 1 -  tensor([[ 0.0120, -0.0209,  0.0071,  0.1573, -0.3932, -0.1295,  0.0859,  0.0635,\n",
            "         -0.2100,  0.2797, -0.0888, -0.2124,  0.2193, -0.3121,  0.1379,  0.1189,\n",
            "         -0.0350, -0.3301,  0.0785, -0.1029, -0.0393,  0.3786, -0.0365,  0.1970,\n",
            "         -0.4074, -0.0932,  0.2130,  0.0803, -0.1818, -0.5714, -0.0585,  0.0281,\n",
            "         -0.0720,  0.0374, -0.0019, -0.1107,  0.2855, -0.0219,  0.2019, -0.1546,\n",
            "          0.3021, -0.2370,  0.0116,  0.0544,  0.4239, -0.2958,  0.0533,  0.0036,\n",
            "          0.0845,  0.0515,  0.0762,  0.2402,  0.2124, -0.1712,  0.3693,  0.0784,\n",
            "          0.6688, -0.1492, -0.0688, -0.4058,  0.6305,  0.3926,  0.4646, -0.1587]],\n",
            "       grad_fn=<MulBackward0>)\n",
            "cx for step 1 -  tensor([[ 0.0332, -0.0990,  0.0115,  0.8937, -0.6425, -0.3018,  0.2558,  0.3513,\n",
            "         -0.7412,  0.6522, -0.6187, -0.6024,  0.3279, -0.6495,  0.2222,  0.1825,\n",
            "         -0.0858, -1.5005,  0.3657, -0.3837, -0.1729,  0.4895, -0.0681,  0.6376,\n",
            "         -0.9929, -0.4412,  0.7954,  0.1383, -0.4751, -1.3030, -0.2985,  0.1696,\n",
            "         -0.1739,  0.2290, -0.0051, -0.8236,  0.6926, -0.2211,  0.2782, -0.2694,\n",
            "          0.4226, -0.5792,  0.0621,  0.1826,  1.1990, -0.4680,  0.4888,  0.0190,\n",
            "          0.3846,  0.1333,  0.5077,  0.3318,  0.3409, -0.5641,  0.6107,  0.2470,\n",
            "          1.1983, -0.3990, -0.1755, -0.7160,  1.3239,  0.9683,  0.7975, -0.1944]],\n",
            "       grad_fn=<AddBackward0>)\n",
            "hx for step 2 -  tensor([[ 0.1062, -0.0402,  0.0229,  0.1843, -0.2819, -0.2650,  0.1548,  0.1472,\n",
            "         -0.1222,  0.2704, -0.1271, -0.1595,  0.0982, -0.2341,  0.1762, -0.1217,\n",
            "         -0.0317, -0.3855,  0.0473, -0.0624, -0.0428,  0.1698, -0.1685,  0.1432,\n",
            "         -0.4907, -0.1559,  0.0485,  0.0772, -0.1761, -0.6403, -0.0705,  0.0132,\n",
            "         -0.0160,  0.0408, -0.0135, -0.1441,  0.3519, -0.0264,  0.0599, -0.2415,\n",
            "          0.3552, -0.4103, -0.0667,  0.0546,  0.3459, -0.2157,  0.0214,  0.0260,\n",
            "          0.0741,  0.1651,  0.1242,  0.3439,  0.0835, -0.0851,  0.3009,  0.0920,\n",
            "          0.3514, -0.0743,  0.0068, -0.2368,  0.6484,  0.2308,  0.2140, -0.0086]],\n",
            "       grad_fn=<MulBackward0>)\n",
            "cx for step 2 -  tensor([[ 0.1697, -0.1675,  0.0515,  0.9202, -0.5644, -0.5377,  0.4825,  0.4107,\n",
            "         -0.3229,  0.4049, -0.3894, -0.2836,  0.1599, -0.3758,  0.4385, -0.2724,\n",
            "         -0.0449, -0.8712,  0.1241, -0.1441, -0.0909,  0.2723, -0.2548,  0.3438,\n",
            "         -0.9658, -0.4947,  0.1341,  0.1660, -0.3058, -1.2098, -0.1475,  0.0436,\n",
            "         -0.0457,  0.1064, -0.0251, -0.2682,  0.7522, -0.1254,  0.0935, -0.4021,\n",
            "          0.5425, -0.7667, -0.1830,  0.1643,  0.7183, -0.3883,  0.1172,  0.0838,\n",
            "          0.3156,  0.2450,  0.2723,  0.5414,  0.1723, -0.2163,  0.4256,  0.3116,\n",
            "          0.7313, -0.1479,  0.0135, -0.5403,  1.3170,  0.7872,  0.5092, -0.0167]],\n",
            "       grad_fn=<AddBackward0>)\n",
            "hx for step 3 -  tensor([[ 0.1849, -0.0439,  0.0110,  0.2042, -0.2771, -0.3295,  0.2064,  0.1520,\n",
            "         -0.0391,  0.1322, -0.0772, -0.0493,  0.0486, -0.1390,  0.1910, -0.1692,\n",
            "         -0.0148, -0.1577, -0.0019,  0.0042, -0.0046,  0.0784, -0.2415,  0.0968,\n",
            "         -0.4893, -0.1475, -0.0258,  0.0442, -0.1592, -0.6330, -0.0192, -0.0077,\n",
            "          0.0119,  0.0264, -0.0117, -0.0809,  0.3614, -0.0259,  0.0610, -0.2970,\n",
            "          0.4158, -0.4498, -0.1212,  0.0404,  0.2228, -0.1766, -0.0164,  0.0261,\n",
            "          0.0619,  0.1917,  0.0608,  0.4281,  0.0576, -0.0237,  0.2361,  0.0839,\n",
            "          0.2112,  0.0116,  0.0345, -0.1673,  0.6588,  0.2005,  0.1521,  0.0433]],\n",
            "       grad_fn=<MulBackward0>)\n",
            "cx for step 3 -  tensor([[ 0.3005, -0.1862,  0.0302,  0.9512, -0.5342, -0.7106,  0.6433,  0.4419,\n",
            "         -0.0990,  0.1879, -0.2355, -0.0872,  0.0828, -0.2278,  0.4643, -0.3668,\n",
            "         -0.0221, -0.3173, -0.0050,  0.0102, -0.0100,  0.1230, -0.3812,  0.2289,\n",
            "         -0.9648, -0.4539, -0.0725,  0.0974, -0.2810, -1.1984, -0.0412, -0.0268,\n",
            "          0.0374,  0.0700, -0.0224, -0.1570,  0.7920, -0.1313,  0.0955, -0.5113,\n",
            "          0.6694, -0.9001, -0.3652,  0.1251,  0.4513, -0.3340, -0.0886,  0.0842,\n",
            "          0.2507,  0.2972,  0.1353,  0.6992,  0.1162, -0.0648,  0.3354,  0.3011,\n",
            "          0.4201,  0.0247,  0.0711, -0.3752,  1.3370,  0.6218,  0.3387,  0.0906]],\n",
            "       grad_fn=<AddBackward0>)\n",
            "hx for step 4 -  tensor([[ 2.4509e-01, -4.4716e-02, -2.8575e-03,  2.2234e-01, -2.7680e-01,\n",
            "         -3.6637e-01,  2.3413e-01,  1.5929e-01,  1.3061e-02, -2.6108e-02,\n",
            "         -4.3570e-02,  2.7063e-02,  4.9141e-02, -8.8962e-02,  2.1905e-01,\n",
            "         -1.8945e-01, -8.4500e-03,  6.3078e-02, -2.9221e-02,  4.5368e-02,\n",
            "          2.0697e-02,  3.1488e-03, -2.8603e-01,  7.3315e-02, -5.0161e-01,\n",
            "         -1.3376e-01, -4.5854e-02,  8.0361e-03, -1.8103e-01, -6.3888e-01,\n",
            "          1.8060e-02, -5.0154e-03,  2.8467e-02,  1.3681e-02, -1.7952e-02,\n",
            "         -6.1525e-02,  3.7326e-01, -2.5887e-02,  7.4227e-02, -3.3204e-01,\n",
            "          4.4950e-01, -4.8414e-01, -1.5350e-01,  2.3974e-02,  1.5117e-01,\n",
            "         -1.5477e-01, -4.2303e-02,  1.8690e-02,  4.9833e-02,  2.0230e-01,\n",
            "          1.8965e-02,  4.8202e-01,  4.7943e-02, -2.3197e-05,  1.9906e-01,\n",
            "          7.3741e-02,  1.1641e-01,  5.9943e-02,  2.6943e-02, -1.0760e-01,\n",
            "          6.6939e-01,  1.7241e-01,  1.1297e-01,  7.1688e-02]],\n",
            "       grad_fn=<MulBackward0>)\n",
            "cx for step 4 -  tensor([[ 4.1408e-01, -1.8818e-01, -8.7326e-03,  9.8405e-01, -5.2658e-01,\n",
            "         -8.3837e-01,  7.4848e-01,  4.6961e-01,  3.3096e-02, -3.6934e-02,\n",
            "         -1.3526e-01,  4.7795e-02,  8.6074e-02, -1.4562e-01,  4.8490e-01,\n",
            "         -4.0381e-01, -1.3038e-02,  1.2874e-01, -7.6402e-02,  1.1225e-01,\n",
            "          4.3908e-02,  4.8747e-03, -4.7346e-01,  1.7159e-01, -9.7021e-01,\n",
            "         -4.1938e-01, -1.3247e-01,  1.7386e-02, -3.1743e-01, -1.2276e+00,\n",
            "          4.0380e-02, -1.8021e-02,  9.5493e-02,  3.7415e-02, -3.3581e-02,\n",
            "         -1.2395e-01,  8.0945e-01, -1.3705e-01,  1.1454e-01, -5.9631e-01,\n",
            "          7.5388e-01, -1.0252e+00, -5.0194e-01,  7.3048e-02,  3.0868e-01,\n",
            "         -3.0413e-01, -2.0999e-01,  6.0078e-02,  2.0042e-01,  3.1655e-01,\n",
            "          4.2421e-02,  8.3444e-01,  9.3324e-02, -6.5494e-05,  2.8495e-01,\n",
            "          2.7336e-01,  2.3564e-01,  1.3089e-01,  5.4069e-02, -2.4094e-01,\n",
            "          1.3714e+00,  5.0587e-01,  2.4653e-01,  1.6364e-01]],\n",
            "       grad_fn=<AddBackward0>)\n",
            "hx for step 5 -  tensor([[ 3.3903e-01, -1.8412e-02,  4.2632e-04,  8.9064e-02,  5.1657e-02,\n",
            "         -1.9541e-01,  1.3351e-01, -3.1854e-02,  3.4599e-02, -2.4001e-02,\n",
            "         -1.7552e-01, -4.7058e-02,  2.9850e-02, -2.6439e-02,  1.4367e-01,\n",
            "          1.8894e-02, -2.9314e-02,  7.6244e-02, -2.5691e-01,  1.2373e-01,\n",
            "         -1.3829e-01,  7.2075e-02, -5.1117e-02, -6.4010e-02, -7.1297e-02,\n",
            "         -7.6820e-02, -9.9060e-02, -5.9109e-02, -3.1328e-01, -3.9082e-01,\n",
            "          1.0476e-01,  3.4430e-01,  1.3472e-02, -2.6546e-02,  2.7929e-02,\n",
            "         -7.0083e-04,  1.5248e-01,  1.9318e-01,  1.1618e-01,  1.5674e-02,\n",
            "          5.2403e-01, -3.5846e-01, -1.0212e-01, -7.5175e-02,  5.6473e-02,\n",
            "          2.8884e-02, -6.3819e-02, -4.6510e-02,  9.7636e-02,  4.8543e-02,\n",
            "          3.5934e-02,  2.4853e-01,  1.5860e-01, -1.2645e-01,  2.1811e-01,\n",
            "          2.7889e-02, -4.1512e-02,  7.1568e-02, -4.9083e-02,  1.3590e-02,\n",
            "          2.5594e-01,  6.3656e-02,  1.5217e-01,  5.3382e-02]],\n",
            "       grad_fn=<MulBackward0>)\n",
            "cx for step 5 -  tensor([[ 0.6173, -0.0404,  0.0042,  0.1378,  0.1173, -0.6858,  0.2471, -0.0661,\n",
            "          0.0960, -0.0737, -0.3307, -0.0780,  0.0672, -0.0830,  0.2427,  0.0301,\n",
            "         -0.1030,  0.1228, -0.3266,  0.2421, -0.3515,  0.1851, -0.2067, -0.1342,\n",
            "         -0.2560, -0.1434, -0.1979, -0.2136, -0.5188, -0.7002,  0.2750,  0.6374,\n",
            "          0.0223, -0.0524,  0.0587, -0.0015,  0.2627,  0.3117,  0.1762,  0.0313,\n",
            "          0.7800, -0.6640, -0.2565, -0.1934,  0.1525,  0.0420, -0.1482, -0.1114,\n",
            "          0.2270,  0.2013,  0.0608,  0.4691,  0.4219, -0.2897,  0.3527,  0.0490,\n",
            "         -0.1598,  0.2257, -0.1095,  0.0289,  0.8064,  0.1420,  0.1989,  0.1958]],\n",
            "       grad_fn=<AddBackward0>)\n",
            "hx for step 6 -  tensor([[ 0.3576, -0.0132,  0.0348,  0.3548, -0.0052, -0.2713,  0.0204, -0.0615,\n",
            "         -0.1704, -0.0073, -0.2727, -0.2041,  0.2619,  0.0595,  0.2758, -0.3264,\n",
            "          0.1497,  0.1606, -0.2786,  0.2269,  0.1637, -0.0633, -0.1462, -0.1065,\n",
            "         -0.0478,  0.0048,  0.0566, -0.2039, -0.3245, -0.3839,  0.1173,  0.1835,\n",
            "          0.0877, -0.0571, -0.0608, -0.0131, -0.0961,  0.2245,  0.2153,  0.0420,\n",
            "          0.2497, -0.3304, -0.2253, -0.0304, -0.0240,  0.1048, -0.0189, -0.1304,\n",
            "          0.2058,  0.1597,  0.1040,  0.3106,  0.2212, -0.2325,  0.0101, -0.0949,\n",
            "         -0.0459,  0.0981, -0.1578, -0.1259,  0.1931,  0.0291, -0.2100, -0.0012]],\n",
            "       grad_fn=<MulBackward0>)\n",
            "cx for step 6 -  tensor([[ 0.7356, -0.0242,  0.1600,  0.5609, -0.0148, -0.7430,  0.0361, -0.1149,\n",
            "         -0.3510, -0.0244, -0.6014, -0.3972,  0.3811,  0.1192,  0.3770, -0.4514,\n",
            "          0.2833,  0.2574, -0.3473,  0.3580,  0.3161, -0.1447, -0.2446, -0.1911,\n",
            "         -0.1538,  0.0087,  0.1035, -0.3684, -0.5803, -0.8218,  0.2695,  0.4215,\n",
            "          0.2355, -0.2100, -0.1268, -0.0226, -0.1795,  0.4312,  0.3512,  0.0637,\n",
            "          0.4798, -0.5318, -0.5162, -0.1041, -0.0682,  0.1709, -0.0349, -0.2850,\n",
            "          0.3598,  0.4118,  0.2062,  0.5562,  0.4232, -0.3129,  0.0164, -0.1666,\n",
            "         -0.0930,  0.2130, -0.4134, -0.2078,  0.2644,  0.0724, -0.3268, -0.0019]],\n",
            "       grad_fn=<AddBackward0>)\n",
            "hx for step 7 -  tensor([[ 0.4605, -0.0687, -0.2087, -0.1502,  0.0596, -0.4176,  0.2674, -0.4028,\n",
            "          0.0066, -0.1637, -0.5506, -0.4185,  0.2367,  0.1511, -0.1151,  0.0905,\n",
            "          0.2743,  0.2567, -0.3710,  0.5422,  0.3347, -0.2151, -0.1125,  0.1313,\n",
            "         -0.3184, -0.0089, -0.0310, -0.4848, -0.3502, -0.3813,  0.3002,  0.3680,\n",
            "          0.0813,  0.0869, -0.1026,  0.2224,  0.3632,  0.3459,  0.2852, -0.2679,\n",
            "          0.4465, -0.3764, -0.3156, -0.2829,  0.1668, -0.0617, -0.4539, -0.2243,\n",
            "         -0.0104,  0.4317,  0.1294,  0.4615,  0.4217, -0.1460,  0.1027, -0.0639,\n",
            "         -0.2951,  0.2307, -0.3526,  0.2320,  0.3467,  0.2741,  0.2724,  0.0156]],\n",
            "       grad_fn=<MulBackward0>)\n",
            "cx for step 7 -  tensor([[ 0.8240, -0.1471, -0.3268, -0.1945,  0.1007, -0.9171,  0.6479, -0.5782,\n",
            "          0.0126, -0.3526, -1.0063, -0.8365,  0.6040,  0.4359, -0.2137,  0.1465,\n",
            "          0.6752,  0.6155, -0.6949,  0.9464,  0.5442, -0.5062, -0.2301,  0.2289,\n",
            "         -0.5832, -0.0510, -0.0682, -0.7871, -0.7100, -0.9341,  0.6483,  0.6453,\n",
            "          0.2279,  0.2303, -0.3136,  0.5554,  0.6655,  0.5570,  0.5329, -0.4411,\n",
            "          0.8355, -0.8532, -0.8774, -0.5906,  0.4962, -0.1856, -0.8133, -0.4739,\n",
            "         -0.0275,  0.8679,  0.2484,  0.8811,  0.9227, -0.2783,  0.1673, -0.1078,\n",
            "         -0.5529,  0.3810, -0.6079,  0.4154,  0.6991,  0.5312,  0.3670,  0.0389]],\n",
            "       grad_fn=<AddBackward0>)\n",
            "hx for step 8 -  tensor([[ 0.4686, -0.0873, -0.0362,  0.4049, -0.0510, -0.4398,  0.2717, -0.0585,\n",
            "          0.0957, -0.3201, -0.2896, -0.3971,  0.4039,  0.2022,  0.3430, -0.1469,\n",
            "          0.3500,  0.4122, -0.2188,  0.2845,  0.2419, -0.2884, -0.2234,  0.1378,\n",
            "         -0.4275, -0.0328, -0.0234, -0.2541, -0.3501, -0.6820,  0.2988,  0.2164,\n",
            "          0.0305,  0.0920, -0.2399,  0.0501,  0.5211,  0.0697,  0.1977, -0.3761,\n",
            "          0.4036, -0.6331, -0.2005, -0.1766,  0.1330, -0.0663, -0.2128, -0.1416,\n",
            "         -0.0018,  0.4099,  0.1369,  0.4842,  0.3089, -0.0198,  0.0978, -0.0340,\n",
            "         -0.1511,  0.2556, -0.3002,  0.0561,  0.6696,  0.2537,  0.1518,  0.0248]],\n",
            "       grad_fn=<MulBackward0>)\n",
            "cx for step 8 -  tensor([[ 0.9099, -0.1852, -0.1854,  0.7686, -0.1098, -1.0847,  0.8254, -0.1181,\n",
            "          0.2367, -0.5791, -0.9595, -0.5888,  0.7013,  0.2936,  0.4532, -0.2854,\n",
            "          0.5076,  0.9655, -0.4879,  0.7547,  0.4534, -0.5003, -0.4040,  0.2182,\n",
            "         -0.7312, -0.1644, -0.0835, -0.5810, -0.6529, -1.2420,  0.6572,  0.7235,\n",
            "          0.1661,  0.2019, -0.3526,  0.0889,  0.9918,  0.3172,  0.2786, -0.6714,\n",
            "          0.8333, -1.3816, -0.8233, -0.5657,  0.3130, -0.1701, -0.9121, -0.4605,\n",
            "         -0.0059,  0.7277,  0.2592,  1.0378,  0.6105, -0.0777,  0.1474, -0.1152,\n",
            "         -0.3178,  0.4396, -0.5712,  0.2187,  1.1720,  0.6674,  0.2831,  0.1219]],\n",
            "       grad_fn=<AddBackward0>)\n",
            "hx for step 9 -  tensor([[ 0.4674, -0.0619, -0.0259,  0.4182, -0.1356, -0.4262,  0.2895,  0.0662,\n",
            "          0.0990, -0.3785, -0.2229, -0.2574,  0.3458,  0.0823,  0.3700, -0.2194,\n",
            "          0.2155,  0.4080, -0.1523,  0.1961,  0.1628, -0.2952, -0.2745,  0.0727,\n",
            "         -0.4893, -0.0454, -0.0306, -0.1721, -0.3692, -0.7015,  0.2425,  0.1649,\n",
            "          0.0301,  0.0321, -0.1706, -0.0050,  0.5373,  0.0242,  0.2131, -0.3933,\n",
            "          0.4484, -0.6420, -0.1740, -0.1740,  0.1067, -0.0749, -0.1810, -0.1055,\n",
            "         -0.0038,  0.3181,  0.0941,  0.5322,  0.1906, -0.0028,  0.1147, -0.0183,\n",
            "         -0.1093,  0.2200, -0.2359,  0.0400,  0.7197,  0.2472,  0.1359,  0.0353]],\n",
            "       grad_fn=<MulBackward0>)\n",
            "cx for step 9 -  tensor([[ 0.9810, -0.1971, -0.1295,  1.0775, -0.2603, -1.1726,  0.9185,  0.1480,\n",
            "          0.2676, -0.7252, -0.8204, -0.4297,  0.6964,  0.1250,  0.5567, -0.4101,\n",
            "          0.3531,  1.1782, -0.3863,  0.5825,  0.3340, -0.5125, -0.5143,  0.1424,\n",
            "         -0.8495, -0.1957, -0.1083, -0.3946, -0.6600, -1.4311,  0.6453,  0.6126,\n",
            "          0.1567,  0.0846, -0.2870, -0.0100,  1.1170,  0.1226,  0.3107, -0.7742,\n",
            "          0.8674, -1.7057, -0.7831, -0.5385,  0.2434, -0.1866, -0.8810, -0.3672,\n",
            "         -0.0149,  0.5892,  0.1886,  1.1257,  0.3622, -0.0104,  0.1684, -0.0669,\n",
            "         -0.2609,  0.4499, -0.4655,  0.1502,  1.4637,  0.6893,  0.2816,  0.1447]],\n",
            "       grad_fn=<AddBackward0>)\n",
            "hx for step 10 -  tensor([[ 0.5632, -0.1001, -0.0525,  0.3472, -0.1249, -0.4227,  0.5103, -0.2882,\n",
            "          0.1979, -0.2335, -0.5882, -0.3504,  0.4105,  0.2837,  0.1855, -0.0437,\n",
            "          0.0902,  0.4090, -0.3476,  0.5417,  0.2387, -0.2532, -0.0409,  0.1237,\n",
            "         -0.2827,  0.1445, -0.0286, -0.3087, -0.5250, -0.5562,  0.4445,  0.7131,\n",
            "          0.0301,  0.0764, -0.0580,  0.3454,  0.5443,  0.3387,  0.2877, -0.1464,\n",
            "          0.4118, -0.7520, -0.4400, -0.4717,  0.1417, -0.0448, -0.5744, -0.2924,\n",
            "         -0.0253,  0.1713,  0.0948,  0.4330,  0.3663,  0.1102,  0.0321, -0.0551,\n",
            "         -0.3317,  0.1223, -0.3179,  0.2624,  0.4545,  0.4996,  0.3593,  0.0479]],\n",
            "       grad_fn=<MulBackward0>)\n",
            "cx for step 10 -  tensor([[ 0.9918, -0.1847, -0.2203,  0.4975, -0.3089, -1.3075,  1.0553, -0.4132,\n",
            "          0.4524, -0.5455, -1.1047, -0.6390,  1.0480,  0.5726,  0.2508, -0.0891,\n",
            "          0.2411,  1.0187, -0.7142,  0.9436,  0.5827, -0.6569, -0.2200,  0.2134,\n",
            "         -0.4585,  0.2844, -0.1152, -0.7798, -0.9586, -1.5593,  0.8481,  1.2455,\n",
            "          0.0947,  0.1531, -0.1457,  0.5352,  1.1789,  0.4543,  0.5267, -0.7404,\n",
            "          0.6585, -1.7816, -0.9715, -0.8431,  0.3407, -0.1821, -1.1128, -0.4114,\n",
            "         -0.1532,  0.8271,  0.1859,  0.8178,  0.7486,  0.2694,  0.0562, -0.1102,\n",
            "         -0.7164,  0.3081, -0.4413,  0.4598,  1.5806,  0.8019,  0.6172,  0.1548]],\n",
            "       grad_fn=<AddBackward0>)\n",
            "hx for step 11 -  tensor([[ 3.3086e-01,  5.4135e-02, -3.6618e-02,  1.0135e-01, -4.7607e-02,\n",
            "         -2.0252e-01,  1.3585e-01, -3.7222e-01,  2.7838e-02, -7.6359e-02,\n",
            "         -5.4768e-01, -4.1420e-01,  1.2087e-01,  8.9319e-02, -1.4791e-01,\n",
            "         -2.6707e-02,  7.5863e-02,  4.8843e-01, -1.2769e-02,  2.7591e-01,\n",
            "          1.1817e-01, -1.0389e-01,  9.2392e-04, -4.5545e-02, -1.2213e-01,\n",
            "          1.0392e-01, -9.1287e-02, -1.1789e-01, -2.6927e-01, -5.6331e-01,\n",
            "          2.9064e-01,  4.4548e-01,  4.5064e-02,  4.6411e-02, -6.3476e-02,\n",
            "          2.7781e-01,  3.7558e-01,  4.2575e-01,  6.2987e-01, -3.6553e-01,\n",
            "          2.1257e-01, -4.8549e-01, -1.8836e-01, -3.6569e-01,  2.0274e-01,\n",
            "         -1.0383e-01, -3.5435e-01, -3.5255e-02,  6.1029e-05,  9.3506e-02,\n",
            "          2.5495e-01,  2.1071e-01,  2.7691e-01, -9.7553e-02,  9.5117e-02,\n",
            "         -1.1128e-01, -8.9871e-02,  2.9908e-01, -1.8681e-01,  5.4584e-02,\n",
            "          1.8080e-01,  3.0806e-01,  2.4641e-01,  1.7373e-02]],\n",
            "       grad_fn=<MulBackward0>)\n",
            "cx for step 11 -  tensor([[ 7.3039e-01,  1.1097e-01, -2.7082e-01,  1.2536e-01, -8.2049e-02,\n",
            "         -8.8685e-01,  2.4977e-01, -6.5853e-01,  1.0446e-01, -4.5493e-01,\n",
            "         -1.3142e+00, -7.8367e-01,  6.6989e-01,  2.5456e-01, -1.8466e-01,\n",
            "         -4.8278e-02,  2.4265e-01,  8.9533e-01, -2.0609e-02,  8.5885e-01,\n",
            "          3.6410e-01, -7.6813e-01,  2.2810e-03, -9.3308e-02, -5.2092e-01,\n",
            "          3.2397e-01, -2.0204e-01, -3.5296e-01, -5.5007e-01, -1.2342e+00,\n",
            "          9.4094e-01,  1.2587e+00,  1.2668e-01,  1.1749e-01, -1.4238e-01,\n",
            "          7.0812e-01,  9.3609e-01,  7.0589e-01,  9.5181e-01, -7.5033e-01,\n",
            "          5.5868e-01, -1.5301e+00, -6.1569e-01, -8.5480e-01,  6.0418e-01,\n",
            "         -4.6989e-01, -1.1347e+00, -1.5388e-01,  9.2216e-05,  5.3789e-01,\n",
            "          4.2515e-01,  5.0672e-01,  6.0836e-01, -3.0424e-01,  3.1294e-01,\n",
            "         -1.6696e-01, -4.3405e-01,  4.9007e-01, -4.8911e-01,  2.7480e-01,\n",
            "          1.1402e+00,  9.6392e-01,  4.7743e-01,  1.5093e-01]],\n",
            "       grad_fn=<AddBackward0>)\n",
            "hx for step 12 -  tensor([[ 0.2845,  0.0349, -0.0142,  0.0924, -0.0656, -0.1192,  0.2107, -0.1850,\n",
            "          0.0084, -0.1419, -0.3953, -0.2501,  0.2887,  0.3002, -0.1247, -0.1231,\n",
            "         -0.0132,  0.1900,  0.0409,  0.2788,  0.0153, -0.1901, -0.0501, -0.1032,\n",
            "         -0.1463, -0.0440, -0.0086, -0.1717, -0.2385, -0.2679,  0.3442,  0.4538,\n",
            "          0.0408, -0.1232,  0.0136,  0.2458,  0.2893,  0.2933,  0.2043, -0.0022,\n",
            "         -0.0246, -0.5861, -0.0923, -0.3436,  0.0979,  0.1895, -0.2764,  0.0085,\n",
            "          0.0897,  0.1167,  0.0883,  0.1326,  0.0961, -0.0928,  0.1530,  0.1806,\n",
            "         -0.0460,  0.0399, -0.2628,  0.0496,  0.3192,  0.3298,  0.0594,  0.0565]],\n",
            "       grad_fn=<MulBackward0>)\n",
            "cx for step 12 -  tensor([[ 0.7689,  0.0568, -0.1009,  0.1304, -0.1419, -0.6830,  0.5686, -0.3097,\n",
            "          0.0224, -0.4318, -0.7780, -0.3953,  0.5815,  0.5020, -0.1905, -0.1518,\n",
            "         -0.0187,  0.6376,  0.0772,  0.7289,  0.0324, -0.4133, -0.1164, -0.1469,\n",
            "         -0.5284, -0.1118, -0.0165, -0.4322, -0.5847, -0.4140,  0.8074,  1.1247,\n",
            "          0.1404, -0.2593,  0.0312,  0.4820,  0.5605,  0.5810,  0.4441, -0.0043,\n",
            "         -0.0465, -1.3559, -0.2768, -0.6657,  0.3507,  0.3430, -0.5800,  0.0279,\n",
            "          0.1401,  0.2402,  0.1508,  0.2453,  0.1646, -0.2606,  0.2455,  0.3574,\n",
            "         -0.1208,  0.0841, -0.5335,  0.1981,  0.9568,  0.6306,  0.1165,  0.2005]],\n",
            "       grad_fn=<AddBackward0>)\n",
            "hx for step 13 -  tensor([[ 0.1010, -0.2128, -0.0277, -0.1791, -0.1052, -0.3552,  0.1886, -0.4476,\n",
            "         -0.0306, -0.0786, -0.1980, -0.3426,  0.0483,  0.2499, -0.5085,  0.0045,\n",
            "          0.2407,  0.2214, -0.1129,  0.3429,  0.1869, -0.1508, -0.1669,  0.1452,\n",
            "         -0.0209, -0.1084,  0.1343, -0.1969, -0.2110, -0.1778,  0.3072,  0.4522,\n",
            "          0.0426,  0.1945, -0.0961,  0.1950,  0.5097,  0.2930,  0.1764,  0.0110,\n",
            "         -0.1697, -0.5482, -0.2865, -0.3218,  0.1848,  0.1098, -0.3388, -0.0867,\n",
            "          0.1743,  0.4003,  0.1997,  0.1594,  0.2722, -0.0007, -0.0929, -0.0317,\n",
            "         -0.5258, -0.0515, -0.4659,  0.0515,  0.5793,  0.2333,  0.0835,  0.0055]],\n",
            "       grad_fn=<MulBackward0>)\n",
            "cx for step 13 -  tensor([[ 0.1850, -0.3192, -0.0778, -0.2246, -0.2056, -0.8799,  0.3673, -0.7555,\n",
            "         -0.0820, -0.1384, -0.4507, -0.6043,  0.1180,  0.5932, -0.6851,  0.0080,\n",
            "          0.3585,  0.5120, -0.1963,  0.7125,  0.3311, -0.2943, -0.2908,  0.1946,\n",
            "         -0.0519, -0.1765,  0.2712, -0.2917, -0.3894, -0.3226,  0.7463,  0.7239,\n",
            "          0.1324,  0.3011, -0.2556,  0.4576,  0.7884,  0.4554,  0.4047,  0.0236,\n",
            "         -0.3521, -1.1133, -0.4477, -0.6151,  0.3372,  0.2313, -0.6693, -0.1857,\n",
            "          0.3670,  0.6292,  0.4107,  0.3153,  0.4322, -0.0025, -0.2013, -0.0481,\n",
            "         -0.7076, -0.0790, -0.6781,  0.1943,  1.0406,  0.5147,  0.1434,  0.0098]],\n",
            "       grad_fn=<AddBackward0>)\n",
            "hx for step 14 -  tensor([[ 0.1723, -0.2843, -0.0303,  0.1732, -0.2146, -0.2009,  0.1799, -0.2723,\n",
            "         -0.1569, -0.1473, -0.3356, -0.3274,  0.3276,  0.3945, -0.5799, -0.0940,\n",
            "          0.3542,  0.1387, -0.3220,  0.2001,  0.1682, -0.0981, -0.0995,  0.0987,\n",
            "         -0.1731,  0.1378,  0.1022, -0.2961, -0.1693, -0.1093,  0.2645,  0.4166,\n",
            "         -0.0012,  0.1813,  0.0504,  0.1260,  0.0029,  0.0059,  0.0453, -0.1430,\n",
            "          0.0687, -0.6859, -0.1981, -0.2028,  0.0332,  0.1098, -0.3081, -0.0633,\n",
            "          0.0831,  0.3615, -0.1727,  0.1692, -0.0588,  0.1534,  0.0496, -0.0704,\n",
            "         -0.2893,  0.0656, -0.3394,  0.1807,  0.3037,  0.1949, -0.0357, -0.0135]],\n",
            "       grad_fn=<MulBackward0>)\n",
            "cx for step 14 -  tensor([[ 0.4079, -0.5041, -0.1645,  0.2012, -0.3685, -0.4449,  0.4620, -0.3668,\n",
            "         -0.2151, -0.2909, -0.7628, -0.5173,  0.5032,  0.7785, -0.7580, -0.1105,\n",
            "          0.4636,  0.2465, -0.4860,  0.3163,  0.6997, -0.2786, -0.1843,  0.1904,\n",
            "         -0.3143,  0.2047,  0.1950, -0.6240, -0.4141, -0.1684,  0.5469,  0.7347,\n",
            "         -0.0091,  0.3833,  0.0924,  0.1718,  0.0044,  0.0089,  0.0703, -0.3279,\n",
            "          0.1331, -1.3964, -0.6087, -0.6043,  0.0734,  0.3705, -0.7238, -0.1427,\n",
            "          0.2417,  0.7779, -0.3022,  0.2751, -0.0838,  0.3814,  0.0844, -0.1485,\n",
            "         -0.5859,  0.1114, -0.6803,  0.3843,  0.6078,  0.4417, -0.0597, -0.0280]],\n",
            "       grad_fn=<AddBackward0>)\n",
            "hx for step 15 -  tensor([[ 0.3700, -0.0545, -0.1061, -0.0458, -0.2291, -0.0747,  0.0316, -0.2564,\n",
            "          0.1525, -0.2235, -0.1058, -0.2224,  0.1598,  0.0878, -0.4683,  0.2602,\n",
            "          0.0608, -0.0170, -0.1548,  0.0524,  0.1233, -0.1674, -0.2715, -0.1554,\n",
            "         -0.0149,  0.0784,  0.0233, -0.2069, -0.1253,  0.1125,  0.2079,  0.0692,\n",
            "          0.0318,  0.2340, -0.0116,  0.1681,  0.1366, -0.1024,  0.1879, -0.2352,\n",
            "          0.0592, -0.6101, -0.0811, -0.1020, -0.0536,  0.2271, -0.2445, -0.0564,\n",
            "         -0.0904,  0.3297,  0.1444, -0.1616, -0.2266,  0.0673, -0.1037, -0.1460,\n",
            "         -0.1047,  0.0315, -0.3057,  0.0959,  0.0763,  0.2670,  0.0733,  0.0106]],\n",
            "       grad_fn=<MulBackward0>)\n",
            "cx for step 15 -  tensor([[ 0.7882, -0.1003, -0.2453, -0.0766, -0.3676, -0.2146,  0.1260, -0.3524,\n",
            "          0.3021, -0.3345, -0.6635, -0.6868,  0.3865,  0.2138, -0.7695,  0.5084,\n",
            "          0.0886, -0.0752, -0.4431,  0.1057,  0.3923, -0.3301, -0.3942, -0.2926,\n",
            "         -0.0196,  0.2821,  0.0467, -0.5688, -0.2452,  0.2490,  0.4817,  0.2099,\n",
            "          0.1459,  0.4813, -0.0290,  0.3625,  0.2175, -0.2801,  0.5167, -0.4461,\n",
            "          0.1357, -1.5495, -0.5847, -0.4677, -0.1567,  0.3534, -0.6763, -0.2251,\n",
            "         -0.2420,  0.6288,  0.3014, -0.2442, -0.4051,  0.2396, -0.1753, -0.4701,\n",
            "         -0.5248,  0.0808, -0.5833,  0.3565,  0.4259,  0.6252,  0.1658,  0.0421]],\n",
            "       grad_fn=<AddBackward0>)\n",
            "hx for step 16 -  tensor([[ 0.2878,  0.0850, -0.0634, -0.5048,  0.1352,  0.1277,  0.2473, -0.3068,\n",
            "          0.1551, -0.2999, -0.4446, -0.4249, -0.0562,  0.0238, -0.6073,  0.0504,\n",
            "         -0.1090,  0.2380, -0.2461,  0.1759,  0.1366,  0.0769, -0.0864, -0.0231,\n",
            "          0.4139,  0.0665, -0.1581, -0.1136,  0.1019,  0.0186,  0.2965,  0.2293,\n",
            "         -0.2322,  0.3213, -0.3422,  0.2437,  0.3607,  0.1422, -0.0303, -0.3882,\n",
            "          0.3629, -0.7464, -0.2503, -0.2204, -0.2654, -0.0277, -0.5163, -0.3222,\n",
            "         -0.2005, -0.0218,  0.1265,  0.2589,  0.0418, -0.0464,  0.0236, -0.4679,\n",
            "         -0.2691,  0.2112, -0.3441,  0.0840,  0.4995,  0.2978,  0.2158, -0.0277]],\n",
            "       grad_fn=<MulBackward0>)\n",
            "cx for step 16 -  tensor([[ 0.5368,  0.1622, -0.0875, -0.8958,  0.1699,  0.1770,  0.3698, -0.7956,\n",
            "          0.2394, -0.6188, -0.8244, -0.8592, -0.0881,  0.1100, -1.0374,  0.1528,\n",
            "         -0.2881,  0.4935, -0.3055,  0.3328,  0.2381,  0.1995, -0.1098, -0.0381,\n",
            "          0.6164,  0.3432, -0.2424, -0.2968,  0.1490,  0.0483,  0.5780,  0.4282,\n",
            "         -0.3306,  0.4923, -0.5515,  0.5373,  0.4872,  0.2623, -0.0409, -0.5310,\n",
            "          0.5020, -1.6420, -0.5250, -0.7410, -0.4435, -0.0762, -1.0945, -0.7436,\n",
            "         -0.3988, -0.0406,  0.1636,  0.4678,  0.2099, -0.0971,  0.0465, -0.8719,\n",
            "         -0.4512,  0.3674, -0.6391,  0.1909,  0.9304,  0.7723,  0.2504, -0.1066]],\n",
            "       grad_fn=<AddBackward0>)\n",
            "hx for step 17 -  tensor([[ 0.3589,  0.2772, -0.0445, -0.6720, -0.0014, -0.2024,  0.1336, -0.4053,\n",
            "          0.1241, -0.1761, -0.3892, -0.7087,  0.3264,  0.2388, -0.4748,  0.0577,\n",
            "         -0.0565,  0.3711, -0.4040,  0.4349,  0.3522, -0.1391, -0.0015,  0.2285,\n",
            "         -0.0125,  0.0206,  0.0207, -0.3628, -0.1298, -0.3442,  0.4309,  0.5874,\n",
            "          0.0139,  0.2054, -0.2863,  0.3183,  0.1403,  0.4160, -0.0801, -0.1775,\n",
            "          0.1394, -0.5058, -0.2162, -0.3323, -0.0873, -0.0508, -0.6136, -0.5098,\n",
            "         -0.0713,  0.1499,  0.1161,  0.1335,  0.3346,  0.0016,  0.0194, -0.2281,\n",
            "         -0.4490,  0.3229, -0.4737,  0.0932,  0.5365,  0.1560,  0.1534, -0.0196]],\n",
            "       grad_fn=<MulBackward0>)\n",
            "cx for step 17 -  tensor([[ 0.5705,  0.3902, -0.1716, -1.0326, -0.0041, -0.3992,  0.3057, -0.6839,\n",
            "          0.2621, -0.6512, -0.5939, -1.1690,  0.4322,  0.3643, -0.6841,  0.1164,\n",
            "         -0.1118,  0.7470, -0.4988,  0.6491,  0.5257, -0.3040, -0.0073,  0.3169,\n",
            "         -0.0263,  0.0520,  0.0518, -0.8011, -0.2068, -0.5752,  0.7729,  0.8842,\n",
            "          0.0305,  0.3399, -0.4484,  0.5584,  0.2594,  0.6745, -0.1170, -0.3985,\n",
            "          0.3267, -1.1906, -0.4285, -0.7803, -0.1847, -0.2398, -1.1995, -0.7727,\n",
            "         -0.1758,  0.2682,  0.1818,  0.4605,  0.6652,  0.0035,  0.0313, -0.3239,\n",
            "         -0.7538,  0.5374, -0.8133,  0.2596,  0.9769,  0.3560,  0.2155, -0.0613]],\n",
            "       grad_fn=<AddBackward0>)\n",
            "hx for step 18 -  tensor([[ 0.4096, -0.0086, -0.0241,  0.2874, -0.0538, -0.3519,  0.2249, -0.0877,\n",
            "          0.1708, -0.4318, -0.2267, -0.5679,  0.4200,  0.1783,  0.3329, -0.1453,\n",
            "         -0.0296,  0.5108, -0.1793,  0.3033,  0.3137, -0.2387, -0.1785,  0.2653,\n",
            "         -0.2223, -0.0182, -0.0136, -0.2584, -0.2643, -0.5597,  0.3888,  0.2729,\n",
            "          0.0288,  0.1329, -0.3043,  0.1357,  0.4199,  0.1073, -0.0868, -0.3633,\n",
            "          0.2418, -0.6708, -0.1689, -0.1868, -0.0024, -0.0742, -0.2830, -0.2117,\n",
            "         -0.0253,  0.2800,  0.1382,  0.3811,  0.2198,  0.0014,  0.0441, -0.1033,\n",
            "         -0.2107,  0.3428, -0.3257,  0.0324,  0.7533,  0.2236,  0.0940,  0.0099]],\n",
            "       grad_fn=<MulBackward0>)\n",
            "cx for step 18 -  tensor([[ 0.7476, -0.0153, -0.1066,  0.4768, -0.1324, -0.6838,  0.6080, -0.1575,\n",
            "          0.3694, -0.8078, -0.6309, -0.8344,  0.6353,  0.2407,  0.4045, -0.3246,\n",
            "         -0.0373,  1.1303, -0.3638,  0.6443,  0.5370, -0.3934, -0.2996,  0.4049,\n",
            "         -0.3198, -0.0959, -0.0420, -0.5698, -0.4493, -0.8687,  0.7892,  0.8382,\n",
            "          0.1460,  0.2431, -0.4135,  0.2145,  0.7641,  0.3835, -0.1237, -0.5943,\n",
            "          0.5597, -1.6729, -0.5857, -0.5575, -0.0053, -0.1934, -1.1065, -0.6602,\n",
            "         -0.0824,  0.4072,  0.2363,  0.7257,  0.4082,  0.0050,  0.0649, -0.2921,\n",
            "         -0.4072,  0.5582, -0.5868,  0.1233,  1.4654,  0.6149,  0.1612,  0.0434]],\n",
            "       grad_fn=<AddBackward0>)\n",
            "final staked output from LSTM Cell-  tensor([[[ 0.0120, -0.0209,  0.0071,  ...,  0.3926,  0.4646, -0.1587]],\n",
            "\n",
            "        [[ 0.1062, -0.0402,  0.0229,  ...,  0.2308,  0.2140, -0.0086]],\n",
            "\n",
            "        [[ 0.1849, -0.0439,  0.0110,  ...,  0.2005,  0.1521,  0.0433]],\n",
            "\n",
            "        ...,\n",
            "\n",
            "        [[ 0.2878,  0.0850, -0.0634,  ...,  0.2978,  0.2158, -0.0277]],\n",
            "\n",
            "        [[ 0.3589,  0.2772, -0.0445,  ...,  0.1560,  0.1534, -0.0196]],\n",
            "\n",
            "        [[ 0.4096, -0.0086, -0.0241,  ...,  0.2236,  0.0940,  0.0099]]],\n",
            "       grad_fn=<StackBackward>)\n"
          ],
          "name": "stdout"
        },
        {
          "output_type": "display_data",
          "data": {
            "text/markdown": "***Sentence :***RT @WhatTheFFacts: In his teen years, Obama has been known to use marijuana and cocaine.",
            "text/plain": [
              "<IPython.core.display.Markdown object>"
            ]
          },
          "metadata": {
            "tags": []
          }
        },
        {
          "output_type": "display_data",
          "data": {
            "text/markdown": "***Actual Label :***Negative",
            "text/plain": [
              "<IPython.core.display.Markdown object>"
            ]
          },
          "metadata": {
            "tags": []
          }
        },
        {
          "output_type": "display_data",
          "data": {
            "text/markdown": "***Predicted Label :***Negative",
            "text/plain": [
              "<IPython.core.display.Markdown object>"
            ]
          },
          "metadata": {
            "tags": []
          }
        }
      ]
    },
    {
      "cell_type": "code",
      "metadata": {
        "colab": {
          "base_uri": "https://localhost:8080/",
          "height": 92
        },
        "id": "tPcxTOZgf69o",
        "outputId": "54d3c569-e5d9-40ca-aee5-418b303f4408"
      },
      "source": [
        "sentence = test['tweets'].iloc[100]\n",
        "label = test['labels'].iloc[100]\n",
        "test_model(sentence, False)\n",
        "\n",
        "display(Markdown ('***Sentence :***' + f'{sentence}'))\n",
        "display(Markdown ('***Actual Label :***' + f'{[\"Negative\", \"Neutral\", \"Positive\"][label]}'))\n",
        "display(Markdown ('***Predicted Label :***' + f'{predict}'))"
      ],
      "execution_count": 38,
      "outputs": [
        {
          "output_type": "display_data",
          "data": {
            "text/markdown": "***Sentence :***http://t.co/oLxGUJE0 Whats with Obama and his pitching, looks like a girl!",
            "text/plain": [
              "<IPython.core.display.Markdown object>"
            ]
          },
          "metadata": {
            "tags": []
          }
        },
        {
          "output_type": "display_data",
          "data": {
            "text/markdown": "***Actual Label :***Negative",
            "text/plain": [
              "<IPython.core.display.Markdown object>"
            ]
          },
          "metadata": {
            "tags": []
          }
        },
        {
          "output_type": "display_data",
          "data": {
            "text/markdown": "***Predicted Label :***Negative",
            "text/plain": [
              "<IPython.core.display.Markdown object>"
            ]
          },
          "metadata": {
            "tags": []
          }
        }
      ]
    },
    {
      "cell_type": "code",
      "metadata": {
        "colab": {
          "base_uri": "https://localhost:8080/",
          "height": 92
        },
        "id": "_OLt3dCdoV8t",
        "outputId": "65870b14-30f7-44c2-ee6a-b3a96627dede"
      },
      "source": [
        "sentence = test['tweets'].iloc[4]\n",
        "label = test['labels'].iloc[4]\n",
        "test_model(sentence, False)\n",
        "\n",
        "display(Markdown ('***Sentence :***' + f'{sentence}'))\n",
        "display(Markdown ('***Actual Label :***' + f'{[\"Negative\", \"Neutral\", \"Positive\"][label]}'))\n",
        "display(Markdown ('***Predicted Label :***' + f'{predict}'))"
      ],
      "execution_count": 47,
      "outputs": [
        {
          "output_type": "display_data",
          "data": {
            "text/markdown": "***Sentence :***@geoff9cow Right! Of course! It's ALWAYS someone else's fault when it comes to Obama!",
            "text/plain": [
              "<IPython.core.display.Markdown object>"
            ]
          },
          "metadata": {
            "tags": []
          }
        },
        {
          "output_type": "display_data",
          "data": {
            "text/markdown": "***Actual Label :***Neutral",
            "text/plain": [
              "<IPython.core.display.Markdown object>"
            ]
          },
          "metadata": {
            "tags": []
          }
        },
        {
          "output_type": "display_data",
          "data": {
            "text/markdown": "***Predicted Label :***Negative",
            "text/plain": [
              "<IPython.core.display.Markdown object>"
            ]
          },
          "metadata": {
            "tags": []
          }
        }
      ]
    },
    {
      "cell_type": "code",
      "metadata": {
        "colab": {
          "base_uri": "https://localhost:8080/",
          "height": 92
        },
        "id": "HT3E-7Pkoq-V",
        "outputId": "c47de9f0-9fcd-41c0-c77a-9873677b62f9"
      },
      "source": [
        "sentence = test['tweets'].iloc[48]\n",
        "label = test['labels'].iloc[48]\n",
        "test_model(sentence, False)\n",
        "\n",
        "display(Markdown ('***Sentence :***' + f'{sentence}'))\n",
        "display(Markdown ('***Actual Label :***' + f'{[\"Negative\", \"Neutral\", \"Positive\"][label]}'))\n",
        "display(Markdown ('***Predicted Label :***' + f'{predict}'))"
      ],
      "execution_count": 49,
      "outputs": [
        {
          "output_type": "display_data",
          "data": {
            "text/markdown": "***Sentence :***RT @Habibaty_Souria: I don't even believe there is any good in humanity anymore. ",
            "text/plain": [
              "<IPython.core.display.Markdown object>"
            ]
          },
          "metadata": {
            "tags": []
          }
        },
        {
          "output_type": "display_data",
          "data": {
            "text/markdown": "***Actual Label :***Positive",
            "text/plain": [
              "<IPython.core.display.Markdown object>"
            ]
          },
          "metadata": {
            "tags": []
          }
        },
        {
          "output_type": "display_data",
          "data": {
            "text/markdown": "***Predicted Label :***Negative",
            "text/plain": [
              "<IPython.core.display.Markdown object>"
            ]
          },
          "metadata": {
            "tags": []
          }
        }
      ]
    },
    {
      "cell_type": "code",
      "metadata": {
        "id": "CLia0ICYpQrg"
      },
      "source": [
        ""
      ],
      "execution_count": null,
      "outputs": []
    }
  ]
}