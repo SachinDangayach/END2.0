{
  "nbformat": 4,
  "nbformat_minor": 0,
  "metadata": {
    "colab": {
      "name": "Session6.ipynb",
      "provenance": [],
      "collapsed_sections": []
    },
    "kernelspec": {
      "name": "python3",
      "display_name": "Python 3"
    },
    "language_info": {
      "name": "python"
    },
    "accelerator": "GPU"
  },
  "cells": [
    {
      "cell_type": "code",
      "metadata": {
        "id": "2_6TKwDda4I2"
      },
      "source": [
        "import torch\n",
        "import torch.nn as nn\n",
        "import torch.optim as optim\n",
        "\n",
        "import torchtext.legacy\n",
        "from torchtext import datasets\n",
        "\n",
        "from torch.utils.tensorboard import SummaryWriter\n",
        "\n",
        "import re\n",
        "import pandas as pd\n",
        "import numpy as np\n",
        "\n",
        "import seaborn as sns\n",
        "from matplotlib import pyplot as plt\n",
        "\n",
        "\n",
        "import spacy\n",
        "\n",
        "import random\n",
        "import os, pickle\n",
        "\n",
        "from sklearn.model_selection import train_test_split\n",
        "from sklearn.metrics import  accuracy_score"
      ],
      "execution_count": null,
      "outputs": []
    },
    {
      "cell_type": "markdown",
      "metadata": {
        "id": "W61b3a_C3X4q"
      },
      "source": [
        "## Load Tweets Dataset"
      ]
    },
    {
      "cell_type": "code",
      "metadata": {
        "id": "K_h-bSX5bl72"
      },
      "source": [
        "tweets = pd.read_csv('/content/session6/tweets.csv', encoding = 'latin-1')"
      ],
      "execution_count": null,
      "outputs": []
    },
    {
      "cell_type": "code",
      "metadata": {
        "colab": {
          "base_uri": "https://localhost:8080/",
          "height": 204
        },
        "id": "p9NKyAkH30bm",
        "outputId": "9d855da5-967c-4573-a99b-949aa447c89a"
      },
      "source": [
        "tweets.head()"
      ],
      "execution_count": null,
      "outputs": [
        {
          "output_type": "execute_result",
          "data": {
            "text/html": [
              "<div>\n",
              "<style scoped>\n",
              "    .dataframe tbody tr th:only-of-type {\n",
              "        vertical-align: middle;\n",
              "    }\n",
              "\n",
              "    .dataframe tbody tr th {\n",
              "        vertical-align: top;\n",
              "    }\n",
              "\n",
              "    .dataframe thead th {\n",
              "        text-align: right;\n",
              "    }\n",
              "</style>\n",
              "<table border=\"1\" class=\"dataframe\">\n",
              "  <thead>\n",
              "    <tr style=\"text-align: right;\">\n",
              "      <th></th>\n",
              "      <th>tweets</th>\n",
              "      <th>labels</th>\n",
              "    </tr>\n",
              "  </thead>\n",
              "  <tbody>\n",
              "    <tr>\n",
              "      <th>0</th>\n",
              "      <td>Obama has called the GOP budget social Darwini...</td>\n",
              "      <td>1</td>\n",
              "    </tr>\n",
              "    <tr>\n",
              "      <th>1</th>\n",
              "      <td>In his teen years, Obama has been known to use...</td>\n",
              "      <td>0</td>\n",
              "    </tr>\n",
              "    <tr>\n",
              "      <th>2</th>\n",
              "      <td>IPA Congratulates President Barack Obama for L...</td>\n",
              "      <td>0</td>\n",
              "    </tr>\n",
              "    <tr>\n",
              "      <th>3</th>\n",
              "      <td>RT @Professor_Why: #WhatsRomneyHiding - his co...</td>\n",
              "      <td>0</td>\n",
              "    </tr>\n",
              "    <tr>\n",
              "      <th>4</th>\n",
              "      <td>RT @wardollarshome: Obama has approved more ta...</td>\n",
              "      <td>1</td>\n",
              "    </tr>\n",
              "  </tbody>\n",
              "</table>\n",
              "</div>"
            ],
            "text/plain": [
              "                                              tweets  labels\n",
              "0  Obama has called the GOP budget social Darwini...       1\n",
              "1  In his teen years, Obama has been known to use...       0\n",
              "2  IPA Congratulates President Barack Obama for L...       0\n",
              "3  RT @Professor_Why: #WhatsRomneyHiding - his co...       0\n",
              "4  RT @wardollarshome: Obama has approved more ta...       1"
            ]
          },
          "metadata": {
            "tags": []
          },
          "execution_count": 3
        }
      ]
    },
    {
      "cell_type": "code",
      "metadata": {
        "colab": {
          "base_uri": "https://localhost:8080/"
        },
        "id": "q7YaRkEy37nE",
        "outputId": "873a3796-2be6-446f-d093-e6dbb5e9d8bb"
      },
      "source": [
        "tweets.labels.value_counts()"
      ],
      "execution_count": null,
      "outputs": [
        {
          "output_type": "execute_result",
          "data": {
            "text/plain": [
              "0    931\n",
              "1    352\n",
              "2     81\n",
              "Name: labels, dtype: int64"
            ]
          },
          "metadata": {
            "tags": []
          },
          "execution_count": 4
        }
      ]
    },
    {
      "cell_type": "code",
      "metadata": {
        "colab": {
          "base_uri": "https://localhost:8080/",
          "height": 405
        },
        "id": "z-emPO3V4FXp",
        "outputId": "4ef24b9f-dfbe-4709-9fad-85d1dc440a12"
      },
      "source": [
        "fig = plt.figure(figsize=(8,6))\n",
        "\n",
        "ax = sns.barplot(x=tweets['labels'].unique(), y=tweets['labels'].value_counts())\n",
        "\n",
        "ax.set(xlabel = 'Labels')"
      ],
      "execution_count": null,
      "outputs": [
        {
          "output_type": "execute_result",
          "data": {
            "text/plain": [
              "[Text(0.5, 0, 'Labels')]"
            ]
          },
          "metadata": {
            "tags": []
          },
          "execution_count": 5
        },
        {
          "output_type": "display_data",
          "data": {
            "image/png": "[encoded data removed]",
            "text/plain": [
              "<Figure size 576x432 with 1 Axes>"
            ]
          },
          "metadata": {
            "tags": [],
            "needs_background": "light"
          }
        }
      ]
    },
    {
      "cell_type": "markdown",
      "metadata": {
        "id": "oZMo9Tak4rnQ"
      },
      "source": [
        "### Data is imbalanced and should be made balanced"
      ]
    },
    {
      "cell_type": "markdown",
      "metadata": {
        "id": "kEh_lIaj5S5V"
      },
      "source": [
        "## Data cleanup, Train Test Split and prepare Vocab"
      ]
    },
    {
      "cell_type": "code",
      "metadata": {
        "id": "R4rhlk4V4Z5a"
      },
      "source": [
        "train, test = train_test_split(tweets, test_size= .3, random_state= 42)"
      ],
      "execution_count": null,
      "outputs": []
    },
    {
      "cell_type": "code",
      "metadata": {
        "colab": {
          "base_uri": "https://localhost:8080/"
        },
        "id": "n9kXuqgc5_h1",
        "outputId": "fd18a226-87d3-42fd-8234-e0d399c77ad3"
      },
      "source": [
        "train.reset_index(drop=True), test.reset_index(drop=True)"
      ],
      "execution_count": null,
      "outputs": [
        {
          "output_type": "execute_result",
          "data": {
            "text/plain": [
              "(                                                tweets  labels\n",
              " 0    RT @markknoller: Saul says Pres Obama \"will do...       1\n",
              " 1    RT @Drudge_Report: Obama setting up Supreme Co...       1\n",
              " 2    @sweetbay That was Paul Ryan's budget. How did...       1\n",
              " 3    RT @GEsfandiari: \"Obama signaled US would acce...       1\n",
              " 4                  RT @anna12061: Another Obama Buddy!       0\n",
              " ..                                                 ...     ...\n",
              " 949  #WhatsRomneyHiding Obama released his tax retu...       0\n",
              " 950                #KimKardashiansNextBoyFriend Obama!       0\n",
              " 951  RT @larryeldershow: Spike Lee said he dislikes...       0\n",
              " 952  RT @pourmecoffee: White House Easter Egg Roll ...       1\n",
              " 953  #WhatsRomneyHiding His relationship with Vera ...       0\n",
              " \n",
              " [954 rows x 2 columns],\n",
              "                                                 tweets  labels\n",
              " 0    RT @ohgirlphrase: American kid \"You're from th...       0\n",
              " 1    Examiner Editorial: Obama's budget, not Ryan's...       0\n",
              " 2    Obama on Constitutional Law: Did He Lie or Is ...       0\n",
              " 3    Amid Trayvon Martin case, Obama hosts screenin...       0\n",
              " 4    @geoff9cow Right! Of course! It's ALWAYS someo...       1\n",
              " ..                                                 ...     ...\n",
              " 405  RT @CatoInstitute: NEW Podcast:  Obama's Vanis...       0\n",
              " 406  @TPO_Hisself @barackobama people laugh but don...       0\n",
              " 407  62% of U.S. Jews would reelect Obama, 4% say I...       1\n",
              " 408  Obama dings men-only Masters host @ http://t.c...       1\n",
              " 409  Good luck getting to class Tuesday when obama ...       2\n",
              " \n",
              " [410 rows x 2 columns])"
            ]
          },
          "metadata": {
            "tags": []
          },
          "execution_count": 7
        }
      ]
    },
    {
      "cell_type": "code",
      "metadata": {
        "id": "o5rd2SCA6DEQ"
      },
      "source": [
        "def tweet_clean(text):\n",
        "  text = re.sub(r'[^A-Za-z0-9_-]+', ' ', text)\n",
        "  text = re.sub(r'https?:/\\/\\S+', ' ', text)\n",
        "\n",
        "  return(text.strip())"
      ],
      "execution_count": null,
      "outputs": []
    },
    {
      "cell_type": "code",
      "metadata": {
        "id": "B229e9kg6Phg"
      },
      "source": [
        "nlp = spacy.load('en', disable = ['parser', 'tagger', 'ner'])\n",
        "def tokenizer(s):\n",
        "  return [w.text.lower() for w in nlp(tweet_clean(s))]"
      ],
      "execution_count": null,
      "outputs": []
    },
    {
      "cell_type": "code",
      "metadata": {
        "id": "DTH0Kpyr6QTK"
      },
      "source": [
        "TEXT = torchtext.legacy.data.Field(tokenize=tokenizer, lower=True, init_token= '<sos>', eos_token= '<eos>')\n",
        "\n",
        "LABEL = torchtext.legacy.data.LabelField(tokenize = tokenizer)\n",
        "\n",
        "# english = torchtext.legacy.data.Field(tokenize=tokenizer_end, lower=True, init_token= '<sos>', eos_token= '<eos>')"
      ],
      "execution_count": null,
      "outputs": []
    },
    {
      "cell_type": "code",
      "metadata": {
        "id": "t8no00lr7ob7"
      },
      "source": [
        "datafields = [('tweets', TEXT), ('labels', LABEL)]"
      ],
      "execution_count": null,
      "outputs": []
    },
    {
      "cell_type": "markdown",
      "metadata": {
        "id": "CFIqIxNm9UT1"
      },
      "source": [
        "### Split and save datasets"
      ]
    },
    {
      "cell_type": "code",
      "metadata": {
        "id": "-q23JJQ49aFy"
      },
      "source": [
        "train.to_csv('session6/train.csv', index=False)\n",
        "test.to_csv('session6/test.csv', index=False)"
      ],
      "execution_count": null,
      "outputs": []
    },
    {
      "cell_type": "code",
      "metadata": {
        "id": "vXBOBV9W8agI"
      },
      "source": [
        "trn, tst = torchtext.legacy.data.TabularDataset.splits(path='/content/session6',\n",
        "                                                       train = 'train.csv',\n",
        "                                                       test = 'test.csv',\n",
        "                                                       format = 'csv',\n",
        "                                                       skip_header = True,\n",
        "                                                       fields = datafields\n",
        "                                                       )"
      ],
      "execution_count": null,
      "outputs": []
    },
    {
      "cell_type": "code",
      "metadata": {
        "colab": {
          "base_uri": "https://localhost:8080/"
        },
        "id": "-UfOlwAC8wrk",
        "outputId": "4334e7ca-450c-46cd-dcdf-29742e43e016"
      },
      "source": [
        "print(f'Number of training examples: {len(trn)}')\n",
        "print(f'Number of testing examples: {len(tst)}')"
      ],
      "execution_count": null,
      "outputs": [
        {
          "output_type": "stream",
          "text": [
            "Number of training examples: 954\n",
            "Number of testing examples: 410\n"
          ],
          "name": "stdout"
        }
      ]
    },
    {
      "cell_type": "code",
      "metadata": {
        "colab": {
          "base_uri": "https://localhost:8080/"
        },
        "id": "TmrPFX1T8x16",
        "outputId": "66415617-20a9-4dfa-a78c-d942abb6a485"
      },
      "source": [
        "vars(trn.examples[0])"
      ],
      "execution_count": null,
      "outputs": [
        {
          "output_type": "execute_result",
          "data": {
            "text/plain": [
              "{'labels': '1',\n",
              " 'tweets': ['rt',\n",
              "  'markknoller',\n",
              "  'saul',\n",
              "  'says',\n",
              "  'pres',\n",
              "  'obama',\n",
              "  'will',\n",
              "  'do',\n",
              "  'anything',\n",
              "  'to',\n",
              "  'distract',\n",
              "  'americans',\n",
              "  'from',\n",
              "  'his',\n",
              "  'failed',\n",
              "  'economic',\n",
              "  'record',\n",
              "  'incl',\n",
              "  'unemployment',\n",
              "  'higher',\n",
              "  'gas',\n",
              "  'prices']}"
            ]
          },
          "metadata": {
            "tags": []
          },
          "execution_count": 15
        }
      ]
    },
    {
      "cell_type": "code",
      "metadata": {
        "id": "mXNLd8gA-gjH"
      },
      "source": [
        "TEXT.build_vocab(trn, max_size = 10000,\n",
        "                #  vectors = \"glove.6B.100d\",\n",
        "                min_freq = 2 \n",
        "                )\n",
        "\n",
        "LABEL.build_vocab(trn) "
      ],
      "execution_count": null,
      "outputs": []
    },
    {
      "cell_type": "code",
      "metadata": {
        "colab": {
          "base_uri": "https://localhost:8080/"
        },
        "id": "nZ2QVJDc_Mfn",
        "outputId": "5115d13c-eb45-4abd-bf17-290e088635e3"
      },
      "source": [
        "print(TEXT.vocab.freqs.most_common(50))"
      ],
      "execution_count": null,
      "outputs": [
        {
          "output_type": "stream",
          "text": [
            "[('obama', 955), ('the', 485), ('rt', 433), ('t', 386), ('to', 343), ('co', 331), ('http', 329), ('s', 269), ('you', 247), ('a', 230), ('of', 214), ('is', 201), ('with', 178), ('in', 171), ('do', 155), ('-', 155), ('that', 150), ('on', 143), ('i', 141), ('and', 139), ('he', 137), ('for', 129), ('kid', 125), ('whatsromneyhiding', 122), ('his', 115), ('so', 112), ('like', 108), ('from', 102), ('romney', 92), ('president', 88), ('have', 88), ('it', 83), ('go', 80), ('re', 73), ('not', 72), ('has', 70), ('at', 70), ('american', 68), ('cool', 66), ('can', 63), ('we', 63), ('uk', 62), ('ohhh', 62), ('tea', 62), ('queen', 62), ('british', 62), ('mcdonalds', 62), ('gop', 61), ('edshow', 60), ('ohgirlphrase', 58)]\n"
          ],
          "name": "stdout"
        }
      ]
    },
    {
      "cell_type": "code",
      "metadata": {
        "colab": {
          "base_uri": "https://localhost:8080/"
        },
        "id": "eRLpAAJs_PJ9",
        "outputId": "39e5fcd3-441f-406f-aec8-dd58c7348e0c"
      },
      "source": [
        "print(TEXT.vocab.itos[:10])"
      ],
      "execution_count": null,
      "outputs": [
        {
          "output_type": "stream",
          "text": [
            "['<unk>', '<pad>', '<sos>', '<eos>', 'obama', 'the', 'rt', 't', 'to', 'co']\n"
          ],
          "name": "stdout"
        }
      ]
    },
    {
      "cell_type": "code",
      "metadata": {
        "colab": {
          "base_uri": "https://localhost:8080/"
        },
        "id": "o7zPd8IR_zSt",
        "outputId": "75938e3a-4faf-46cc-b4a5-3ebdfb493b3d"
      },
      "source": [
        "print(LABEL.vocab.itos)"
      ],
      "execution_count": null,
      "outputs": [
        {
          "output_type": "stream",
          "text": [
            "['0', '1', '2']\n"
          ],
          "name": "stdout"
        }
      ]
    },
    {
      "cell_type": "code",
      "metadata": {
        "colab": {
          "base_uri": "https://localhost:8080/"
        },
        "id": "DCXADYJj_Y0p",
        "outputId": "9859d0be-ca39-484f-e1d0-c34bf899ce03"
      },
      "source": [
        "print(LABEL.vocab.stoi)"
      ],
      "execution_count": null,
      "outputs": [
        {
          "output_type": "stream",
          "text": [
            "defaultdict(None, {'0': 0, '1': 1, '2': 2})\n"
          ],
          "name": "stdout"
        }
      ]
    },
    {
      "cell_type": "markdown",
      "metadata": {
        "id": "Othsv5nI_5Wz"
      },
      "source": [
        "## Build Model class"
      ]
    },
    {
      "cell_type": "code",
      "metadata": {
        "id": "M68tAxxo_ck7"
      },
      "source": [
        "class Encoder(nn.Module):\n",
        "  def __init__(self, input_size, embedding_size, hidden_size):\n",
        "    super(Encoder, self).__init__()\n",
        "\n",
        "    self.embedding = nn.Embedding(input_size, embedding_size)\n",
        "    self.rnn = nn.LSTM(embedding_size, hidden_size)\n",
        "\n",
        "  def forward(self,x):\n",
        "    # x shape: (seq_length, N)\n",
        "    embedding = self.embedding(x)\n",
        "\n",
        "    # embedding shape: (seq_length, N, embedding_size)\n",
        "    output, (hidden, cell) = self.rnn(embedding)\n",
        "\n",
        "    return output, hidden, cell\n",
        "\n",
        "class Decoder(nn.Module):\n",
        "    def __init__(self, input_size, hidden_size, c_state_size, output_size):\n",
        "      super(Decoder, self).__init__()\n",
        "\n",
        "      self.rnn = nn.LSTM(input_size, hidden_size)\n",
        "      self.fc = nn.Linear(hidden_size, output_size)\n",
        "\n",
        "    def forward(self, x, hidden, cell):\n",
        "\n",
        "      outputs, (hidden, cell) = self.rnn(x,(hidden, cell)) \n",
        "      predictions = self.fc(hidden)\n",
        "\n",
        "      return predictions, hidden, cell\n",
        "\n",
        "\n",
        "class Seq2Seq(nn.Module):\n",
        "  def __init__(self, encoder, decoder):\n",
        "    super(Seq2Seq, self).__init__()\n",
        "    self.encoder = encoder\n",
        "    self.decoder = decoder\n",
        "\n",
        "  def forward(self, source):\n",
        "\n",
        "    op, hidden, cell = self.encoder(source)\n",
        "\n",
        "    # Grab start token\n",
        "    x = op\n",
        "\n",
        "    predictions, d_hidden, d_cell = self.decoder(x, hidden, cell)\n",
        "   \n",
        "    best_pred= predictions.squeeze(0)\n",
        "\n",
        "    return best_pred\n"
      ],
      "execution_count": null,
      "outputs": []
    },
    {
      "cell_type": "markdown",
      "metadata": {
        "id": "QasO1sz4f9-O"
      },
      "source": [
        "### Initialize Training Parameters\n",
        "\n",
        "---\n",
        "\n"
      ]
    },
    {
      "cell_type": "code",
      "metadata": {
        "id": "PoWiMY3LXw0G"
      },
      "source": [
        "## Training starts -\n",
        "\n",
        "# Training hyperparameters\n",
        "num_epochs = 10\n",
        "learning_rate = 0.001\n",
        "batch_size = 8\n",
        "\n",
        "# Model hyperparameters\n",
        "device = torch.device('cuda' if torch.cuda.is_available() else 'cpu')\n",
        "input_size_encoder = len(TEXT.vocab)\n",
        "input_size_decoder = 64 # Hidden dimention for output\n",
        "output_size = len(LABEL.vocab)\n",
        "encoder_embedding_size = 32\n",
        "\n",
        "cell_state_size = 64\n",
        "hidden_size = 64\n",
        "num_layers = 1\n",
        "\n",
        "# Tensorboard\n",
        "# writer = SummaryWriter(f'runs/loss_plot')\n",
        "# step = 0"
      ],
      "execution_count": null,
      "outputs": []
    },
    {
      "cell_type": "markdown",
      "metadata": {
        "id": "TERDOcWqgFlF"
      },
      "source": [
        "## Create Data Loaders"
      ]
    },
    {
      "cell_type": "code",
      "metadata": {
        "id": "jxlMR1JsgEyU"
      },
      "source": [
        "# Get iterators\n",
        "train_iterator, test_iterator = torchtext.legacy.data.BucketIterator.splits(\n",
        "    (trn, tst),\n",
        "    batch_size = batch_size,\n",
        "    sort_within_batch = True,\n",
        "    sort_key = lambda x: len(x.tweets),\n",
        "    device= device)\n"
      ],
      "execution_count": null,
      "outputs": []
    },
    {
      "cell_type": "markdown",
      "metadata": {
        "id": "jU1B0HlfgleZ"
      },
      "source": [
        "## Initialize Models, Optimizer and define Criterion"
      ]
    },
    {
      "cell_type": "code",
      "metadata": {
        "id": "9I2Y7MRSeZmp"
      },
      "source": [
        "encoder_net = Encoder(input_size_encoder, encoder_embedding_size, \n",
        "                      hidden_size).to(device)\n",
        "\n",
        "decoder_net = Decoder(input_size_decoder, hidden_size, cell_state_size, output_size).to(device)\n",
        "\n",
        "model = Seq2Seq(encoder_net, decoder_net).to(device)\n",
        "\n",
        "\n",
        "optimizer = optim.Adam(model.parameters(), lr = learning_rate)\n",
        "\n",
        "pad_idx = TEXT.vocab.stoi['<pad>']\n",
        "criterion = nn.CrossEntropyLoss(ignore_index=pad_idx).to(device)"
      ],
      "execution_count": null,
      "outputs": []
    },
    {
      "cell_type": "code",
      "metadata": {
        "id": "TZQswgYKpYdk"
      },
      "source": [
        "# define metric\n",
        "def binary_accuracy(preds, y):\n",
        "    #round predictions to the closest integer\n",
        "    _, predictions = torch.max(preds, 1)\n",
        "    \n",
        "    correct = (predictions == y).float() \n",
        "    acc = correct.sum() / len(correct)\n",
        "    return acc"
      ],
      "execution_count": null,
      "outputs": []
    },
    {
      "cell_type": "code",
      "metadata": {
        "id": "H0QRivXwp_MP"
      },
      "source": [
        "def train(model, iterator, optimizer, criterion):\n",
        "    \n",
        "    # initialize every epoch \n",
        "    epoch_loss = 0\n",
        "    epoch_acc = 0\n",
        "    \n",
        "    # set the model in training phase\n",
        "    model.train()  \n",
        "    \n",
        "    for batch_idx, batch in enumerate(train_iterator):\n",
        "\n",
        "        inp_data = batch.tweets.to(device)\n",
        "        target = batch.labels.to(device)\n",
        "\n",
        "        # output = model(inp_data, target)\n",
        "        output = model(inp_data)\n",
        "        \n",
        "        # resets the gradients after every batch\n",
        "        optimizer.zero_grad()   \n",
        "               \n",
        "        # # convert to 1D tensor\n",
        "        # predictions = model(batch.sentence).squeeze(1)\n",
        "        \n",
        "        # compute the loss\n",
        "        # loss = criterion(predictions, batch.label.long())\n",
        "        loss = criterion(output, target)        \n",
        "        \n",
        "        # compute the binary accuracy\n",
        "        acc = binary_accuracy(output, target)   \n",
        "        \n",
        "        # backpropage the loss and compute the gradients\n",
        "        loss.backward()       \n",
        "        \n",
        "        # clip weights\n",
        "        torch.nn.utils.clip_grad_norm_(model.parameters(), max_norm=1)\n",
        "\n",
        "        # update the weights\n",
        "        optimizer.step()      \n",
        "        \n",
        "        # loss and accuracy\n",
        "        epoch_loss += loss.item()  \n",
        "        epoch_acc += acc.item()    \n",
        "        \n",
        "    return epoch_loss / len(iterator), epoch_acc / len(iterator)"
      ],
      "execution_count": null,
      "outputs": []
    },
    {
      "cell_type": "code",
      "metadata": {
        "id": "m4Y5wloqqSPw"
      },
      "source": [
        "def evaluate(model, iterator, criterion):\n",
        "    \n",
        "    # initialize every epoch\n",
        "    epoch_loss = 0\n",
        "    epoch_acc = 0\n",
        "\n",
        "    # deactivating dropout layers\n",
        "    model.eval()\n",
        "    \n",
        "    # deactivates autograd\n",
        "    with torch.no_grad():\n",
        "    \n",
        "        for batch in iterator:\n",
        "                   \n",
        "            # convert to 1d tensor\n",
        "            # predictions = model(batch.sentence).squeeze(1)\n",
        "            inp_data = batch.tweets.to(device)\n",
        "            target = batch.labels.to(device)\n",
        "            output = model(inp_data)\n",
        "            # output = model(inp_data, target)\n",
        "            \n",
        "            # compute loss and accuracy\n",
        "            loss = criterion(output, batch.labels)\n",
        "            acc = binary_accuracy(output, batch.labels)\n",
        "            \n",
        "            # keep track of loss and accuracy\n",
        "            epoch_loss += loss.item()\n",
        "            epoch_acc += acc.item()\n",
        "        \n",
        "    return epoch_loss / len(iterator), epoch_acc / len(iterator)"
      ],
      "execution_count": null,
      "outputs": []
    },
    {
      "cell_type": "code",
      "metadata": {
        "colab": {
          "base_uri": "https://localhost:8080/"
        },
        "id": "jI-cxmj5qXx8",
        "outputId": "3c352b41-b2a8-4377-9628-2f6ae87d6c5f"
      },
      "source": [
        "N_EPOCHS = 10\n",
        "\n",
        "best_test_loss = float('inf')\n",
        "\n",
        "trn_loss = [] \n",
        "trn_acc = []\n",
        "tst_loss = [] \n",
        "tst_acc = [] \n",
        "\n",
        "for epoch in range(N_EPOCHS):\n",
        "    \n",
        "    # train the model\n",
        "    train_loss, train_acc = train(model, train_iterator, optimizer, criterion)\n",
        "    trn_loss.append(train_loss)\n",
        "    trn_acc.append(train_acc*100)\n",
        "    \n",
        "    # evaluate the model\n",
        "    test_loss, test_acc = evaluate(model, test_iterator, criterion)\n",
        "    tst_loss.append(test_loss)\n",
        "    tst_acc.append(test_acc*100)\n",
        "    \n",
        "    # # save the best model\n",
        "    # if test_loss < best_test_loss:\n",
        "    #     best_test_loss = test_loss\n",
        "    #     torch.save(model.state_dict(), 'saved_weights.pt')\n",
        "    \n",
        "    print(f'Epoch: {epoch+1}')\n",
        "    print(f'\\tTrain Loss: {train_loss:.3f} | Train Acc: {train_acc*100:.2f}%')\n",
        "    print(f'\\t Val. Loss: {test_loss:.3f} |  Val. Acc: {test_acc*100:.2f}% \\n')"
      ],
      "execution_count": null,
      "outputs": [
        {
          "output_type": "stream",
          "text": [
            "Epoch: 1\n",
            "\tTrain Loss: 0.050 | Train Acc: 72.08%\n",
            "\t Val. Loss: 0.614 |  Val. Acc: 68.27% \n",
            "\n",
            "Epoch: 2\n",
            "\tTrain Loss: 0.073 | Train Acc: 71.67%\n",
            "\t Val. Loss: 0.330 |  Val. Acc: 71.15% \n",
            "\n",
            "Epoch: 3\n",
            "\tTrain Loss: 0.026 | Train Acc: 72.50%\n",
            "\t Val. Loss: 0.330 |  Val. Acc: 72.36% \n",
            "\n",
            "Epoch: 4\n",
            "\tTrain Loss: 0.034 | Train Acc: 71.88%\n",
            "\t Val. Loss: 0.455 |  Val. Acc: 69.71% \n",
            "\n",
            "Epoch: 5\n",
            "\tTrain Loss: 0.042 | Train Acc: 72.29%\n",
            "\t Val. Loss: 0.480 |  Val. Acc: 70.19% \n",
            "\n",
            "Epoch: 6\n",
            "\tTrain Loss: 0.026 | Train Acc: 72.40%\n",
            "\t Val. Loss: 0.339 |  Val. Acc: 72.84% \n",
            "\n",
            "Epoch: 7\n",
            "\tTrain Loss: 0.016 | Train Acc: 72.40%\n",
            "\t Val. Loss: 0.357 |  Val. Acc: 72.60% \n",
            "\n",
            "Epoch: 8\n",
            "\tTrain Loss: 0.016 | Train Acc: 72.60%\n",
            "\t Val. Loss: 0.433 |  Val. Acc: 72.12% \n",
            "\n",
            "Epoch: 9\n",
            "\tTrain Loss: 0.002 | Train Acc: 72.92%\n",
            "\t Val. Loss: 0.408 |  Val. Acc: 73.08% \n",
            "\n",
            "Epoch: 10\n",
            "\tTrain Loss: 0.013 | Train Acc: 72.71%\n",
            "\t Val. Loss: 0.482 |  Val. Acc: 71.15% \n",
            "\n"
          ],
          "name": "stdout"
        }
      ]
    },
    {
      "cell_type": "code",
      "metadata": {
        "colab": {
          "base_uri": "https://localhost:8080/",
          "height": 626
        },
        "id": "XB7rrY53sFWa",
        "outputId": "116fb84c-d88f-4723-a6cb-009f6280656a"
      },
      "source": [
        "plt.style.use('ggplot')\n",
        "\n",
        "fig, axs = plt.subplots(1,2,figsize=(20,10))\n",
        "\n",
        "axs[0].plot(trn_loss, label = 'train loss')\n",
        "axs[0].plot(tst_loss, label = 'test loss')\n",
        "axs[0].legend(loc=\"upper right\")\n",
        "axs[0].set_title(\"Loss\")\n",
        "\n",
        "axs[1].plot(trn_acc,  label = 'train accuracy')\n",
        "axs[1].plot(tst_acc,  label = 'test accuracy')\n",
        "axs[1].legend(loc=\"lower right\")\n",
        "axs[1].set_title(\"Accuracy\")"
      ],
      "execution_count": null,
      "outputs": [
        {
          "output_type": "execute_result",
          "data": {
            "text/plain": [
              "Text(0.5, 1.0, 'Accuracy')"
            ]
          },
          "metadata": {
            "tags": []
          },
          "execution_count": 34
        },
        {
          "output_type": "display_data",
          "data": {
            "image/png": "[encoded data removed]",
            "text/plain": [
              "<Figure size 1440x720 with 2 Axes>"
            ]
          },
          "metadata": {
            "tags": []
          }
        }
      ]
    },
    {
      "cell_type": "code",
      "metadata": {
        "id": "NyKoeuPVyx__"
      },
      "source": [
        "def test_model(sentence):\n",
        "  tokenized = [tok.text for tok in nlp.tokenizer(sentence)]\n",
        "  indexed = [TEXT.vocab.stoi[t] for t in tokenized]\n",
        "  tensor = torch.LongTensor(indexed)\n",
        "  tensor = tensor.unsqueeze(1).to(device)\n",
        "\n",
        "  model.eval()\n",
        "  prediction = model(tensor)\n",
        "  return( [\"negative\", \"neutral\", \"positive\"][prediction.argmax()] )"
      ],
      "execution_count": null,
      "outputs": []
    },
    {
      "cell_type": "code",
      "metadata": {
        "colab": {
          "base_uri": "https://localhost:8080/"
        },
        "id": "6OLqdI4OzWey",
        "outputId": "4f38eb6f-964b-4ab9-e8af-b6acc5644802"
      },
      "source": [
        "sentence = test['tweets'].iloc[78]\n",
        "label = test['labels'].iloc[78]\n",
        "test_model(sentence), sentence, [\"negative\", \"neutral\", \"positive\"][label]"
      ],
      "execution_count": null,
      "outputs": [
        {
          "output_type": "execute_result",
          "data": {
            "text/plain": [
              "('positive',\n",
              " 'Poor Warin\\' Orin Hatch on a tear that Obama is \"going to throw the Mormon Church\" at Mitt #notactuallyconfirmed #mittless',\n",
              " 'negative')"
            ]
          },
          "metadata": {
            "tags": []
          },
          "execution_count": 36
        }
      ]
    },
    {
      "cell_type": "code",
      "metadata": {
        "colab": {
          "base_uri": "https://localhost:8080/"
        },
        "id": "ztbkNys105ko",
        "outputId": "f3033dd2-9ad0-4bdd-97d5-fea2f6169e44"
      },
      "source": [
        "sentence = 'RT @WhatTheFFacts: In his teen years, Obama has been known to use marijuana and cocaine.'\n",
        "label = 0\n",
        "test_model(sentence), sentence, [\"negative\", \"neutral\", \"positive\"][label]"
      ],
      "execution_count": null,
      "outputs": [
        {
          "output_type": "execute_result",
          "data": {
            "text/plain": [
              "('negative',\n",
              " 'RT @WhatTheFFacts: In his teen years, Obama has been known to use marijuana and cocaine.',\n",
              " 'negative')"
            ]
          },
          "metadata": {
            "tags": []
          },
          "execution_count": 37
        }
      ]
    },
    {
      "cell_type": "code",
      "metadata": {
        "id": "-Ff3g_0J9AYA"
      },
      "source": [
        ""
      ],
      "execution_count": null,
      "outputs": []
    }
  ]
}